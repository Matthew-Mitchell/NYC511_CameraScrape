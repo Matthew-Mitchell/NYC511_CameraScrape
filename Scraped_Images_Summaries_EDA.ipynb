{
 "cells": [
  {
   "cell_type": "code",
   "execution_count": 158,
   "metadata": {},
   "outputs": [],
   "source": [
    "import datetime\n",
    "from collections import Counter\n",
    "import os\n",
    "import sys\n",
    "import os.path, time\n",
    "import glob\n",
    "import re\n",
    "import matplotlib.pyplot as plt"
   ]
  },
  {
   "cell_type": "markdown",
   "metadata": {},
   "source": [
    "## File Checking"
   ]
  },
  {
   "cell_type": "code",
   "execution_count": 136,
   "metadata": {},
   "outputs": [
    {
     "data": {
      "text/plain": [
       "'/home/matt/Documents/Projects/NYC511_CameraScrape'"
      ]
     },
     "execution_count": 136,
     "metadata": {},
     "output_type": "execute_result"
    }
   ],
   "source": [
    "pwd"
   ]
  },
  {
   "cell_type": "code",
   "execution_count": 137,
   "metadata": {},
   "outputs": [
    {
     "name": "stdout",
     "output_type": "stream",
     "text": [
      "The autoreload extension is already loaded. To reload it, use:\n",
      "  %reload_ext autoreload\n"
     ]
    }
   ],
   "source": [
    "%load_ext autoreload\n",
    "%autoreload 1"
   ]
  },
  {
   "cell_type": "code",
   "execution_count": 138,
   "metadata": {},
   "outputs": [],
   "source": [
    "%aimport tt"
   ]
  },
  {
   "cell_type": "code",
   "execution_count": 194,
   "metadata": {},
   "outputs": [
    {
     "name": "stdout",
     "output_type": "stream",
     "text": [
      "906 ['images/Jackson_Ave_at_Thomson_Ave', 'images/Br_Br-20_S_Rdwy_FDR_Dr', 'images/C3-MLK-02-NB_at_Forest_Ave-Ex11'] ['images/BQE_E_B_at_Pearl_St', 'images/FDR_Dr_at_23_St', 'images/Park_Ave_at_96_St']\n",
      "Total Files: 21892\n",
      "Images scraped today: 1286\n",
      "Images scraped in the last week: 14267\n",
      "Additional files since last snapshot: count    120\n",
      "dtype: int64\n",
      "Total Size On Disk: 1.13 gb\n",
      "Last file: NYC_511_ImageScrape_File_Summary_as_of_11-05-2023.csv\n",
      "File: NYC_511_ImageScrape_File_Summary_as_of_11-05-2023.csv already exists. Do you wish to overwrite? (Y/N)y\n",
      "Overwriting file. Saving to: NYC_511_ImageScrape_File_Summary_as_of_11-05-2023.csv\n"
     ]
    },
    {
     "data": {
      "text/html": [
       "<div>\n",
       "<style scoped>\n",
       "    .dataframe tbody tr th:only-of-type {\n",
       "        vertical-align: middle;\n",
       "    }\n",
       "\n",
       "    .dataframe tbody tr th {\n",
       "        vertical-align: top;\n",
       "    }\n",
       "\n",
       "    .dataframe thead th {\n",
       "        text-align: right;\n",
       "    }\n",
       "</style>\n",
       "<table border=\"1\" class=\"dataframe\">\n",
       "  <thead>\n",
       "    <tr style=\"text-align: right;\">\n",
       "      <th></th>\n",
       "      <th>min</th>\n",
       "      <th>max</th>\n",
       "      <th>count</th>\n",
       "      <th>nimages_today</th>\n",
       "      <th>nimages_last_week</th>\n",
       "      <th>total_size_in_bytes</th>\n",
       "      <th>September 2023</th>\n",
       "      <th>November 2023</th>\n",
       "      <th>July 2023</th>\n",
       "    </tr>\n",
       "  </thead>\n",
       "  <tbody>\n",
       "    <tr>\n",
       "      <th>C2-BQE-08-EB_at_Atlantic_Ave-Ex27</th>\n",
       "      <td>2023-09-05 23:50:12</td>\n",
       "      <td>2023-11-05 08:55:12</td>\n",
       "      <td>29</td>\n",
       "      <td>4</td>\n",
       "      <td>19</td>\n",
       "      <td>1252568</td>\n",
       "      <td>10</td>\n",
       "      <td>19</td>\n",
       "      <td>NaN</td>\n",
       "    </tr>\n",
       "    <tr>\n",
       "      <th>C1-MDE-15-NB_at_Jerome_Ave-Ex13</th>\n",
       "      <td>2023-09-05 23:49:19</td>\n",
       "      <td>2023-11-05 08:55:11</td>\n",
       "      <td>29</td>\n",
       "      <td>4</td>\n",
       "      <td>19</td>\n",
       "      <td>881571</td>\n",
       "      <td>10</td>\n",
       "      <td>19</td>\n",
       "      <td>NaN</td>\n",
       "    </tr>\n",
       "    <tr>\n",
       "      <th>C2-BQE-02_WB_at_Union_St-Ex26</th>\n",
       "      <td>2023-09-05 23:49:20</td>\n",
       "      <td>2023-11-05 08:55:11</td>\n",
       "      <td>29</td>\n",
       "      <td>4</td>\n",
       "      <td>19</td>\n",
       "      <td>1260374</td>\n",
       "      <td>10</td>\n",
       "      <td>19</td>\n",
       "      <td>NaN</td>\n",
       "    </tr>\n",
       "    <tr>\n",
       "      <th>C1-MDE-14-NB_at_Mosholu_Pkwy-Ex12</th>\n",
       "      <td>2023-09-05 23:49:19</td>\n",
       "      <td>2023-11-05 08:55:11</td>\n",
       "      <td>29</td>\n",
       "      <td>4</td>\n",
       "      <td>19</td>\n",
       "      <td>960946</td>\n",
       "      <td>10</td>\n",
       "      <td>19</td>\n",
       "      <td>NaN</td>\n",
       "    </tr>\n",
       "    <tr>\n",
       "      <th>C1-TNE-01-SB_at_Otis-Av</th>\n",
       "      <td>2023-09-05 23:49:19</td>\n",
       "      <td>2023-11-05 08:55:07</td>\n",
       "      <td>28</td>\n",
       "      <td>3</td>\n",
       "      <td>18</td>\n",
       "      <td>804438</td>\n",
       "      <td>10</td>\n",
       "      <td>18</td>\n",
       "      <td>NaN</td>\n",
       "    </tr>\n",
       "  </tbody>\n",
       "</table>\n",
       "</div>"
      ],
      "text/plain": [
       "                                                  min                 max  \\\n",
       "C2-BQE-08-EB_at_Atlantic_Ave-Ex27 2023-09-05 23:50:12 2023-11-05 08:55:12   \n",
       "C1-MDE-15-NB_at_Jerome_Ave-Ex13   2023-09-05 23:49:19 2023-11-05 08:55:11   \n",
       "C2-BQE-02_WB_at_Union_St-Ex26     2023-09-05 23:49:20 2023-11-05 08:55:11   \n",
       "C1-MDE-14-NB_at_Mosholu_Pkwy-Ex12 2023-09-05 23:49:19 2023-11-05 08:55:11   \n",
       "C1-TNE-01-SB_at_Otis-Av           2023-09-05 23:49:19 2023-11-05 08:55:07   \n",
       "\n",
       "                                  count nimages_today nimages_last_week  \\\n",
       "C2-BQE-08-EB_at_Atlantic_Ave-Ex27    29             4                19   \n",
       "C1-MDE-15-NB_at_Jerome_Ave-Ex13      29             4                19   \n",
       "C2-BQE-02_WB_at_Union_St-Ex26        29             4                19   \n",
       "C1-MDE-14-NB_at_Mosholu_Pkwy-Ex12    29             4                19   \n",
       "C1-TNE-01-SB_at_Otis-Av              28             3                18   \n",
       "\n",
       "                                  total_size_in_bytes September 2023  \\\n",
       "C2-BQE-08-EB_at_Atlantic_Ave-Ex27             1252568             10   \n",
       "C1-MDE-15-NB_at_Jerome_Ave-Ex13                881571             10   \n",
       "C2-BQE-02_WB_at_Union_St-Ex26                 1260374             10   \n",
       "C1-MDE-14-NB_at_Mosholu_Pkwy-Ex12              960946             10   \n",
       "C1-TNE-01-SB_at_Otis-Av                        804438             10   \n",
       "\n",
       "                                  November 2023 July 2023  \n",
       "C2-BQE-08-EB_at_Atlantic_Ave-Ex27            19       NaN  \n",
       "C1-MDE-15-NB_at_Jerome_Ave-Ex13              19       NaN  \n",
       "C2-BQE-02_WB_at_Union_St-Ex26                19       NaN  \n",
       "C1-MDE-14-NB_at_Mosholu_Pkwy-Ex12            19       NaN  \n",
       "C1-TNE-01-SB_at_Otis-Av                      18       NaN  "
      ]
     },
     "execution_count": 194,
     "metadata": {},
     "output_type": "execute_result"
    }
   ],
   "source": [
    "df = tt.image_scrape_summary()\n",
    "df.head()"
   ]
  },
  {
   "cell_type": "code",
   "execution_count": 160,
   "metadata": {},
   "outputs": [
    {
     "data": {
      "image/png": "[encoded data removed]",
      "text/plain": [
       "<Figure size 640x480 with 1 Axes>"
      ]
     },
     "metadata": {},
     "output_type": "display_data"
    }
   ],
   "source": [
    "df['count'].hist()\n",
    "plt.title(\"Number of Images Scraped per NYC Camera Feed\");"
   ]
  },
  {
   "cell_type": "markdown",
   "metadata": {},
   "source": [
    "## Test Saving An Image"
   ]
  },
  {
   "cell_type": "code",
   "execution_count": null,
   "metadata": {},
   "outputs": [],
   "source": [
    "import urllib"
   ]
  },
  {
   "cell_type": "code",
   "execution_count": null,
   "metadata": {},
   "outputs": [],
   "source": [
    "img_url = \"https://webcams.nyctmc.org/api/cameras/eafc65f5-6ff9-4203-905f-3995b9fbc9eb/image?t=1693970292722\"\n",
    "img_filename = \"sample_camera_output_urllib.jpg\"\n",
    "urllib.request.urlretrieve(img_url, img_filename)"
   ]
  },
  {
   "cell_type": "code",
   "execution_count": null,
   "metadata": {},
   "outputs": [],
   "source": [
    "pwd"
   ]
  },
  {
   "cell_type": "markdown",
   "metadata": {},
   "source": [
    "## Previewing Images"
   ]
  },
  {
   "cell_type": "code",
   "execution_count": null,
   "metadata": {},
   "outputs": [],
   "source": [
    "from PIL import Image, ImageDraw\n",
    "from matplotlib.pyplot import imshow, imread\n",
    "import glob"
   ]
  },
  {
   "cell_type": "code",
   "execution_count": null,
   "metadata": {},
   "outputs": [],
   "source": [
    "files = glob.glob(\"images/**/*.png\")\n",
    "print(len(files))\n",
    "files[:10]"
   ]
  },
  {
   "cell_type": "code",
   "execution_count": null,
   "metadata": {},
   "outputs": [],
   "source": [
    "imgs = []\n",
    "for f in files[:10]:\n",
    "    img = Image.open(f)#imread(f) #imread will read in as NumPy array instead...\n",
    "    imgs.append(img)\n",
    "print(len(imgs))\n",
    "imshow(imgs[0])"
   ]
  },
  {
   "cell_type": "markdown",
   "metadata": {},
   "source": [
    "## Dev Area"
   ]
  },
  {
   "cell_type": "code",
   "execution_count": 153,
   "metadata": {},
   "outputs": [
    {
     "name": "stdout",
     "output_type": "stream",
     "text": [
      "Last file: NYC_511_ImageScrape_File_Summary_as_of_11-04-2023.csv\n",
      "Process took: 0:00:00.000802\n"
     ]
    }
   ],
   "source": [
    "start = datetime.datetime.now()\n",
    "\n",
    "exfilename = \"NYC_511_ImageScrape_File_Summary_as_of_{}.csv\".format(now.strftime(\"%m-%d-%Y\"))\n",
    "previous_snapshots = glob.glob(\"NYC_511_ImageScrape_File_Summary_as_of_*.csv\")\n",
    "\n",
    "def extract_filetime(filename):\n",
    "    try:\n",
    "        date_str = re.findall(\".*?(\\d){2}-(\\d){2}-(\\d){4}\\.csv\",x)[0]\n",
    "        return pd.to_datetime(date_str)\n",
    "    except:\n",
    "        return None\n",
    "    \n",
    "previous_snapshots = sorted(previous_snapshots, key=lambda x: extract_filetime(x))\n",
    "last_file = previous_snapshots[-1]\n",
    "print(\"Last file: {}\".format(last_file))\n",
    "\n",
    "end = datetime.datetime.now()\n",
    "elapsed = end - start\n",
    "print(\"Process took: {}\".format(elapsed))\n",
    "\n",
    "previous_total = pd.read_csv(last_file, usecols=['count']).sum()\n"
   ]
  },
  {
   "cell_type": "code",
   "execution_count": 155,
   "metadata": {},
   "outputs": [
    {
     "name": "stdout",
     "output_type": "stream",
     "text": [
      "601 ns ± 13 ns per loop (mean ± std. dev. of 7 runs, 1,000,000 loops each)\n"
     ]
    }
   ],
   "source": [
    "%%timeit\n",
    "start = datetime.datetime.now()\n",
    "end = datetime.datetime.now()\n",
    "elapsed = end - start\n",
    "# print(\"Process took: {}\".format(elapsed))"
   ]
  },
  {
   "cell_type": "code",
   "execution_count": 148,
   "metadata": {},
   "outputs": [
    {
     "name": "stdout",
     "output_type": "stream",
     "text": [
      "883 µs ± 6.81 µs per loop (mean ± std. dev. of 7 runs, 1,000 loops each)\n"
     ]
    }
   ],
   "source": [
    "%%timeit\n",
    "reload = pd.read_csv(last_file, usecols=['count'])"
   ]
  },
  {
   "cell_type": "code",
   "execution_count": 156,
   "metadata": {},
   "outputs": [
    {
     "name": "stdout",
     "output_type": "stream",
     "text": [
      "1.03 ms ± 22.2 µs per loop (mean ± std. dev. of 7 runs, 1,000 loops each)\n"
     ]
    }
   ],
   "source": [
    "%%timeit\n",
    "pd.read_csv(last_file, usecols=['count']).sum()"
   ]
  }
 ],
 "metadata": {
  "kernelspec": {
   "display_name": "Python [conda env:robots]",
   "language": "python",
   "name": "conda-env-robots-py"
  },
  "language_info": {
   "codemirror_mode": {
    "name": "ipython",
    "version": 3
   },
   "file_extension": ".py",
   "mimetype": "text/x-python",
   "name": "python",
   "nbconvert_exporter": "python",
   "pygments_lexer": "ipython3",
   "version": "3.9.17"
  }
 },
 "nbformat": 4,
 "nbformat_minor": 2
}
