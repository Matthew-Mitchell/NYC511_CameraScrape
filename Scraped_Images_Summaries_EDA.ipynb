{
 "cells": [
  {
   "cell_type": "code",
   "execution_count": 1,
   "metadata": {},
   "outputs": [],
   "source": [
    "import datetime\n",
    "from collections import Counter\n",
    "import os\n",
    "import sys\n",
    "import os.path, time\n",
    "import glob\n",
    "import re\n",
    "import matplotlib.pyplot as plt"
   ]
  },
  {
   "cell_type": "markdown",
   "metadata": {},
   "source": [
    "## File Checking"
   ]
  },
  {
   "cell_type": "code",
   "execution_count": 2,
   "metadata": {},
   "outputs": [
    {
     "data": {
      "text/plain": [
       "'/home/matt/Documents/Projects/NYC511_CameraScrape'"
      ]
     },
     "execution_count": 2,
     "metadata": {},
     "output_type": "execute_result"
    }
   ],
   "source": [
    "pwd"
   ]
  },
  {
   "cell_type": "code",
   "execution_count": 3,
   "metadata": {},
   "outputs": [],
   "source": [
    "%load_ext autoreload\n",
    "%autoreload 1"
   ]
  },
  {
   "cell_type": "code",
   "execution_count": 4,
   "metadata": {},
   "outputs": [],
   "source": [
    "%aimport tt"
   ]
  },
  {
   "cell_type": "code",
   "execution_count": 5,
   "metadata": {},
   "outputs": [
    {
     "name": "stdout",
     "output_type": "stream",
     "text": [
      "915 ['images/Jackson_Ave_at_Thomson_Ave', 'images/Br_Br-20_S_Rdwy_FDR_Dr', 'images/C3-MLK-02-NB_at_Forest_Ave-Ex11'] ['images/BQE_E_B_at_Pearl_St', 'images/FDR_Dr_at_23_St', 'images/Park_Ave_at_96_St']\n",
      "Total Files: 42,047\n",
      "Images scraped today: 955\n",
      "Images scraped in the last week: 34,422\n",
      "Additional files since last snapshot: 955\n",
      "Total Size On Disk: 1.57 gb\n",
      "Number of cameras with data today: 180 of 915 (20.00%)\n",
      "Last file: NYC_511_ImageScrape_File_Summary_as_of_11-07-2023.csv\n",
      "Saving to: NYC_511_ImageScrape_File_Summary_as_of_11-10-2023.csv\n"
     ]
    },
    {
     "data": {
      "text/html": [
       "<div>\n",
       "<style scoped>\n",
       "    .dataframe tbody tr th:only-of-type {\n",
       "        vertical-align: middle;\n",
       "    }\n",
       "\n",
       "    .dataframe tbody tr th {\n",
       "        vertical-align: top;\n",
       "    }\n",
       "\n",
       "    .dataframe thead th {\n",
       "        text-align: right;\n",
       "    }\n",
       "</style>\n",
       "<table border=\"1\" class=\"dataframe\">\n",
       "  <thead>\n",
       "    <tr style=\"text-align: right;\">\n",
       "      <th></th>\n",
       "      <th>min</th>\n",
       "      <th>max</th>\n",
       "      <th>count</th>\n",
       "      <th>nimages_today</th>\n",
       "      <th>nimages_last_week</th>\n",
       "      <th>total_size_in_bytes</th>\n",
       "      <th>November 2023</th>\n",
       "      <th>September 2023</th>\n",
       "      <th>July 2023</th>\n",
       "    </tr>\n",
       "  </thead>\n",
       "  <tbody>\n",
       "    <tr>\n",
       "      <th>Cross_Island_Pkwy_at_Braddock_Ave_</th>\n",
       "      <td>2023-09-12 17:28:56</td>\n",
       "      <td>2023-11-10 13:21:42</td>\n",
       "      <td>50</td>\n",
       "      <td>5</td>\n",
       "      <td>45</td>\n",
       "      <td>1087181</td>\n",
       "      <td>45</td>\n",
       "      <td>5</td>\n",
       "      <td>NaN</td>\n",
       "    </tr>\n",
       "    <tr>\n",
       "      <th>Cross_Island_Expy_at_14_Av</th>\n",
       "      <td>2023-09-12 17:28:03</td>\n",
       "      <td>2023-11-10 13:21:42</td>\n",
       "      <td>55</td>\n",
       "      <td>5</td>\n",
       "      <td>50</td>\n",
       "      <td>3424291</td>\n",
       "      <td>50</td>\n",
       "      <td>5</td>\n",
       "      <td>NaN</td>\n",
       "    </tr>\n",
       "    <tr>\n",
       "      <th>Cross_Bronx_Expy_at_Arthur_Av</th>\n",
       "      <td>2023-09-12 17:28:03</td>\n",
       "      <td>2023-11-10 13:21:42</td>\n",
       "      <td>55</td>\n",
       "      <td>5</td>\n",
       "      <td>50</td>\n",
       "      <td>1156400</td>\n",
       "      <td>50</td>\n",
       "      <td>5</td>\n",
       "      <td>NaN</td>\n",
       "    </tr>\n",
       "    <tr>\n",
       "      <th>Cross_Island_Pkwy_at_113_Av</th>\n",
       "      <td>2023-09-12 17:28:56</td>\n",
       "      <td>2023-11-10 13:21:42</td>\n",
       "      <td>50</td>\n",
       "      <td>5</td>\n",
       "      <td>45</td>\n",
       "      <td>1051436</td>\n",
       "      <td>45</td>\n",
       "      <td>5</td>\n",
       "      <td>NaN</td>\n",
       "    </tr>\n",
       "    <tr>\n",
       "      <th>Cross_Bay_Blvd_at_Wildlife_Refu</th>\n",
       "      <td>2023-09-12 17:28:03</td>\n",
       "      <td>2023-11-10 13:21:42</td>\n",
       "      <td>55</td>\n",
       "      <td>5</td>\n",
       "      <td>50</td>\n",
       "      <td>834870</td>\n",
       "      <td>50</td>\n",
       "      <td>5</td>\n",
       "      <td>NaN</td>\n",
       "    </tr>\n",
       "  </tbody>\n",
       "</table>\n",
       "</div>"
      ],
      "text/plain": [
       "                                                   min                 max  \\\n",
       "Cross_Island_Pkwy_at_Braddock_Ave_ 2023-09-12 17:28:56 2023-11-10 13:21:42   \n",
       "Cross_Island_Expy_at_14_Av         2023-09-12 17:28:03 2023-11-10 13:21:42   \n",
       "Cross_Bronx_Expy_at_Arthur_Av      2023-09-12 17:28:03 2023-11-10 13:21:42   \n",
       "Cross_Island_Pkwy_at_113_Av        2023-09-12 17:28:56 2023-11-10 13:21:42   \n",
       "Cross_Bay_Blvd_at_Wildlife_Refu    2023-09-12 17:28:03 2023-11-10 13:21:42   \n",
       "\n",
       "                                   count nimages_today nimages_last_week  \\\n",
       "Cross_Island_Pkwy_at_Braddock_Ave_    50             5                45   \n",
       "Cross_Island_Expy_at_14_Av            55             5                50   \n",
       "Cross_Bronx_Expy_at_Arthur_Av         55             5                50   \n",
       "Cross_Island_Pkwy_at_113_Av           50             5                45   \n",
       "Cross_Bay_Blvd_at_Wildlife_Refu       55             5                50   \n",
       "\n",
       "                                   total_size_in_bytes November 2023  \\\n",
       "Cross_Island_Pkwy_at_Braddock_Ave_             1087181            45   \n",
       "Cross_Island_Expy_at_14_Av                     3424291            50   \n",
       "Cross_Bronx_Expy_at_Arthur_Av                  1156400            50   \n",
       "Cross_Island_Pkwy_at_113_Av                    1051436            45   \n",
       "Cross_Bay_Blvd_at_Wildlife_Refu                 834870            50   \n",
       "\n",
       "                                   September 2023 July 2023  \n",
       "Cross_Island_Pkwy_at_Braddock_Ave_              5       NaN  \n",
       "Cross_Island_Expy_at_14_Av                      5       NaN  \n",
       "Cross_Bronx_Expy_at_Arthur_Av                   5       NaN  \n",
       "Cross_Island_Pkwy_at_113_Av                     5       NaN  \n",
       "Cross_Bay_Blvd_at_Wildlife_Refu                 5       NaN  "
      ]
     },
     "execution_count": 5,
     "metadata": {},
     "output_type": "execute_result"
    }
   ],
   "source": [
    "df = tt.image_scrape_summary()\n",
    "df.head()"
   ]
  },
  {
   "cell_type": "code",
   "execution_count": 6,
   "metadata": {},
   "outputs": [
    {
     "name": "stdout",
     "output_type": "stream",
     "text": [
      "Last Image Scraped: 2023-11-10 13:21:42\n"
     ]
    }
   ],
   "source": [
    "last_image_scraped_time = df['max'].max()\n",
    "print(\"Last Image Scraped: {}\".format(last_image_scraped_time))"
   ]
  },
  {
   "cell_type": "code",
   "execution_count": 7,
   "metadata": {},
   "outputs": [
    {
     "name": "stdout",
     "output_type": "stream",
     "text": [
      "Number of cameras with data in past 1 minute: 9 of 906 (1.00%)\n",
      "Number of cameras with data in past 5 minutes: 45 of 906 (5.00%)\n",
      "Number of cameras with data in past 15 minutes: 118 of 906 (13.00%)\n",
      "Number of cameras with data in past 1 hour: 360 of 906 (40.00%)\n",
      "Number of cameras with data in past 4 hours: 825 of 906 (91.00%)\n",
      "Number of cameras with data in past 12 hours: 826 of 906 (91.00%)\n"
     ]
    }
   ],
   "source": [
    "now = datetime.datetime.now()\n",
    "df['time_since_last_scrape'] = now - df['max']\n",
    "\n",
    "for i in [1,5,15,60,60*4, 60*12]:\n",
    "    tt.print_cam_summary_past_nminutes(i, df)"
   ]
  },
  {
   "cell_type": "code",
   "execution_count": 251,
   "metadata": {},
   "outputs": [
    {
     "data": {
      "image/png": "[encoded data removed]",
      "text/plain": [
       "<Figure size 640x480 with 1 Axes>"
      ]
     },
     "metadata": {},
     "output_type": "display_data"
    }
   ],
   "source": [
    "df['count'].hist()\n",
    "plt.title(\"Number of Images Scraped per NYC Camera Feed\");"
   ]
  },
  {
   "cell_type": "markdown",
   "metadata": {},
   "source": [
    "## Test Saving An Image"
   ]
  },
  {
   "cell_type": "code",
   "execution_count": null,
   "metadata": {},
   "outputs": [],
   "source": [
    "import urllib"
   ]
  },
  {
   "cell_type": "code",
   "execution_count": null,
   "metadata": {},
   "outputs": [],
   "source": [
    "img_url = \"https://webcams.nyctmc.org/api/cameras/eafc65f5-6ff9-4203-905f-3995b9fbc9eb/image?t=1693970292722\"\n",
    "img_filename = \"sample_camera_output_urllib.jpg\"\n",
    "urllib.request.urlretrieve(img_url, img_filename)"
   ]
  },
  {
   "cell_type": "code",
   "execution_count": null,
   "metadata": {},
   "outputs": [],
   "source": [
    "pwd"
   ]
  },
  {
   "cell_type": "markdown",
   "metadata": {},
   "source": [
    "## Previewing Images"
   ]
  },
  {
   "cell_type": "code",
   "execution_count": null,
   "metadata": {},
   "outputs": [],
   "source": [
    "from PIL import Image, ImageDraw\n",
    "from matplotlib.pyplot import imshow, imread\n",
    "import glob"
   ]
  },
  {
   "cell_type": "code",
   "execution_count": null,
   "metadata": {},
   "outputs": [],
   "source": [
    "files = glob.glob(\"images/**/*.png\")\n",
    "print(len(files))\n",
    "files[:10]"
   ]
  },
  {
   "cell_type": "code",
   "execution_count": null,
   "metadata": {},
   "outputs": [],
   "source": [
    "imgs = []\n",
    "for f in files[:10]:\n",
    "    img = Image.open(f)#imread(f) #imread will read in as NumPy array instead...\n",
    "    imgs.append(img)\n",
    "print(len(imgs))\n",
    "imshow(imgs[0])"
   ]
  },
  {
   "cell_type": "markdown",
   "metadata": {},
   "source": [
    "## Dev Area"
   ]
  },
  {
   "cell_type": "code",
   "execution_count": 153,
   "metadata": {},
   "outputs": [
    {
     "name": "stdout",
     "output_type": "stream",
     "text": [
      "Last file: NYC_511_ImageScrape_File_Summary_as_of_11-04-2023.csv\n",
      "Process took: 0:00:00.000802\n"
     ]
    }
   ],
   "source": [
    "start = datetime.datetime.now()\n",
    "\n",
    "exfilename = \"NYC_511_ImageScrape_File_Summary_as_of_{}.csv\".format(now.strftime(\"%m-%d-%Y\"))\n",
    "previous_snapshots = glob.glob(\"NYC_511_ImageScrape_File_Summary_as_of_*.csv\")\n",
    "\n",
    "def extract_filetime(filename):\n",
    "    try:\n",
    "        date_str = re.findall(\".*?(\\d){2}-(\\d){2}-(\\d){4}\\.csv\",x)[0]\n",
    "        return pd.to_datetime(date_str)\n",
    "    except:\n",
    "        return None\n",
    "    \n",
    "previous_snapshots = sorted(previous_snapshots, key=lambda x: extract_filetime(x))\n",
    "last_file = previous_snapshots[-1]\n",
    "print(\"Last file: {}\".format(last_file))\n",
    "\n",
    "end = datetime.datetime.now()\n",
    "elapsed = end - start\n",
    "print(\"Process took: {}\".format(elapsed))\n",
    "\n",
    "previous_total = pd.read_csv(last_file, usecols=['count']).sum()\n"
   ]
  },
  {
   "cell_type": "code",
   "execution_count": 155,
   "metadata": {},
   "outputs": [
    {
     "name": "stdout",
     "output_type": "stream",
     "text": [
      "601 ns ± 13 ns per loop (mean ± std. dev. of 7 runs, 1,000,000 loops each)\n"
     ]
    }
   ],
   "source": [
    "%%timeit\n",
    "start = datetime.datetime.now()\n",
    "end = datetime.datetime.now()\n",
    "elapsed = end - start\n",
    "# print(\"Process took: {}\".format(elapsed))"
   ]
  },
  {
   "cell_type": "code",
   "execution_count": 148,
   "metadata": {},
   "outputs": [
    {
     "name": "stdout",
     "output_type": "stream",
     "text": [
      "883 µs ± 6.81 µs per loop (mean ± std. dev. of 7 runs, 1,000 loops each)\n"
     ]
    }
   ],
   "source": [
    "%%timeit\n",
    "reload = pd.read_csv(last_file, usecols=['count'])"
   ]
  },
  {
   "cell_type": "code",
   "execution_count": 156,
   "metadata": {},
   "outputs": [
    {
     "name": "stdout",
     "output_type": "stream",
     "text": [
      "1.03 ms ± 22.2 µs per loop (mean ± std. dev. of 7 runs, 1,000 loops each)\n"
     ]
    }
   ],
   "source": [
    "%%timeit\n",
    "pd.read_csv(last_file, usecols=['count']).sum()"
   ]
  }
 ],
 "metadata": {
  "kernelspec": {
   "display_name": "Python 3 (ipykernel)",
   "language": "python",
   "name": "python3"
  },
  "language_info": {
   "codemirror_mode": {
    "name": "ipython",
    "version": 3
   },
   "file_extension": ".py",
   "mimetype": "text/x-python",
   "name": "python",
   "nbconvert_exporter": "python",
   "pygments_lexer": "ipython3",
   "version": "3.9.17"
  }
 },
 "nbformat": 4,
 "nbformat_minor": 2
}
