{
 "cells": [
  {
   "cell_type": "code",
   "execution_count": 135,
   "metadata": {},
   "outputs": [],
   "source": [
    "import datetime\n",
    "from collections import Counter\n",
    "import os\n",
    "import sys\n",
    "import os.path, time\n",
    "import glob"
   ]
  },
  {
   "cell_type": "markdown",
   "metadata": {},
   "source": [
    "## File Checking"
   ]
  },
  {
   "cell_type": "code",
   "execution_count": 136,
   "metadata": {},
   "outputs": [
    {
     "data": {
      "text/plain": [
       "'/home/matt/Documents/Projects/NYC511_CameraScrape'"
      ]
     },
     "execution_count": 136,
     "metadata": {},
     "output_type": "execute_result"
    }
   ],
   "source": [
    "pwd"
   ]
  },
  {
   "cell_type": "code",
   "execution_count": 137,
   "metadata": {},
   "outputs": [
    {
     "name": "stdout",
     "output_type": "stream",
     "text": [
      "The autoreload extension is already loaded. To reload it, use:\n",
      "  %reload_ext autoreload\n"
     ]
    }
   ],
   "source": [
    "%load_ext autoreload\n",
    "%autoreload 1"
   ]
  },
  {
   "cell_type": "code",
   "execution_count": 138,
   "metadata": {},
   "outputs": [],
   "source": [
    "%aimport tt"
   ]
  },
  {
   "cell_type": "code",
   "execution_count": 139,
   "metadata": {},
   "outputs": [
    {
     "name": "stdout",
     "output_type": "stream",
     "text": [
      "906 ['images/Jackson_Ave_at_Thomson_Ave', 'images/Br_Br-20_S_Rdwy_FDR_Dr', 'images/C3-MLK-02-NB_at_Forest_Ave-Ex11'] ['images/BQE_E_B_at_Pearl_St', 'images/FDR_Dr_at_23_St', 'images/Park_Ave_at_96_St']\n",
      "Total Files: 20561\n",
      "Images scraped today: 12936\n",
      "Images scraped in the last week: 12936\n",
      "File: NYC_511_ImageScrape_File_Summary_as_of_11-04-2023.csv already exists. Do you wish to overwrite? (Y/N)Y\n",
      "Overwriting file. Saving to: NYC_511_ImageScrape_File_Summary_as_of_11-04-2023.csv\n"
     ]
    },
    {
     "data": {
      "text/html": [
       "<div>\n",
       "<style scoped>\n",
       "    .dataframe tbody tr th:only-of-type {\n",
       "        vertical-align: middle;\n",
       "    }\n",
       "\n",
       "    .dataframe tbody tr th {\n",
       "        vertical-align: top;\n",
       "    }\n",
       "\n",
       "    .dataframe thead th {\n",
       "        text-align: right;\n",
       "    }\n",
       "</style>\n",
       "<table border=\"1\" class=\"dataframe\">\n",
       "  <thead>\n",
       "    <tr style=\"text-align: right;\">\n",
       "      <th></th>\n",
       "      <th>min</th>\n",
       "      <th>max</th>\n",
       "      <th>count</th>\n",
       "      <th>nimages_today</th>\n",
       "      <th>nimages_last_week</th>\n",
       "      <th>September 2023</th>\n",
       "      <th>November 2023</th>\n",
       "      <th>July 2023</th>\n",
       "    </tr>\n",
       "  </thead>\n",
       "  <tbody>\n",
       "    <tr>\n",
       "      <th>West_Shore_Expy_at_Arden_Av</th>\n",
       "      <td>2023-11-04 17:10:02</td>\n",
       "      <td>2023-11-04 20:39:56</td>\n",
       "      <td>15</td>\n",
       "      <td>15</td>\n",
       "      <td>15</td>\n",
       "      <td>NaN</td>\n",
       "      <td>15</td>\n",
       "      <td>NaN</td>\n",
       "    </tr>\n",
       "    <tr>\n",
       "      <th>West_Houston_at_Varick_St</th>\n",
       "      <td>2023-11-04 17:10:02</td>\n",
       "      <td>2023-11-04 20:39:56</td>\n",
       "      <td>15</td>\n",
       "      <td>15</td>\n",
       "      <td>15</td>\n",
       "      <td>NaN</td>\n",
       "      <td>15</td>\n",
       "      <td>NaN</td>\n",
       "    </tr>\n",
       "    <tr>\n",
       "      <th>West_Shore_Expy_at_Bloomingdale_Rd</th>\n",
       "      <td>2023-11-04 17:10:02</td>\n",
       "      <td>2023-11-04 20:39:56</td>\n",
       "      <td>15</td>\n",
       "      <td>15</td>\n",
       "      <td>15</td>\n",
       "      <td>NaN</td>\n",
       "      <td>15</td>\n",
       "      <td>NaN</td>\n",
       "    </tr>\n",
       "    <tr>\n",
       "      <th>WBB-8_NIR_Bklyn_Anch_Kent_Av</th>\n",
       "      <td>2023-11-04 17:10:02</td>\n",
       "      <td>2023-11-04 20:39:55</td>\n",
       "      <td>15</td>\n",
       "      <td>15</td>\n",
       "      <td>15</td>\n",
       "      <td>NaN</td>\n",
       "      <td>15</td>\n",
       "      <td>NaN</td>\n",
       "    </tr>\n",
       "    <tr>\n",
       "      <th>West_Houston_at_Hudson_St</th>\n",
       "      <td>2023-11-04 17:10:02</td>\n",
       "      <td>2023-11-04 20:39:55</td>\n",
       "      <td>15</td>\n",
       "      <td>15</td>\n",
       "      <td>15</td>\n",
       "      <td>NaN</td>\n",
       "      <td>15</td>\n",
       "      <td>NaN</td>\n",
       "    </tr>\n",
       "  </tbody>\n",
       "</table>\n",
       "</div>"
      ],
      "text/plain": [
       "                                                   min                 max  \\\n",
       "West_Shore_Expy_at_Arden_Av        2023-11-04 17:10:02 2023-11-04 20:39:56   \n",
       "West_Houston_at_Varick_St          2023-11-04 17:10:02 2023-11-04 20:39:56   \n",
       "West_Shore_Expy_at_Bloomingdale_Rd 2023-11-04 17:10:02 2023-11-04 20:39:56   \n",
       "WBB-8_NIR_Bklyn_Anch_Kent_Av       2023-11-04 17:10:02 2023-11-04 20:39:55   \n",
       "West_Houston_at_Hudson_St          2023-11-04 17:10:02 2023-11-04 20:39:55   \n",
       "\n",
       "                                   count nimages_today nimages_last_week  \\\n",
       "West_Shore_Expy_at_Arden_Av           15            15                15   \n",
       "West_Houston_at_Varick_St             15            15                15   \n",
       "West_Shore_Expy_at_Bloomingdale_Rd    15            15                15   \n",
       "WBB-8_NIR_Bklyn_Anch_Kent_Av          15            15                15   \n",
       "West_Houston_at_Hudson_St             15            15                15   \n",
       "\n",
       "                                   September 2023 November 2023 July 2023  \n",
       "West_Shore_Expy_at_Arden_Av                   NaN            15       NaN  \n",
       "West_Houston_at_Varick_St                     NaN            15       NaN  \n",
       "West_Shore_Expy_at_Bloomingdale_Rd            NaN            15       NaN  \n",
       "WBB-8_NIR_Bklyn_Anch_Kent_Av                  NaN            15       NaN  \n",
       "West_Houston_at_Hudson_St                     NaN            15       NaN  "
      ]
     },
     "execution_count": 139,
     "metadata": {},
     "output_type": "execute_result"
    }
   ],
   "source": [
    "df = tt.image_scrape_summary()\n",
    "df.head()"
   ]
  },
  {
   "cell_type": "code",
   "execution_count": 141,
   "metadata": {},
   "outputs": [
    {
     "data": {
      "text/plain": [
       "<Axes: >"
      ]
     },
     "execution_count": 141,
     "metadata": {},
     "output_type": "execute_result"
    },
    {
     "data": {
      "image/png": "[encoded data removed]",
      "text/plain": [
       "<Figure size 640x480 with 1 Axes>"
      ]
     },
     "metadata": {},
     "output_type": "display_data"
    }
   ],
   "source": [
    "df['count'].hist()\n",
    "plt.title(\"Number of Images Scraped per NYC Camera Feed\")"
   ]
  },
  {
   "cell_type": "markdown",
   "metadata": {},
   "source": [
    "## Test Saving An Image"
   ]
  },
  {
   "cell_type": "code",
   "execution_count": null,
   "metadata": {},
   "outputs": [],
   "source": [
    "import urllib"
   ]
  },
  {
   "cell_type": "code",
   "execution_count": null,
   "metadata": {},
   "outputs": [],
   "source": [
    "img_url = \"https://webcams.nyctmc.org/api/cameras/eafc65f5-6ff9-4203-905f-3995b9fbc9eb/image?t=1693970292722\"\n",
    "img_filename = \"sample_camera_output_urllib.jpg\"\n",
    "urllib.request.urlretrieve(img_url, img_filename)"
   ]
  },
  {
   "cell_type": "code",
   "execution_count": null,
   "metadata": {},
   "outputs": [],
   "source": [
    "pwd"
   ]
  },
  {
   "cell_type": "markdown",
   "metadata": {},
   "source": [
    "## Previewing Images"
   ]
  },
  {
   "cell_type": "code",
   "execution_count": null,
   "metadata": {},
   "outputs": [],
   "source": [
    "from PIL import Image, ImageDraw\n",
    "from matplotlib.pyplot import imshow, imread\n",
    "import glob"
   ]
  },
  {
   "cell_type": "code",
   "execution_count": null,
   "metadata": {},
   "outputs": [],
   "source": [
    "files = glob.glob(\"images/**/*.png\")\n",
    "print(len(files))\n",
    "files[:10]"
   ]
  },
  {
   "cell_type": "code",
   "execution_count": null,
   "metadata": {},
   "outputs": [],
   "source": [
    "imgs = []\n",
    "for f in files[:10]:\n",
    "    img = Image.open(f)#imread(f) #imread will read in as NumPy array instead...\n",
    "    imgs.append(img)\n",
    "print(len(imgs))\n",
    "imshow(imgs[0])"
   ]
  },
  {
   "cell_type": "code",
   "execution_count": null,
   "metadata": {},
   "outputs": [],
   "source": []
  }
 ],
 "metadata": {
  "kernelspec": {
   "display_name": "Python [conda env:robots]",
   "language": "python",
   "name": "conda-env-robots-py"
  },
  "language_info": {
   "codemirror_mode": {
    "name": "ipython",
    "version": 3
   },
   "file_extension": ".py",
   "mimetype": "text/x-python",
   "name": "python",
   "nbconvert_exporter": "python",
   "pygments_lexer": "ipython3",
   "version": "3.9.17"
  }
 },
 "nbformat": 4,
 "nbformat_minor": 2
}
