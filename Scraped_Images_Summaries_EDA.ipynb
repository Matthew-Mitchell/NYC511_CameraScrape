{
 "cells": [
  {
   "cell_type": "code",
   "execution_count": 158,
   "metadata": {},
   "outputs": [],
   "source": [
    "import datetime\n",
    "from collections import Counter\n",
    "import os\n",
    "import sys\n",
    "import os.path, time\n",
    "import glob\n",
    "import re\n",
    "import matplotlib.pyplot as plt"
   ]
  },
  {
   "cell_type": "markdown",
   "metadata": {},
   "source": [
    "## File Checking"
   ]
  },
  {
   "cell_type": "code",
   "execution_count": 136,
   "metadata": {},
   "outputs": [
    {
     "data": {
      "text/plain": [
       "'/home/matt/Documents/Projects/NYC511_CameraScrape'"
      ]
     },
     "execution_count": 136,
     "metadata": {},
     "output_type": "execute_result"
    }
   ],
   "source": [
    "pwd"
   ]
  },
  {
   "cell_type": "code",
   "execution_count": 137,
   "metadata": {},
   "outputs": [
    {
     "name": "stdout",
     "output_type": "stream",
     "text": [
      "The autoreload extension is already loaded. To reload it, use:\n",
      "  %reload_ext autoreload\n"
     ]
    }
   ],
   "source": [
    "%load_ext autoreload\n",
    "%autoreload 1"
   ]
  },
  {
   "cell_type": "code",
   "execution_count": 138,
   "metadata": {},
   "outputs": [],
   "source": [
    "%aimport tt"
   ]
  },
  {
   "cell_type": "code",
   "execution_count": 202,
   "metadata": {},
   "outputs": [
    {
     "name": "stdout",
     "output_type": "stream",
     "text": [
      "906 ['images/Jackson_Ave_at_Thomson_Ave', 'images/Br_Br-20_S_Rdwy_FDR_Dr', 'images/C3-MLK-02-NB_at_Forest_Ave-Ex11'] ['images/BQE_E_B_at_Pearl_St', 'images/FDR_Dr_at_23_St', 'images/Park_Ave_at_96_St']\n",
      "Total Files: 25981\n",
      "Images scraped today: 5375\n",
      "Images scraped in the last week: 18356\n",
      "Additional files since last snapshot: count    185\n",
      "dtype: int64\n",
      "Total Size On Disk: 1.21 gb\n",
      "Number of cameras with data today: 888 of 906 (98.00%)\n",
      "Last file: NYC_511_ImageScrape_File_Summary_as_of_11-05-2023.csv\n",
      "File: NYC_511_ImageScrape_File_Summary_as_of_11-05-2023.csv already exists. Do you wish to overwrite? (Y/N)y\n",
      "Overwriting file. Saving to: NYC_511_ImageScrape_File_Summary_as_of_11-05-2023.csv\n"
     ]
    },
    {
     "data": {
      "text/html": [
       "<div>\n",
       "<style scoped>\n",
       "    .dataframe tbody tr th:only-of-type {\n",
       "        vertical-align: middle;\n",
       "    }\n",
       "\n",
       "    .dataframe tbody tr th {\n",
       "        vertical-align: top;\n",
       "    }\n",
       "\n",
       "    .dataframe thead th {\n",
       "        text-align: right;\n",
       "    }\n",
       "</style>\n",
       "<table border=\"1\" class=\"dataframe\">\n",
       "  <thead>\n",
       "    <tr style=\"text-align: right;\">\n",
       "      <th></th>\n",
       "      <th>min</th>\n",
       "      <th>max</th>\n",
       "      <th>count</th>\n",
       "      <th>nimages_today</th>\n",
       "      <th>nimages_last_week</th>\n",
       "      <th>total_size_in_bytes</th>\n",
       "      <th>September 2023</th>\n",
       "      <th>November 2023</th>\n",
       "      <th>July 2023</th>\n",
       "    </tr>\n",
       "  </thead>\n",
       "  <tbody>\n",
       "    <tr>\n",
       "      <th>Bowery_at_Cooper_Sq_&amp;_4_St</th>\n",
       "      <td>2023-09-05 23:44:01</td>\n",
       "      <td>2023-11-05 10:34:46</td>\n",
       "      <td>35</td>\n",
       "      <td>10</td>\n",
       "      <td>25</td>\n",
       "      <td>633837</td>\n",
       "      <td>10</td>\n",
       "      <td>25</td>\n",
       "      <td>NaN</td>\n",
       "    </tr>\n",
       "    <tr>\n",
       "      <th>Boston_Rd_at_E_169_St</th>\n",
       "      <td>2023-09-05 23:43:09</td>\n",
       "      <td>2023-11-05 10:34:46</td>\n",
       "      <td>35</td>\n",
       "      <td>10</td>\n",
       "      <td>25</td>\n",
       "      <td>632434</td>\n",
       "      <td>10</td>\n",
       "      <td>25</td>\n",
       "      <td>NaN</td>\n",
       "    </tr>\n",
       "    <tr>\n",
       "      <th>Boerum_Pl_at_Fulton_St_&amp;_Joralemon_St</th>\n",
       "      <td>2023-09-05 23:43:09</td>\n",
       "      <td>2023-11-05 10:34:46</td>\n",
       "      <td>30</td>\n",
       "      <td>10</td>\n",
       "      <td>25</td>\n",
       "      <td>583438</td>\n",
       "      <td>5</td>\n",
       "      <td>25</td>\n",
       "      <td>NaN</td>\n",
       "    </tr>\n",
       "    <tr>\n",
       "      <th>Belt_Pkwy_at_Verrazano_Brid</th>\n",
       "      <td>2023-09-05 23:43:08</td>\n",
       "      <td>2023-11-05 10:34:46</td>\n",
       "      <td>35</td>\n",
       "      <td>10</td>\n",
       "      <td>25</td>\n",
       "      <td>765396</td>\n",
       "      <td>10</td>\n",
       "      <td>25</td>\n",
       "      <td>NaN</td>\n",
       "    </tr>\n",
       "    <tr>\n",
       "      <th>Boston_Rd_at_Gun_hill_Rd</th>\n",
       "      <td>2023-09-05 23:43:09</td>\n",
       "      <td>2023-11-05 10:34:46</td>\n",
       "      <td>35</td>\n",
       "      <td>10</td>\n",
       "      <td>25</td>\n",
       "      <td>821089</td>\n",
       "      <td>10</td>\n",
       "      <td>25</td>\n",
       "      <td>NaN</td>\n",
       "    </tr>\n",
       "  </tbody>\n",
       "</table>\n",
       "</div>"
      ],
      "text/plain": [
       "                                                      min                 max  \\\n",
       "Bowery_at_Cooper_Sq_&_4_St            2023-09-05 23:44:01 2023-11-05 10:34:46   \n",
       "Boston_Rd_at_E_169_St                 2023-09-05 23:43:09 2023-11-05 10:34:46   \n",
       "Boerum_Pl_at_Fulton_St_&_Joralemon_St 2023-09-05 23:43:09 2023-11-05 10:34:46   \n",
       "Belt_Pkwy_at_Verrazano_Brid           2023-09-05 23:43:08 2023-11-05 10:34:46   \n",
       "Boston_Rd_at_Gun_hill_Rd              2023-09-05 23:43:09 2023-11-05 10:34:46   \n",
       "\n",
       "                                      count nimages_today nimages_last_week  \\\n",
       "Bowery_at_Cooper_Sq_&_4_St               35            10                25   \n",
       "Boston_Rd_at_E_169_St                    35            10                25   \n",
       "Boerum_Pl_at_Fulton_St_&_Joralemon_St    30            10                25   \n",
       "Belt_Pkwy_at_Verrazano_Brid              35            10                25   \n",
       "Boston_Rd_at_Gun_hill_Rd                 35            10                25   \n",
       "\n",
       "                                      total_size_in_bytes September 2023  \\\n",
       "Bowery_at_Cooper_Sq_&_4_St                         633837             10   \n",
       "Boston_Rd_at_E_169_St                              632434             10   \n",
       "Boerum_Pl_at_Fulton_St_&_Joralemon_St              583438              5   \n",
       "Belt_Pkwy_at_Verrazano_Brid                        765396             10   \n",
       "Boston_Rd_at_Gun_hill_Rd                           821089             10   \n",
       "\n",
       "                                      November 2023 July 2023  \n",
       "Bowery_at_Cooper_Sq_&_4_St                       25       NaN  \n",
       "Boston_Rd_at_E_169_St                            25       NaN  \n",
       "Boerum_Pl_at_Fulton_St_&_Joralemon_St            25       NaN  \n",
       "Belt_Pkwy_at_Verrazano_Brid                      25       NaN  \n",
       "Boston_Rd_at_Gun_hill_Rd                         25       NaN  "
      ]
     },
     "execution_count": 202,
     "metadata": {},
     "output_type": "execute_result"
    }
   ],
   "source": [
    "df = tt.image_scrape_summary()\n",
    "df.head()"
   ]
  },
  {
   "cell_type": "code",
   "execution_count": 204,
   "metadata": {},
   "outputs": [
    {
     "name": "stdout",
     "output_type": "stream",
     "text": [
      "Last Image Scraped: 2023-11-05 10:34:46\n"
     ]
    }
   ],
   "source": [
    "last_image_scraped_time = df['max'].max()\n",
    "print(\"Last Image Scraped: {}\".format(last_image_scraped_time))"
   ]
  },
  {
   "cell_type": "code",
   "execution_count": 218,
   "metadata": {},
   "outputs": [],
   "source": [
    "def cam_subset_summary(subset_ncameras, description, tot=906):\n",
    "    msg = \"Number of cameras with data {description}: {nsubset} of {tot} ({percent:.2%})\"\n",
    "    msg = msg.format(description=description,\n",
    "                     nsubset = subset_ncameras,\n",
    "                 tot = tot,\n",
    "                 percent = round(subset_ncameras/ncameras,2)\n",
    "                )\n",
    "    return msg"
   ]
  },
  {
   "cell_type": "code",
   "execution_count": 220,
   "metadata": {},
   "outputs": [
    {
     "name": "stdout",
     "output_type": "stream",
     "text": [
      "Number of cameras with data  in past hour: 415 of 906 (46.00%)\n",
      "Number of cameras with data  in past 4 hours: 889 of 906 (98.00%)\n"
     ]
    }
   ],
   "source": [
    "now = datetime.datetime.now()\n",
    "df['time_since_last_scrape'] = now - df['max']\n",
    "# df['time_since_last_scrape'].dt.days.hist() #Days since last image scraped\n",
    "ncameras_past_hour = len(df[(df['time_since_last_scrape'].dt.seconds / 60) <= 60])\n",
    "summary = cam_subset_summary(ncameras_past_hour, \" in past hour\")\n",
    "print(summary)\n",
    "\n",
    "ncameras_past_4hours = len(df[(df['time_since_last_scrape'].dt.seconds / 60) <= 60*4])\n",
    "summary = cam_subset_summary(ncameras_past_4hours, \" in past 4 hours\")\n",
    "print(summary)"
   ]
  },
  {
   "cell_type": "code",
   "execution_count": 196,
   "metadata": {},
   "outputs": [
    {
     "data": {
      "image/png": "[encoded data removed]",
      "text/plain": [
       "<Figure size 640x480 with 1 Axes>"
      ]
     },
     "metadata": {},
     "output_type": "display_data"
    }
   ],
   "source": [
    "df['count'].hist()\n",
    "plt.title(\"Number of Images Scraped per NYC Camera Feed\");"
   ]
  },
  {
   "cell_type": "markdown",
   "metadata": {},
   "source": [
    "## Test Saving An Image"
   ]
  },
  {
   "cell_type": "code",
   "execution_count": null,
   "metadata": {},
   "outputs": [],
   "source": [
    "import urllib"
   ]
  },
  {
   "cell_type": "code",
   "execution_count": null,
   "metadata": {},
   "outputs": [],
   "source": [
    "img_url = \"https://webcams.nyctmc.org/api/cameras/eafc65f5-6ff9-4203-905f-3995b9fbc9eb/image?t=1693970292722\"\n",
    "img_filename = \"sample_camera_output_urllib.jpg\"\n",
    "urllib.request.urlretrieve(img_url, img_filename)"
   ]
  },
  {
   "cell_type": "code",
   "execution_count": null,
   "metadata": {},
   "outputs": [],
   "source": [
    "pwd"
   ]
  },
  {
   "cell_type": "markdown",
   "metadata": {},
   "source": [
    "## Previewing Images"
   ]
  },
  {
   "cell_type": "code",
   "execution_count": null,
   "metadata": {},
   "outputs": [],
   "source": [
    "from PIL import Image, ImageDraw\n",
    "from matplotlib.pyplot import imshow, imread\n",
    "import glob"
   ]
  },
  {
   "cell_type": "code",
   "execution_count": null,
   "metadata": {},
   "outputs": [],
   "source": [
    "files = glob.glob(\"images/**/*.png\")\n",
    "print(len(files))\n",
    "files[:10]"
   ]
  },
  {
   "cell_type": "code",
   "execution_count": null,
   "metadata": {},
   "outputs": [],
   "source": [
    "imgs = []\n",
    "for f in files[:10]:\n",
    "    img = Image.open(f)#imread(f) #imread will read in as NumPy array instead...\n",
    "    imgs.append(img)\n",
    "print(len(imgs))\n",
    "imshow(imgs[0])"
   ]
  },
  {
   "cell_type": "markdown",
   "metadata": {},
   "source": [
    "## Dev Area"
   ]
  },
  {
   "cell_type": "code",
   "execution_count": 153,
   "metadata": {},
   "outputs": [
    {
     "name": "stdout",
     "output_type": "stream",
     "text": [
      "Last file: NYC_511_ImageScrape_File_Summary_as_of_11-04-2023.csv\n",
      "Process took: 0:00:00.000802\n"
     ]
    }
   ],
   "source": [
    "start = datetime.datetime.now()\n",
    "\n",
    "exfilename = \"NYC_511_ImageScrape_File_Summary_as_of_{}.csv\".format(now.strftime(\"%m-%d-%Y\"))\n",
    "previous_snapshots = glob.glob(\"NYC_511_ImageScrape_File_Summary_as_of_*.csv\")\n",
    "\n",
    "def extract_filetime(filename):\n",
    "    try:\n",
    "        date_str = re.findall(\".*?(\\d){2}-(\\d){2}-(\\d){4}\\.csv\",x)[0]\n",
    "        return pd.to_datetime(date_str)\n",
    "    except:\n",
    "        return None\n",
    "    \n",
    "previous_snapshots = sorted(previous_snapshots, key=lambda x: extract_filetime(x))\n",
    "last_file = previous_snapshots[-1]\n",
    "print(\"Last file: {}\".format(last_file))\n",
    "\n",
    "end = datetime.datetime.now()\n",
    "elapsed = end - start\n",
    "print(\"Process took: {}\".format(elapsed))\n",
    "\n",
    "previous_total = pd.read_csv(last_file, usecols=['count']).sum()\n"
   ]
  },
  {
   "cell_type": "code",
   "execution_count": 155,
   "metadata": {},
   "outputs": [
    {
     "name": "stdout",
     "output_type": "stream",
     "text": [
      "601 ns ± 13 ns per loop (mean ± std. dev. of 7 runs, 1,000,000 loops each)\n"
     ]
    }
   ],
   "source": [
    "%%timeit\n",
    "start = datetime.datetime.now()\n",
    "end = datetime.datetime.now()\n",
    "elapsed = end - start\n",
    "# print(\"Process took: {}\".format(elapsed))"
   ]
  },
  {
   "cell_type": "code",
   "execution_count": 148,
   "metadata": {},
   "outputs": [
    {
     "name": "stdout",
     "output_type": "stream",
     "text": [
      "883 µs ± 6.81 µs per loop (mean ± std. dev. of 7 runs, 1,000 loops each)\n"
     ]
    }
   ],
   "source": [
    "%%timeit\n",
    "reload = pd.read_csv(last_file, usecols=['count'])"
   ]
  },
  {
   "cell_type": "code",
   "execution_count": 156,
   "metadata": {},
   "outputs": [
    {
     "name": "stdout",
     "output_type": "stream",
     "text": [
      "1.03 ms ± 22.2 µs per loop (mean ± std. dev. of 7 runs, 1,000 loops each)\n"
     ]
    }
   ],
   "source": [
    "%%timeit\n",
    "pd.read_csv(last_file, usecols=['count']).sum()"
   ]
  }
 ],
 "metadata": {
  "kernelspec": {
   "display_name": "Python [conda env:robots]",
   "language": "python",
   "name": "conda-env-robots-py"
  },
  "language_info": {
   "codemirror_mode": {
    "name": "ipython",
    "version": 3
   },
   "file_extension": ".py",
   "mimetype": "text/x-python",
   "name": "python",
   "nbconvert_exporter": "python",
   "pygments_lexer": "ipython3",
   "version": "3.9.17"
  }
 },
 "nbformat": 4,
 "nbformat_minor": 2
}
