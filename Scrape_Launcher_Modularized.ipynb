{
 "cells": [
  {
   "cell_type": "code",
   "execution_count": 1,
   "metadata": {},
   "outputs": [],
   "source": [
    "import datetime\n",
    "from collections import Counter\n",
    "import os\n",
    "import sys\n",
    "\n",
    "sys.path.append('/home/matt/Documents/Projects/rpa_recording/chromedriver-linux64/chromedriver')\n"
   ]
  },
  {
   "cell_type": "code",
   "execution_count": 2,
   "metadata": {},
   "outputs": [],
   "source": [
    "import camScraper"
   ]
  },
  {
   "cell_type": "markdown",
   "metadata": {},
   "source": [
    "## Debugging Post Selenium 4.1 API Update"
   ]
  },
  {
   "cell_type": "code",
   "execution_count": 3,
   "metadata": {},
   "outputs": [
    {
     "name": "stdout",
     "output_type": "stream",
     "text": [
      "Project Root Directory:\n",
      "/home/matt/Documents/Projects/NYC511_CameraScrape\n",
      "Image Directory: /home/matt/Documents/Projects/NYC511_CameraScrape/images\n"
     ]
    }
   ],
   "source": [
    "scraper = camScraper.camScraper(headless=False)\n",
    "\n",
    "# #Update Gecko Driver Path for Ubuntu Desktop\n",
    "# if sys.platform == 'linux':\n",
    "#     scraper.geckoDriverPath = \"/home/matt/Documents/Tools/Scraping/\"\n",
    "\n",
    "# print(\"GeckoDriverPath: {}\".format(scraper.geckoDriverPath))\n",
    "# # scraper.print_img_filenames = True\n",
    "# # scraper.debug = True"
   ]
  },
  {
   "cell_type": "code",
   "execution_count": 4,
   "metadata": {},
   "outputs": [
    {
     "data": {
      "text/plain": [
       "0"
      ]
     },
     "execution_count": 4,
     "metadata": {},
     "output_type": "execute_result"
    }
   ],
   "source": [
    "scraper.last_row_scraped #Check last row scraped on a crash (above will run infinitely)"
   ]
  },
  {
   "cell_type": "code",
   "execution_count": 5,
   "metadata": {},
   "outputs": [
    {
     "name": "stdout",
     "output_type": "stream",
     "text": [
      "Setting Linux Chromedriver options.\n"
     ]
    }
   ],
   "source": [
    "scraper.launch_scraper()"
   ]
  },
  {
   "cell_type": "code",
   "execution_count": 9,
   "metadata": {},
   "outputs": [],
   "source": [
    "from selenium.webdriver.common.by import By"
   ]
  },
  {
   "cell_type": "code",
   "execution_count": 10,
   "metadata": {},
   "outputs": [],
   "source": [
    "driver = scraper.driver"
   ]
  },
  {
   "cell_type": "code",
   "execution_count": null,
   "metadata": {},
   "outputs": [],
   "source": [
    "<div _ngcontent-nup-c115=\"\" class=\"g-view-wrapper g-flex ng-tns-c115-0\"><router-outlet _ngcontent-nup-c115=\"\" class=\"ng-tns-c115-0\"></router-outlet><app-cameras-list _nghost-nup-c105=\"\" class=\"ng-tns-c105-1 ng-star-inserted\" style=\"\"><div _ngcontent-nup-c105=\"\" class=\"g-view-container g-flex-column ng-tns-c105-1 ng-trigger ng-trigger-fadeAnimation\"><div _ngcontent-nup-c105=\"\" class=\"g-flex-row g-view-toolbar mdc-elevation--z3 ng-tns-c105-1\"><button _ngcontent-nup-c105=\"\" mat-raised-button=\"\" color=\"primary\" class=\"mat-focus-indicator ng-tns-c105-1 mat-raised-button mat-button-base mat-primary\"><span class=\"mat-button-wrapper\"><mat-icon _ngcontent-nup-c105=\"\" role=\"img\" class=\"mat-icon notranslate material-icons mat-ligature-font mat-icon-no-color\" aria-hidden=\"true\" data-mat-icon-type=\"font\">preview</mat-icon> View Selected </span><span matripple=\"\" class=\"mat-ripple mat-button-ripple\"></span><span class=\"mat-button-focus-overlay\"></span></button><app-responsive-actions _ngcontent-nup-c105=\"\" class=\"ng-tns-c105-1\" _nghost-nup-c104=\"\"><div _ngcontent-nup-c104=\"\" class=\"g-flex-row container\"><button _ngcontent-nup-c104=\"\" mat-raised-button=\"\" class=\"mat-focus-indicator mat-raised-button mat-button-base g-btn-secondary ng-star-inserted\" style=\"\"><span class=\"mat-button-wrapper\"><mat-icon _ngcontent-nup-c104=\"\" role=\"img\" class=\"mat-icon notranslate material-icons mat-ligature-font mat-icon-no-color\" aria-hidden=\"true\" data-mat-icon-type=\"font\">add</mat-icon> Add to Favorites (1/9) </span><span matripple=\"\" class=\"mat-ripple mat-button-ripple\"></span><span class=\"mat-button-focus-overlay\"></span></button><button _ngcontent-nup-c104=\"\" mat-raised-button=\"\" class=\"mat-focus-indicator mat-raised-button mat-button-base g-btn-secondary disabled mat-button-disabled ng-star-inserted\" disabled=\"true\" style=\"\"><span class=\"mat-button-wrapper\"><mat-icon _ngcontent-nup-c104=\"\" role=\"img\" class=\"mat-icon notranslate material-icons mat-ligature-font mat-icon-no-color\" aria-hidden=\"true\" data-mat-icon-type=\"font\">star</mat-icon> View Favorites (0/9) </span><span matripple=\"\" class=\"mat-ripple mat-button-ripple\"></span><span class=\"mat-button-focus-overlay\"></span></button><button _ngcontent-nup-c104=\"\" mat-raised-button=\"\" class=\"mat-focus-indicator mat-raised-button mat-button-base g-btn-secondary disabled mat-button-disabled ng-star-inserted\" disabled=\"true\" style=\"\"><span class=\"mat-button-wrapper\"><mat-icon _ngcontent-nup-c104=\"\" role=\"img\" class=\"mat-icon notranslate material-icons mat-ligature-font mat-icon-no-color\" aria-hidden=\"true\" data-mat-icon-type=\"font\">delete</mat-icon> Clear Favorties </span><span matripple=\"\" class=\"mat-ripple mat-button-ripple\"></span><span class=\"mat-button-focus-overlay\"></span></button><!----><!----><!----><!----></div></app-responsive-actions><app-search _ngcontent-nup-c105=\"\" class=\"g-search-bar ng-tns-c105-1\" _nghost-nup-c92=\"\"><div _ngcontent-nup-c92=\"\" class=\"g-view-container search\"><input _ngcontent-nup-c92=\"\" matinput=\"\" autocomplete=\"off\" class=\"mat-input-element mat-form-field-autofill-control g-flex ng-untouched ng-pristine ng-valid cdk-text-field-autofill-monitored\" placeholder=\"Search\" id=\"mat-input-0\" data-placeholder=\"Search\" aria-invalid=\"false\" aria-required=\"false\"><button _ngcontent-nup-c92=\"\" mat-icon-button=\"\" color=\"primary\" class=\"mat-focus-indicator g-input-icon-btn mat-icon-button mat-button-base mat-primary\"><span class=\"mat-button-wrapper\"><mat-icon _ngcontent-nup-c92=\"\" role=\"img\" class=\"mat-icon notranslate g-input-icon-btn material-icons mat-ligature-font mat-icon-no-color\" aria-hidden=\"true\" data-mat-icon-type=\"font\">search</mat-icon></span><span matripple=\"\" class=\"mat-ripple mat-button-ripple mat-button-ripple-round\"></span><span class=\"mat-button-focus-overlay\"></span></button><button _ngcontent-nup-c92=\"\" mat-icon-button=\"\" color=\"primary\" class=\"mat-focus-indicator g-input-icon-btn btn mat-icon-button mat-button-base mat-primary\"><span class=\"mat-button-wrapper\"><mat-icon _ngcontent-nup-c92=\"\" role=\"img\" class=\"mat-icon notranslate material-icons mat-ligature-font mat-icon-no-color\" aria-hidden=\"true\" data-mat-icon-type=\"font\">clear</mat-icon></span><span matripple=\"\" class=\"mat-ripple mat-button-ripple mat-button-ripple-round\"></span><span class=\"mat-button-focus-overlay\"></span></button></div></app-search></div><div _ngcontent-nup-c105=\"\" class=\"g-view-wrapper g-flex g-flex-column table-container mdc-elevation--z3 ng-tns-c105-1\"><div _ngcontent-nup-c105=\"\" class=\"g-flex g-view-wrapper g-overflow-auto ng-tns-c105-1\"><table _ngcontent-nup-c105=\"\" mat-table=\"\" matsort=\"\" matsortactive=\"name\" matsortdirection=\"asc\" class=\"mat-table cdk-table mat-sort ng-tns-c105-1\" role=\"table\"><thead role=\"rowgroup\"><tr _ngcontent-nup-c105=\"\" role=\"row\" mat-header-row=\"\" class=\"mat-header-row cdk-header-row ng-tns-c105-1 ng-star-inserted\" style=\"\"><th _ngcontent-nup-c105=\"\" role=\"columnheader\" mat-header-cell=\"\" class=\"mat-header-cell cdk-header-cell cdk-column-select mat-column-select ng-tns-c105-1 ng-star-inserted mat-table-sticky mat-table-sticky-border-elem-top\" style=\"top: 0px; z-index: 100;\"></th><th _ngcontent-nup-c105=\"\" role=\"columnheader\" mat-header-cell=\"\" mat-sort-header=\"\" class=\"mat-sort-header mat-header-cell cdk-header-cell ng-tns-c69-2 cdk-column-name mat-column-name ng-tns-c105-1 ng-star-inserted mat-table-sticky mat-table-sticky-border-elem-top\" aria-sort=\"ascending\" style=\"top: 0px; z-index: 100;\"><div class=\"mat-sort-header-container mat-focus-indicator ng-tns-c69-2 mat-sort-header-sorted\" aria-describedby=\"cdk-describedby-message-nup-1-2\" cdk-describedby-host=\"nup-1\" tabindex=\"0\" role=\"button\"><div class=\"mat-sort-header-content ng-tns-c69-2\">Camera Location</div><div class=\"mat-sort-header-arrow ng-trigger ng-trigger-arrowPosition ng-tns-c69-2 ng-star-inserted\" style=\"transform: translateY(0px); opacity: 1;\"><div class=\"mat-sort-header-stem ng-tns-c69-2\"></div><div class=\"mat-sort-header-indicator ng-tns-c69-2 ng-trigger ng-trigger-indicator\" style=\"transform: translateY(0px);\"><div class=\"mat-sort-header-pointer-left ng-tns-c69-2 ng-trigger ng-trigger-leftPointer\" style=\"transform: rotate(-45deg);\"></div><div class=\"mat-sort-header-pointer-right ng-tns-c69-2 ng-trigger ng-trigger-rightPointer\" style=\"transform: rotate(45deg);\"></div><div class=\"mat-sort-header-pointer-middle ng-tns-c69-2\"></div></div></div><!----></div></th><th _ngcontent-nup-c105=\"\" role=\"columnheader\" mat-header-cell=\"\" mat-sort-header=\"\" class=\"mat-sort-header mat-header-cell cdk-header-cell ng-tns-c69-3 cdk-column-area mat-column-area ng-tns-c105-1 ng-star-inserted mat-table-sticky mat-table-sticky-border-elem-top\" aria-sort=\"none\" style=\"top: 0px; z-index: 100;\"><div class=\"mat-sort-header-container mat-focus-indicator ng-tns-c69-3\" aria-describedby=\"cdk-describedby-message-nup-1-2\" cdk-describedby-host=\"nup-1\" tabindex=\"0\" role=\"button\"><div class=\"mat-sort-header-content ng-tns-c69-3\">Borough</div><div class=\"mat-sort-header-arrow ng-trigger ng-trigger-arrowPosition ng-tns-c69-3 ng-star-inserted\" style=\"transform: translateY(25%); opacity: 0;\"><div class=\"mat-sort-header-stem ng-tns-c69-3\"></div><div class=\"mat-sort-header-indicator ng-tns-c69-3 ng-trigger ng-trigger-indicator\" style=\"transform: translateY(0px);\"><div class=\"mat-sort-header-pointer-left ng-tns-c69-3 ng-trigger ng-trigger-leftPointer\" style=\"transform: rotate(-45deg);\"></div><div class=\"mat-sort-header-pointer-right ng-tns-c69-3 ng-trigger ng-trigger-rightPointer\" style=\"transform: rotate(45deg);\"></div><div class=\"mat-sort-header-pointer-middle ng-tns-c69-3\"></div></div></div><!----></div></th><th _ngcontent-nup-c105=\"\" role=\"columnheader\" mat-header-cell=\"\" class=\"mat-header-cell cdk-header-cell cdk-column-responsive mat-column-responsive ng-tns-c105-1 ng-star-inserted mat-table-sticky mat-table-sticky-border-elem-top\" style=\"top: 0px; z-index: 100;\">Cameras</th><th _ngcontent-nup-c105=\"\" role=\"columnheader\" mat-header-cell=\"\" class=\"mat-header-cell cdk-header-cell cdk-column-favoriteAction mat-column-favoriteAction ng-tns-c105-1 ng-star-inserted mat-table-sticky mat-table-sticky-border-elem-top\" style=\"top: 0px; z-index: 100;\"></th><!----></tr><!----></thead><tbody role=\"rowgroup\"><tr _ngcontent-nup-c105=\"\" role=\"row\" mat-row=\"\" class=\"mat-row cdk-row ng-tns-c105-1 ng-star-inserted\" style=\"\"><td _ngcontent-nup-c105=\"\" role=\"cell\" mat-cell=\"\" class=\"mat-cell cdk-cell cdk-column-select mat-column-select ng-tns-c105-1 ng-star-inserted\"><mat-checkbox _ngcontent-nup-c105=\"\" class=\"mat-checkbox ng-tns-c105-1 mat-accent\" id=\"mat-checkbox-1\"><label class=\"mat-checkbox-layout\" for=\"mat-checkbox-1-input\"><span class=\"mat-checkbox-inner-container mat-checkbox-inner-container-no-side-margin\"><input type=\"checkbox\" class=\"mat-checkbox-input cdk-visually-hidden\" id=\"mat-checkbox-1-input\" tabindex=\"0\" aria-checked=\"false\"><span matripple=\"\" class=\"mat-ripple mat-checkbox-ripple mat-focus-indicator\"><span class=\"mat-ripple-element mat-checkbox-persistent-ripple\"></span></span><span class=\"mat-checkbox-frame\"></span><span class=\"mat-checkbox-background\"><svg version=\"1.1\" focusable=\"false\" viewBox=\"0 0 24 24\" aria-hidden=\"true\" class=\"mat-checkbox-checkmark\"><path fill=\"none\" stroke=\"white\" d=\"M4.1,12.7 9,17.6 20.3,6.3\" class=\"mat-checkbox-checkmark-path\"></path></svg><span class=\"mat-checkbox-mixedmark\"></span></span></span><span class=\"mat-checkbox-label\"><span style=\"display: none;\">&nbsp;</span></span></label></mat-checkbox></td><td _ngcontent-nup-c105=\"\" role=\"cell\" mat-cell=\"\" class=\"mat-cell cdk-cell cdk-column-name mat-column-name ng-tns-c105-1 ng-star-inserted\">1 Ave @ 110 St</td><td _ngcontent-nup-c105=\"\" role=\"cell\" mat-cell=\"\" class=\"mat-cell cdk-cell cdk-column-area mat-column-area ng-tns-c105-1 ng-star-inserted\">Manhattan</td><td _ngcontent-nup-c105=\"\" role=\"cell\" mat-cell=\"\" class=\"mat-cell cdk-cell cdk-column-responsive mat-column-responsive ng-tns-c105-1 ng-star-inserted\"><div _ngcontent-nup-c105=\"\" class=\"g-flex-column responsive-cell ng-tns-c105-1\"><span _ngcontent-nup-c105=\"\" class=\"g-flex-column column ng-tns-c105-1\"><span _ngcontent-nup-c105=\"\" class=\"label ng-tns-c105-1\">Camera Location:</span><span _ngcontent-nup-c105=\"\" class=\"ng-tns-c105-1\">1 Ave @ 110 St</span></span><mat-divider _ngcontent-nup-c105=\"\" role=\"separator\" class=\"mat-divider ng-tns-c105-1 mat-divider-horizontal\" aria-orientation=\"horizontal\"></mat-divider><span _ngcontent-nup-c105=\"\" class=\"g-flex-column column ng-tns-c105-1\"><span _ngcontent-nup-c105=\"\" class=\"label ng-tns-c105-1\">Borough:</span><span _ngcontent-nup-c105=\"\" class=\"ng-tns-c105-1\">Manhattan</span></span></div></td><td _ngcontent-nup-c105=\"\" role=\"cell\" mat-cell=\"\" class=\"mat-cell cdk-cell cdk-column-favoriteAction mat-column-favoriteAction ng-tns-c105-1 ng-star-inserted\"><button _ngcontent-nup-c105=\"\" mat-icon-button=\"\" color=\"primary\" title=\"Add to Favorite Cameras\" class=\"mat-focus-indicator mat-icon-button mat-button-base mat-primary ng-tns-c105-1 ng-star-inserted\"><span class=\"mat-button-wrapper\"><mat-icon _ngcontent-nup-c105=\"\" role=\"img\" class=\"mat-icon notranslate semi-transparent ng-trigger ng-trigger-iconFadeInOut material-icons mat-ligature-font mat-icon-no-color\" aria-hidden=\"true\" data-mat-icon-type=\"font\">star_border</mat-icon></span><span matripple=\"\" class=\"mat-ripple mat-button-ripple mat-button-ripple-round\"></span><span class=\"mat-button-focus-overlay\"></span></button><!----><!----></td><!----></tr><tr _ngcontent-nup-c105=\"\" role=\"row\" mat-row=\"\" class=\"mat-row cdk-row ng-tns-c105-1 ng-star-inserted highlight-row\" style=\"\"><td _ngcontent-nup-c105=\"\" role=\"cell\" mat-cell=\"\" class=\"mat-cell cdk-cell cdk-column-select mat-column-select ng-tns-c105-1 ng-star-inserted\"><mat-checkbox _ngcontent-nup-c105=\"\" class=\"mat-checkbox ng-tns-c105-1 mat-accent mat-checkbox-checked\" id=\"mat-checkbox-2\"><label class=\"mat-checkbox-layout\" for=\"mat-checkbox-2-input\"><span class=\"mat-checkbox-inner-container mat-checkbox-inner-container-no-side-margin\"><input type=\"checkbox\" class=\"mat-checkbox-input cdk-visually-hidden\" id=\"mat-checkbox-2-input\" tabindex=\"0\" aria-checked=\"true\"><span matripple=\"\" class=\"mat-ripple mat-checkbox-ripple mat-focus-indicator\"><span class=\"mat-ripple-element mat-checkbox-persistent-ripple\"></span></span><span class=\"mat-checkbox-frame\"></span><span class=\"mat-checkbox-background\"><svg version=\"1.1\" focusable=\"false\" viewBox=\"0 0 24 24\" aria-hidden=\"true\" class=\"mat-checkbox-checkmark\"><path fill=\"none\" stroke=\"white\" d=\"M4.1,12.7 9,17.6 20.3,6.3\" class=\"mat-checkbox-checkmark-path\"></path></svg><span class=\"mat-checkbox-mixedmark\"></span></span></span><span class=\"mat-checkbox-label\"><span style=\"display: none;\">&nbsp;</span></span></label></mat-checkbox></td><td _ngcontent-nup-c105=\"\" role=\"cell\" mat-cell=\"\" class=\"mat-cell cdk-cell cdk-column-name mat-column-name ng-tns-c105-1 ng-star-inserted\">1 Ave @ 124 St</td><td _ngcontent-nup-c105=\"\" role=\"cell\" mat-cell=\"\" class=\"mat-cell cdk-cell cdk-column-area mat-column-area ng-tns-c105-1 ng-star-inserted\">Manhattan</td><td _ngcontent-nup-c105=\"\" role=\"cell\" mat-cell=\"\" class=\"mat-cell cdk-cell cdk-column-responsive mat-column-responsive ng-tns-c105-1 ng-star-inserted\"><div _ngcontent-nup-c105=\"\" class=\"g-flex-column responsive-cell ng-tns-c105-1\"><span _ngcontent-nup-c105=\"\" class=\"g-flex-column column ng-tns-c105-1\"><span _ngcontent-nup-c105=\"\" class=\"label ng-tns-c105-1\">Camera Location:</span><span _ngcontent-nup-c105=\"\" class=\"ng-tns-c105-1\">1 Ave @ 124 St</span></span><mat-divider _ngcontent-nup-c105=\"\" role=\"separator\" class=\"mat-divider ng-tns-c105-1 mat-divider-horizontal\" aria-orientation=\"horizontal\"></mat-divider><span _ngcontent-nup-c105=\"\" class=\"g-flex-column column ng-tns-c105-1\"><span _ngcontent-nup-c105=\"\" class=\"label ng-tns-c105-1\">Borough:</span><span _ngcontent-nup-c105=\"\" class=\"ng-tns-c105-1\">Manhattan</span></span></div></td><td _ngcontent-nup-c105=\"\" role=\"cell\" mat-cell=\"\" class=\"mat-cell cdk-cell cdk-column-favoriteAction mat-column-favoriteAction ng-tns-c105-1 ng-star-inserted\"><button _ngcontent-nup-c105=\"\" mat-icon-button=\"\" color=\"primary\" title=\"Add to Favorite Cameras\" class=\"mat-focus-indicator mat-icon-button mat-button-base mat-primary ng-tns-c105-1 ng-star-inserted\"><span class=\"mat-button-wrapper\"><mat-icon _ngcontent-nup-c105=\"\" role=\"img\" class=\"mat-icon notranslate semi-transparent ng-trigger ng-trigger-iconFadeInOut material-icons mat-ligature-font mat-icon-no-color\" aria-hidden=\"true\" data-mat-icon-type=\"font\">star_border</mat-icon></span><span matripple=\"\" class=\"mat-ripple mat-button-ripple mat-button-ripple-round\"></span><span class=\"mat-button-focus-overlay\"></span></button><!----><!----></td><!----></tr><tr _ngcontent-nup-c105=\"\" role=\"row\" mat-row=\"\" class=\"mat-row cdk-row ng-tns-c105-1 ng-star-inserted\" style=\"\"><td _ngcontent-nup-c105=\"\" role=\"cell\" mat-cell=\"\" class=\"mat-cell cdk-cell cdk-column-select mat-column-select ng-tns-c105-1 ng-star-inserted\"><mat-checkbox _ngcontent-nup-c105=\"\" class=\"mat-checkbox ng-tns-c105-1 mat-accent\" id=\"mat-checkbox-3\"><label class=\"mat-checkbox-layout\" for=\"mat-checkbox-3-input\"><span class=\"mat-checkbox-inner-container mat-checkbox-inner-container-no-side-margin\"><input type=\"checkbox\" class=\"mat-checkbox-input cdk-visually-hidden\" id=\"mat-checkbox-3-input\" tabindex=\"0\" aria-checked=\"false\"><span matripple=\"\" class=\"mat-ripple mat-checkbox-ripple mat-focus-indicator\"><span class=\"mat-ripple-element mat-checkbox-persistent-ripple\"></span></span><span class=\"mat-checkbox-frame\"></span><span class=\"mat-checkbox-background\"><svg version=\"1.1\" focusable=\"false\" viewBox=\"0 0 24 24\" aria-hidden=\"true\" class=\"mat-checkbox-checkmark\"><path fill=\"none\" stroke=\"white\" d=\"M4.1,12.7 9,17.6 20.3,6.3\" class=\"mat-checkbox-checkmark-path\"></path></svg><span class=\"mat-checkbox-mixedmark\"></span></span></span><span class=\"mat-checkbox-label\"><span style=\"display: none;\">&nbsp;</span></span></label></mat-checkbox></td><td _ngcontent-nup-c105=\"\" role=\"cell\" mat-cell=\"\" class=\"mat-cell cdk-cell cdk-column-name mat-column-name ng-tns-c105-1 ng-star-inserted\">1 Ave @ 14 St</td><td _ngcontent-nup-c105=\"\" role=\"cell\" mat-cell=\"\" class=\"mat-cell cdk-cell cdk-column-area mat-column-area ng-tns-c105-1 ng-star-inserted\">Manhattan</td><td _ngcontent-nup-c105=\"\" role=\"cell\" mat-cell=\"\" class=\"mat-cell cdk-cell cdk-column-responsive mat-column-responsive ng-tns-c105-1 ng-star-inserted\"><div _ngcontent-nup-c105=\"\" class=\"g-flex-column responsive-cell ng-tns-c105-1\"><span _ngcontent-nup-c105=\"\" class=\"g-flex-column column ng-tns-c105-1\"><span _ngcontent-nup-c105=\"\" class=\"label ng-tns-c105-1\">Camera Location:</span><span _ngcontent-nup-c105=\"\" class=\"ng-tns-c105-1\">1 Ave @ 14 St</span></span><mat-divider _ngcontent-nup-c105=\"\" role=\"separator\" class=\"mat-divider ng-tns-c105-1 mat-divider-horizontal\" aria-orientation=\"horizontal\"></mat-divider><span _ngcontent-nup-c105=\"\" class=\"g-flex-column column ng-tns-c105-1\"><span _ngcontent-nup-c105=\"\" class=\"label ng-tns-c105-1\">Borough:</span><span _ngcontent-nup-c105=\"\" class=\"ng-tns-c105-1\">Manhattan</span></span></div></td><td _ngcontent-nup-c105=\"\" role=\"cell\" mat-cell=\"\" class=\"mat-cell cdk-cell cdk-column-favoriteAction mat-column-favoriteAction ng-tns-c105-1 ng-star-inserted\"><button _ngcontent-nup-c105=\"\" mat-icon-button=\"\" color=\"primary\" title=\"Add to Favorite Cameras\" class=\"mat-focus-indicator mat-icon-button mat-button-base mat-primary ng-tns-c105-1 ng-star-inserted\"><span class=\"mat-button-wrapper\"><mat-icon _ngcontent-nup-c105=\"\" role=\"img\" class=\"mat-icon notranslate semi-transparent ng-trigger ng-trigger-iconFadeInOut material-icons mat-ligature-font mat-icon-no-color\" aria-hidden=\"true\" data-mat-icon-type=\"font\">star_border</mat-icon></span><span matripple=\"\" class=\"mat-ripple mat-button-ripple mat-button-ripple-round\"></span><span class=\"mat-button-focus-overlay\"></span></button><!----><!----></td><!----></tr><tr _ngcontent-nup-c105=\"\" role=\"row\" mat-row=\"\" class=\"mat-row cdk-row ng-tns-c105-1 ng-star-inserted\" style=\"\"><td _ngcontent-nup-c105=\"\" role=\"cell\" mat-cell=\"\" class=\"mat-cell cdk-cell cdk-column-select mat-column-select ng-tns-c105-1 ng-star-inserted\"><mat-checkbox _ngcontent-nup-c105=\"\" class=\"mat-checkbox ng-tns-c105-1 mat-accent\" id=\"mat-checkbox-4\"><label class=\"mat-checkbox-layout\" for=\"mat-checkbox-4-input\"><span class=\"mat-checkbox-inner-container mat-checkbox-inner-container-no-side-margin\"><input type=\"checkbox\" class=\"mat-checkbox-input cdk-visually-hidden\" id=\"mat-checkbox-4-input\" tabindex=\"0\" aria-checked=\"false\"><span matripple=\"\" class=\"mat-ripple mat-checkbox-ripple mat-focus-indicator\"><span class=\"mat-ripple-element mat-checkbox-persistent-ripple\"></span></span><span class=\"mat-checkbox-frame\"></span><span class=\"mat-checkbox-background\"><svg version=\"1.1\" focusable=\"false\" viewBox=\"0 0 24 24\" aria-hidden=\"true\" class=\"mat-checkbox-checkmark\"><path fill=\"none\" stroke=\"white\" d=\"M4.1,12.7 9,17.6 20.3,6.3\" class=\"mat-checkbox-checkmark-path\"></path></svg><span class=\"mat-checkbox-mixedmark\"></span></span></span><span class=\"mat-checkbox-label\"><span style=\"display: none;\">&nbsp;</span></span></label></mat-checkbox></td><td _ngcontent-nup-c105=\"\" role=\"cell\" mat-cell=\"\" class=\"mat-cell cdk-cell cdk-column-name mat-column-name ng-tns-c105-1 ng-star-inserted\">1 Ave @ 23 St</td><td _ngcontent-nup-c105=\"\" role=\"cell\" mat-cell=\"\" class=\"mat-cell cdk-cell cdk-column-area mat-column-area ng-tns-c105-1 ng-star-inserted\">Manhattan</td><td _ngcontent-nup-c105=\"\" role=\"cell\" mat-cell=\"\" class=\"mat-cell cdk-cell cdk-column-responsive mat-column-responsive ng-tns-c105-1 ng-star-inserted\"><div _ngcontent-nup-c105=\"\" class=\"g-flex-column responsive-cell ng-tns-c105-1\"><span _ngcontent-nup-c105=\"\" class=\"g-flex-column column ng-tns-c105-1\"><span _ngcontent-nup-c105=\"\" class=\"label ng-tns-c105-1\">Camera Location:</span><span _ngcontent-nup-c105=\"\" class=\"ng-tns-c105-1\">1 Ave @ 23 St</span></span><mat-divider _ngcontent-nup-c105=\"\" role=\"separator\" class=\"mat-divider ng-tns-c105-1 mat-divider-horizontal\" aria-orientation=\"horizontal\"></mat-divider><span _ngcontent-nup-c105=\"\" class=\"g-flex-column column ng-tns-c105-1\"><span _ngcontent-nup-c105=\"\" class=\"label ng-tns-c105-1\">Borough:</span><span _ngcontent-nup-c105=\"\" class=\"ng-tns-c105-1\">Manhattan</span></span></div></td><td _ngcontent-nup-c105=\"\" role=\"cell\" mat-cell=\"\" class=\"mat-cell cdk-cell cdk-column-favoriteAction mat-column-favoriteAction ng-tns-c105-1 ng-star-inserted\"><button _ngcontent-nup-c105=\"\" mat-icon-button=\"\" color=\"primary\" title=\"Add to Favorite Cameras\" class=\"mat-focus-indicator mat-icon-button mat-button-base mat-primary ng-tns-c105-1 ng-star-inserted\"><span class=\"mat-button-wrapper\"><mat-icon _ngcontent-nup-c105=\"\" role=\"img\" class=\"mat-icon notranslate semi-transparent ng-trigger ng-trigger-iconFadeInOut material-icons mat-ligature-font mat-icon-no-color\" aria-hidden=\"true\" data-mat-icon-type=\"font\">star_border</mat-icon></span><span matripple=\"\" class=\"mat-ripple mat-button-ripple mat-button-ripple-round\"></span><span class=\"mat-button-focus-overlay\"></span></button><!----><!----></td><!----></tr><tr _ngcontent-nup-c105=\"\" role=\"row\" mat-row=\"\" class=\"mat-row cdk-row ng-tns-c105-1 ng-star-inserted\" style=\"\"><td _ngcontent-nup-c105=\"\" role=\"cell\" mat-cell=\"\" class=\"mat-cell cdk-cell cdk-column-select mat-column-select ng-tns-c105-1 ng-star-inserted\"><mat-checkbox _ngcontent-nup-c105=\"\" class=\"mat-checkbox ng-tns-c105-1 mat-accent\" id=\"mat-checkbox-5\"><label class=\"mat-checkbox-layout\" for=\"mat-checkbox-5-input\"><span class=\"mat-checkbox-inner-container mat-checkbox-inner-container-no-side-margin\"><input type=\"checkbox\" class=\"mat-checkbox-input cdk-visually-hidden\" id=\"mat-checkbox-5-input\" tabindex=\"0\" aria-checked=\"false\"><span matripple=\"\" class=\"mat-ripple mat-checkbox-ripple mat-focus-indicator\"><span class=\"mat-ripple-element mat-checkbox-persistent-ripple\"></span></span><span class=\"mat-checkbox-frame\"></span><span class=\"mat-checkbox-background\"><svg version=\"1.1\" focusable=\"false\" viewBox=\"0 0 24 24\" aria-hidden=\"true\" class=\"mat-checkbox-checkmark\"><path fill=\"none\" stroke=\"white\" d=\"M4.1,12.7 9,17.6 20.3,6.3\" class=\"mat-checkbox-checkmark-path\"></path></svg><span class=\"mat-checkbox-mixedmark\"></span></span></span><span class=\"mat-checkbox-label\"><span style=\"display: none;\">&nbsp;</span></span></label></mat-checkbox></td><td _ngcontent-nup-c105=\"\" role=\"cell\" mat-cell=\"\" class=\"mat-cell cdk-cell cdk-column-name mat-column-name ng-tns-c105-1 ng-star-inserted\">1 ave @ 40 st</td><td _ngcontent-nup-c105=\"\" role=\"cell\" mat-cell=\"\" class=\"mat-cell cdk-cell cdk-column-area mat-column-area ng-tns-c105-1 ng-star-inserted\">Manhattan</td><td _ngcontent-nup-c105=\"\" role=\"cell\" mat-cell=\"\" class=\"mat-cell cdk-cell cdk-column-responsive mat-column-responsive ng-tns-c105-1 ng-star-inserted\"><div _ngcontent-nup-c105=\"\" class=\"g-flex-column responsive-cell ng-tns-c105-1\"><span _ngcontent-nup-c105=\"\" class=\"g-flex-column column ng-tns-c105-1\"><span _ngcontent-nup-c105=\"\" class=\"label ng-tns-c105-1\">Camera Location:</span><span _ngcontent-nup-c105=\"\" class=\"ng-tns-c105-1\">1 ave @ 40 st</span></span><mat-divider _ngcontent-nup-c105=\"\" role=\"separator\" class=\"mat-divider ng-tns-c105-1 mat-divider-horizontal\" aria-orientation=\"horizontal\"></mat-divider><span _ngcontent-nup-c105=\"\" class=\"g-flex-column column ng-tns-c105-1\"><span _ngcontent-nup-c105=\"\" class=\"label ng-tns-c105-1\">Borough:</span><span _ngcontent-nup-c105=\"\" class=\"ng-tns-c105-1\">Manhattan</span></span></div></td><td _ngcontent-nup-c105=\"\" role=\"cell\" mat-cell=\"\" class=\"mat-cell cdk-cell cdk-column-favoriteAction mat-column-favoriteAction ng-tns-c105-1 ng-star-inserted\"><button _ngcontent-nup-c105=\"\" mat-icon-button=\"\" color=\"primary\" title=\"Add to Favorite Cameras\" class=\"mat-focus-indicator mat-icon-button mat-button-base mat-primary ng-tns-c105-1 ng-star-inserted\"><span class=\"mat-button-wrapper\"><mat-icon _ngcontent-nup-c105=\"\" role=\"img\" class=\"mat-icon notranslate semi-transparent ng-trigger ng-trigger-iconFadeInOut material-icons mat-ligature-font mat-icon-no-color\" aria-hidden=\"true\" data-mat-icon-type=\"font\">star_border</mat-icon></span><span matripple=\"\" class=\"mat-ripple mat-button-ripple mat-button-ripple-round\"></span><span class=\"mat-button-focus-overlay\"></span></button><!----><!----></td><!----></tr><tr _ngcontent-nup-c105=\"\" role=\"row\" mat-row=\"\" class=\"mat-row cdk-row ng-tns-c105-1 ng-star-inserted\" style=\"\"><td _ngcontent-nup-c105=\"\" role=\"cell\" mat-cell=\"\" class=\"mat-cell cdk-cell cdk-column-select mat-column-select ng-tns-c105-1 ng-star-inserted\"><mat-checkbox _ngcontent-nup-c105=\"\" class=\"mat-checkbox ng-tns-c105-1 mat-accent\" id=\"mat-checkbox-6\"><label class=\"mat-checkbox-layout\" for=\"mat-checkbox-6-input\"><span class=\"mat-checkbox-inner-container mat-checkbox-inner-container-no-side-margin\"><input type=\"checkbox\" class=\"mat-checkbox-input cdk-visually-hidden\" id=\"mat-checkbox-6-input\" tabindex=\"0\" aria-checked=\"false\"><span matripple=\"\" class=\"mat-ripple mat-checkbox-ripple mat-focus-indicator\"><span class=\"mat-ripple-element mat-checkbox-persistent-ripple\"></span></span><span class=\"mat-checkbox-frame\"></span><span class=\"mat-checkbox-background\"><svg version=\"1.1\" focusable=\"false\" viewBox=\"0 0 24 24\" aria-hidden=\"true\" class=\"mat-checkbox-checkmark\"><path fill=\"none\" stroke=\"white\" d=\"M4.1,12.7 9,17.6 20.3,6.3\" class=\"mat-checkbox-checkmark-path\"></path></svg><span class=\"mat-checkbox-mixedmark\"></span></span></span><span class=\"mat-checkbox-label\"><span style=\"display: none;\">&nbsp;</span></span></label></mat-checkbox></td><td _ngcontent-nup-c105=\"\" role=\"cell\" mat-cell=\"\" class=\"mat-cell cdk-cell cdk-column-name mat-column-name ng-tns-c105-1 ng-star-inserted\">1 Ave @ 42 St</td><td _ngcontent-nup-c105=\"\" role=\"cell\" mat-cell=\"\" class=\"mat-cell cdk-cell cdk-column-area mat-column-area ng-tns-c105-1 ng-star-inserted\">Manhattan</td><td _ngcontent-nup-c105=\"\" role=\"cell\" mat-cell=\"\" class=\"mat-cell cdk-cell cdk-column-responsive mat-column-responsive ng-tns-c105-1 ng-star-inserted\"><div _ngcontent-nup-c105=\"\" class=\"g-flex-column responsive-cell ng-tns-c105-1\"><span _ngcontent-nup-c105=\"\" class=\"g-flex-column column ng-tns-c105-1\"><span _ngcontent-nup-c105=\"\" class=\"label ng-tns-c105-1\">Camera Location:</span><span _ngcontent-nup-c105=\"\" class=\"ng-tns-c105-1\">1 Ave @ 42 St</span></span><mat-divider _ngcontent-nup-c105=\"\" role=\"separator\" class=\"mat-divider ng-tns-c105-1 mat-divider-horizontal\" aria-orientation=\"horizontal\"></mat-divider><span _ngcontent-nup-c105=\"\" class=\"g-flex-column column ng-tns-c105-1\"><span _ngcontent-nup-c105=\"\" class=\"label ng-tns-c105-1\">Borough:</span><span _ngcontent-nup-c105=\"\" class=\"ng-tns-c105-1\">Manhattan</span></span></div></td><td _ngcontent-nup-c105=\"\" role=\"cell\" mat-cell=\"\" class=\"mat-cell cdk-cell cdk-column-favoriteAction mat-column-favoriteAction ng-tns-c105-1 ng-star-inserted\"><button _ngcontent-nup-c105=\"\" mat-icon-button=\"\" color=\"primary\" title=\"Add to Favorite Cameras\" class=\"mat-focus-indicator mat-icon-button mat-button-base mat-primary ng-tns-c105-1 ng-star-inserted\"><span class=\"mat-button-wrapper\"><mat-icon _ngcontent-nup-c105=\"\" role=\"img\" class=\"mat-icon notranslate semi-transparent ng-trigger ng-trigger-iconFadeInOut material-icons mat-ligature-font mat-icon-no-color\" aria-hidden=\"true\" data-mat-icon-type=\"font\">star_border</mat-icon></span><span matripple=\"\" class=\"mat-ripple mat-button-ripple mat-button-ripple-round\"></span><span class=\"mat-button-focus-overlay\"></span></button><!----><!----></td><!----></tr><tr _ngcontent-nup-c105=\"\" role=\"row\" mat-row=\"\" class=\"mat-row cdk-row ng-tns-c105-1 ng-star-inserted\" style=\"\"><td _ngcontent-nup-c105=\"\" role=\"cell\" mat-cell=\"\" class=\"mat-cell cdk-cell cdk-column-select mat-column-select ng-tns-c105-1 ng-star-inserted\"><mat-checkbox _ngcontent-nup-c105=\"\" class=\"mat-checkbox ng-tns-c105-1 mat-accent\" id=\"mat-checkbox-7\"><label class=\"mat-checkbox-layout\" for=\"mat-checkbox-7-input\"><span class=\"mat-checkbox-inner-container mat-checkbox-inner-container-no-side-margin\"><input type=\"checkbox\" class=\"mat-checkbox-input cdk-visually-hidden\" id=\"mat-checkbox-7-input\" tabindex=\"0\" aria-checked=\"false\"><span matripple=\"\" class=\"mat-ripple mat-checkbox-ripple mat-focus-indicator\"><span class=\"mat-ripple-element mat-checkbox-persistent-ripple\"></span></span><span class=\"mat-checkbox-frame\"></span><span class=\"mat-checkbox-background\"><svg version=\"1.1\" focusable=\"false\" viewBox=\"0 0 24 24\" aria-hidden=\"true\" class=\"mat-checkbox-checkmark\"><path fill=\"none\" stroke=\"white\" d=\"M4.1,12.7 9,17.6 20.3,6.3\" class=\"mat-checkbox-checkmark-path\"></path></svg><span class=\"mat-checkbox-mixedmark\"></span></span></span><span class=\"mat-checkbox-label\"><span style=\"display: none;\">&nbsp;</span></span></label></mat-checkbox></td><td _ngcontent-nup-c105=\"\" role=\"cell\" mat-cell=\"\" class=\"mat-cell cdk-cell cdk-column-name mat-column-name ng-tns-c105-1 ng-star-inserted\">1 Ave @ 57 st</td><td _ngcontent-nup-c105=\"\" role=\"cell\" mat-cell=\"\" class=\"mat-cell cdk-cell cdk-column-area mat-column-area ng-tns-c105-1 ng-star-inserted\">Manhattan</td><td _ngcontent-nup-c105=\"\" role=\"cell\" mat-cell=\"\" class=\"mat-cell cdk-cell cdk-column-responsive mat-column-responsive ng-tns-c105-1 ng-star-inserted\"><div _ngcontent-nup-c105=\"\" class=\"g-flex-column responsive-cell ng-tns-c105-1\"><span _ngcontent-nup-c105=\"\" class=\"g-flex-column column ng-tns-c105-1\"><span _ngcontent-nup-c105=\"\" class=\"label ng-tns-c105-1\">Camera Location:</span><span _ngcontent-nup-c105=\"\" class=\"ng-tns-c105-1\">1 Ave @ 57 st</span></span><mat-divider _ngcontent-nup-c105=\"\" role=\"separator\" class=\"mat-divider ng-tns-c105-1 mat-divider-horizontal\" aria-orientation=\"horizontal\"></mat-divider><span _ngcontent-nup-c105=\"\" class=\"g-flex-column column ng-tns-c105-1\"><span _ngcontent-nup-c105=\"\" class=\"label ng-tns-c105-1\">Borough:</span><span _ngcontent-nup-c105=\"\" class=\"ng-tns-c105-1\">Manhattan</span></span></div></td><td _ngcontent-nup-c105=\"\" role=\"cell\" mat-cell=\"\" class=\"mat-cell cdk-cell cdk-column-favoriteAction mat-column-favoriteAction ng-tns-c105-1 ng-star-inserted\"><button _ngcontent-nup-c105=\"\" mat-icon-button=\"\" color=\"primary\" title=\"Add to Favorite Cameras\" class=\"mat-focus-indicator mat-icon-button mat-button-base mat-primary ng-tns-c105-1 ng-star-inserted\"><span class=\"mat-button-wrapper\"><mat-icon _ngcontent-nup-c105=\"\" role=\"img\" class=\"mat-icon notranslate semi-transparent ng-trigger ng-trigger-iconFadeInOut material-icons mat-ligature-font mat-icon-no-color\" aria-hidden=\"true\" data-mat-icon-type=\"font\">star_border</mat-icon></span><span matripple=\"\" class=\"mat-ripple mat-button-ripple mat-button-ripple-round\"></span><span class=\"mat-button-focus-overlay\"></span></button><!----><!----></td><!----></tr><tr _ngcontent-nup-c105=\"\" role=\"row\" mat-row=\"\" class=\"mat-row cdk-row ng-tns-c105-1 ng-star-inserted\" style=\"\"><td _ngcontent-nup-c105=\"\" role=\"cell\" mat-cell=\"\" class=\"mat-cell cdk-cell cdk-column-select mat-column-select ng-tns-c105-1 ng-star-inserted\"><mat-checkbox _ngcontent-nup-c105=\"\" class=\"mat-checkbox ng-tns-c105-1 mat-accent\" id=\"mat-checkbox-8\"><label class=\"mat-checkbox-layout\" for=\"mat-checkbox-8-input\"><span class=\"mat-checkbox-inner-container mat-checkbox-inner-container-no-side-margin\"><input type=\"checkbox\" class=\"mat-checkbox-input cdk-visually-hidden\" id=\"mat-checkbox-8-input\" tabindex=\"0\" aria-checked=\"false\"><span matripple=\"\" class=\"mat-ripple mat-checkbox-ripple mat-focus-indicator\"><span class=\"mat-ripple-element mat-checkbox-persistent-ripple\"></span></span><span class=\"mat-checkbox-frame\"></span><span class=\"mat-checkbox-background\"><svg version=\"1.1\" focusable=\"false\" viewBox=\"0 0 24 24\" aria-hidden=\"true\" class=\"mat-checkbox-checkmark\"><path fill=\"none\" stroke=\"white\" d=\"M4.1,12.7 9,17.6 20.3,6.3\" class=\"mat-checkbox-checkmark-path\"></path></svg><span class=\"mat-checkbox-mixedmark\"></span></span></span><span class=\"mat-checkbox-label\"><span style=\"display: none;\">&nbsp;</span></span></label></mat-checkbox></td><td _ngcontent-nup-c105=\"\" role=\"cell\" mat-cell=\"\" class=\"mat-cell cdk-cell cdk-column-name mat-column-name ng-tns-c105-1 ng-star-inserted\">1 Ave @ 59 St</td><td _ngcontent-nup-c105=\"\" role=\"cell\" mat-cell=\"\" class=\"mat-cell cdk-cell cdk-column-area mat-column-area ng-tns-c105-1 ng-star-inserted\">Manhattan</td><td _ngcontent-nup-c105=\"\" role=\"cell\" mat-cell=\"\" class=\"mat-cell cdk-cell cdk-column-responsive mat-column-responsive ng-tns-c105-1 ng-star-inserted\"><div _ngcontent-nup-c105=\"\" class=\"g-flex-column responsive-cell ng-tns-c105-1\"><span _ngcontent-nup-c105=\"\" class=\"g-flex-column column ng-tns-c105-1\"><span _ngcontent-nup-c105=\"\" class=\"label ng-tns-c105-1\">Camera Location:</span><span _ngcontent-nup-c105=\"\" class=\"ng-tns-c105-1\">1 Ave @ 59 St</span></span><mat-divider _ngcontent-nup-c105=\"\" role=\"separator\" class=\"mat-divider ng-tns-c105-1 mat-divider-horizontal\" aria-orientation=\"horizontal\"></mat-divider><span _ngcontent-nup-c105=\"\" class=\"g-flex-column column ng-tns-c105-1\"><span _ngcontent-nup-c105=\"\" class=\"label ng-tns-c105-1\">Borough:</span><span _ngcontent-nup-c105=\"\" class=\"ng-tns-c105-1\">Manhattan</span></span></div></td><td _ngcontent-nup-c105=\"\" role=\"cell\" mat-cell=\"\" class=\"mat-cell cdk-cell cdk-column-favoriteAction mat-column-favoriteAction ng-tns-c105-1 ng-star-inserted\"><button _ngcontent-nup-c105=\"\" mat-icon-button=\"\" color=\"primary\" title=\"Add to Favorite Cameras\" class=\"mat-focus-indicator mat-icon-button mat-button-base mat-primary ng-tns-c105-1 ng-star-inserted\"><span class=\"mat-button-wrapper\"><mat-icon _ngcontent-nup-c105=\"\" role=\"img\" class=\"mat-icon notranslate semi-transparent ng-trigger ng-trigger-iconFadeInOut material-icons mat-ligature-font mat-icon-no-color\" aria-hidden=\"true\" data-mat-icon-type=\"font\">star_border</mat-icon></span><span matripple=\"\" class=\"mat-ripple mat-button-ripple mat-button-ripple-round\"></span><span class=\"mat-button-focus-overlay\"></span></button><!----><!----></td><!----></tr><tr _ngcontent-nup-c105=\"\" role=\"row\" mat-row=\"\" class=\"mat-row cdk-row ng-tns-c105-1 ng-star-inserted\" style=\"\"><td _ngcontent-nup-c105=\"\" role=\"cell\" mat-cell=\"\" class=\"mat-cell cdk-cell cdk-column-select mat-column-select ng-tns-c105-1 ng-star-inserted\"><mat-checkbox _ngcontent-nup-c105=\"\" class=\"mat-checkbox ng-tns-c105-1 mat-accent\" id=\"mat-checkbox-9\"><label class=\"mat-checkbox-layout\" for=\"mat-checkbox-9-input\"><span class=\"mat-checkbox-inner-container mat-checkbox-inner-container-no-side-margin\"><input type=\"checkbox\" class=\"mat-checkbox-input cdk-visually-hidden\" id=\"mat-checkbox-9-input\" tabindex=\"0\" aria-checked=\"false\"><span matripple=\"\" class=\"mat-ripple mat-checkbox-ripple mat-focus-indicator\"><span class=\"mat-ripple-element mat-checkbox-persistent-ripple\"></span></span><span class=\"mat-checkbox-frame\"></span><span class=\"mat-checkbox-background\"><svg version=\"1.1\" focusable=\"false\" viewBox=\"0 0 24 24\" aria-hidden=\"true\" class=\"mat-checkbox-checkmark\"><path fill=\"none\" stroke=\"white\" d=\"M4.1,12.7 9,17.6 20.3,6.3\" class=\"mat-checkbox-checkmark-path\"></path></svg><span class=\"mat-checkbox-mixedmark\"></span></span></span><span class=\"mat-checkbox-label\"><span style=\"display: none;\">&nbsp;</span></span></label></mat-checkbox></td><td _ngcontent-nup-c105=\"\" role=\"cell\" mat-cell=\"\" class=\"mat-cell cdk-cell cdk-column-name mat-column-name ng-tns-c105-1 ng-star-inserted\">1 Ave @ 62 St</td><td _ngcontent-nup-c105=\"\" role=\"cell\" mat-cell=\"\" class=\"mat-cell cdk-cell cdk-column-area mat-column-area ng-tns-c105-1 ng-star-inserted\">Manhattan</td><td _ngcontent-nup-c105=\"\" role=\"cell\" mat-cell=\"\" class=\"mat-cell cdk-cell cdk-column-responsive mat-column-responsive ng-tns-c105-1 ng-star-inserted\"><div _ngcontent-nup-c105=\"\" class=\"g-flex-column responsive-cell ng-tns-c105-1\"><span _ngcontent-nup-c105=\"\" class=\"g-flex-column column ng-tns-c105-1\"><span _ngcontent-nup-c105=\"\" class=\"label ng-tns-c105-1\">Camera Location:</span><span _ngcontent-nup-c105=\"\" class=\"ng-tns-c105-1\">1 Ave @ 62 St</span></span><mat-divider _ngcontent-nup-c105=\"\" role=\"separator\" class=\"mat-divider ng-tns-c105-1 mat-divider-horizontal\" aria-orientation=\"horizontal\"></mat-divider><span _ngcontent-nup-c105=\"\" class=\"g-flex-column column ng-tns-c105-1\"><span _ngcontent-nup-c105=\"\" class=\"label ng-tns-c105-1\">Borough:</span><span _ngcontent-nup-c105=\"\" class=\"ng-tns-c105-1\">Manhattan</span></span></div></td><td _ngcontent-nup-c105=\"\" role=\"cell\" mat-cell=\"\" class=\"mat-cell cdk-cell cdk-column-favoriteAction mat-column-favoriteAction ng-tns-c105-1 ng-star-inserted\"><button _ngcontent-nup-c105=\"\" mat-icon-button=\"\" color=\"primary\" title=\"Add to Favorite Cameras\" class=\"mat-focus-indicator mat-icon-button mat-button-base mat-primary ng-tns-c105-1 ng-star-inserted\"><span class=\"mat-button-wrapper\"><mat-icon _ngcontent-nup-c105=\"\" role=\"img\" class=\"mat-icon notranslate semi-transparent ng-trigger ng-trigger-iconFadeInOut material-icons mat-ligature-font mat-icon-no-color\" aria-hidden=\"true\" data-mat-icon-type=\"font\">star_border</mat-icon></span><span matripple=\"\" class=\"mat-ripple mat-button-ripple mat-button-ripple-round\"></span><span class=\"mat-button-focus-overlay\"></span></button><!----><!----></td><!----></tr><tr _ngcontent-nup-c105=\"\" role=\"row\" mat-row=\"\" class=\"mat-row cdk-row ng-tns-c105-1 ng-star-inserted\" style=\"\"><td _ngcontent-nup-c105=\"\" role=\"cell\" mat-cell=\"\" class=\"mat-cell cdk-cell cdk-column-select mat-column-select ng-tns-c105-1 ng-star-inserted\"><mat-checkbox _ngcontent-nup-c105=\"\" class=\"mat-checkbox ng-tns-c105-1 mat-accent\" id=\"mat-checkbox-10\"><label class=\"mat-checkbox-layout\" for=\"mat-checkbox-10-input\"><span class=\"mat-checkbox-inner-container mat-checkbox-inner-container-no-side-margin\"><input type=\"checkbox\" class=\"mat-checkbox-input cdk-visually-hidden\" id=\"mat-checkbox-10-input\" tabindex=\"0\" aria-checked=\"false\"><span matripple=\"\" class=\"mat-ripple mat-checkbox-ripple mat-focus-indicator\"><span class=\"mat-ripple-element mat-checkbox-persistent-ripple\"></span></span><span class=\"mat-checkbox-frame\"></span><span class=\"mat-checkbox-background\"><svg version=\"1.1\" focusable=\"false\" viewBox=\"0 0 24 24\" aria-hidden=\"true\" class=\"mat-checkbox-checkmark\"><path fill=\"none\" stroke=\"white\" d=\"M4.1,12.7 9,17.6 20.3,6.3\" class=\"mat-checkbox-checkmark-path\"></path></svg><span class=\"mat-checkbox-mixedmark\"></span></span></span><span class=\"mat-checkbox-label\"><span style=\"display: none;\">&nbsp;</span></span></label></mat-checkbox></td><td _ngcontent-nup-c105=\"\" role=\"cell\" mat-cell=\"\" class=\"mat-cell cdk-cell cdk-column-name mat-column-name ng-tns-c105-1 ng-star-inserted\">1 Ave @ 86 St</td><td _ngcontent-nup-c105=\"\" role=\"cell\" mat-cell=\"\" class=\"mat-cell cdk-cell cdk-column-area mat-column-area ng-tns-c105-1 ng-star-inserted\">Manhattan</td><td _ngcontent-nup-c105=\"\" role=\"cell\" mat-cell=\"\" class=\"mat-cell cdk-cell cdk-column-responsive mat-column-responsive ng-tns-c105-1 ng-star-inserted\"><div _ngcontent-nup-c105=\"\" class=\"g-flex-column responsive-cell ng-tns-c105-1\"><span _ngcontent-nup-c105=\"\" class=\"g-flex-column column ng-tns-c105-1\"><span _ngcontent-nup-c105=\"\" class=\"label ng-tns-c105-1\">Camera Location:</span><span _ngcontent-nup-c105=\"\" class=\"ng-tns-c105-1\">1 Ave @ 86 St</span></span><mat-divider _ngcontent-nup-c105=\"\" role=\"separator\" class=\"mat-divider ng-tns-c105-1 mat-divider-horizontal\" aria-orientation=\"horizontal\"></mat-divider><span _ngcontent-nup-c105=\"\" class=\"g-flex-column column ng-tns-c105-1\"><span _ngcontent-nup-c105=\"\" class=\"label ng-tns-c105-1\">Borough:</span><span _ngcontent-nup-c105=\"\" class=\"ng-tns-c105-1\">Manhattan</span></span></div></td><td _ngcontent-nup-c105=\"\" role=\"cell\" mat-cell=\"\" class=\"mat-cell cdk-cell cdk-column-favoriteAction mat-column-favoriteAction ng-tns-c105-1 ng-star-inserted\"><button _ngcontent-nup-c105=\"\" mat-icon-button=\"\" color=\"primary\" title=\"Add to Favorite Cameras\" class=\"mat-focus-indicator mat-icon-button mat-button-base mat-primary ng-tns-c105-1 ng-star-inserted\"><span class=\"mat-button-wrapper\"><mat-icon _ngcontent-nup-c105=\"\" role=\"img\" class=\"mat-icon notranslate semi-transparent ng-trigger ng-trigger-iconFadeInOut material-icons mat-ligature-font mat-icon-no-color\" aria-hidden=\"true\" data-mat-icon-type=\"font\">star_border</mat-icon></span><span matripple=\"\" class=\"mat-ripple mat-button-ripple mat-button-ripple-round\"></span><span class=\"mat-button-focus-overlay\"></span></button><!----><!----></td><!----></tr><tr _ngcontent-nup-c105=\"\" role=\"row\" mat-row=\"\" class=\"mat-row cdk-row ng-tns-c105-1 ng-star-inserted\" style=\"\"><td _ngcontent-nup-c105=\"\" role=\"cell\" mat-cell=\"\" class=\"mat-cell cdk-cell cdk-column-select mat-column-select ng-tns-c105-1 ng-star-inserted\"><mat-checkbox _ngcontent-nup-c105=\"\" class=\"mat-checkbox ng-tns-c105-1 mat-accent\" id=\"mat-checkbox-11\"><label class=\"mat-checkbox-layout\" for=\"mat-checkbox-11-input\"><span class=\"mat-checkbox-inner-container mat-checkbox-inner-container-no-side-margin\"><input type=\"checkbox\" class=\"mat-checkbox-input cdk-visually-hidden\" id=\"mat-checkbox-11-input\" tabindex=\"0\" aria-checked=\"false\"><span matripple=\"\" class=\"mat-ripple mat-checkbox-ripple mat-focus-indicator\"><span class=\"mat-ripple-element mat-checkbox-persistent-ripple\"></span></span><span class=\"mat-checkbox-frame\"></span><span class=\"mat-checkbox-background\"><svg version=\"1.1\" focusable=\"false\" viewBox=\"0 0 24 24\" aria-hidden=\"true\" class=\"mat-checkbox-checkmark\"><path fill=\"none\" stroke=\"white\" d=\"M4.1,12.7 9,17.6 20.3,6.3\" class=\"mat-checkbox-checkmark-path\"></path></svg><span class=\"mat-checkbox-mixedmark\"></span></span></span><span class=\"mat-checkbox-label\"><span style=\"display: none;\">&nbsp;</span></span></label></mat-checkbox></td><td _ngcontent-nup-c105=\"\" role=\"cell\" mat-cell=\"\" class=\"mat-cell cdk-cell cdk-column-name mat-column-name ng-tns-c105-1 ng-star-inserted\">1 Ave @ 96 St</td><td _ngcontent-nup-c105=\"\" role=\"cell\" mat-cell=\"\" class=\"mat-cell cdk-cell cdk-column-area mat-column-area ng-tns-c105-1 ng-star-inserted\">Manhattan</td><td _ngcontent-nup-c105=\"\" role=\"cell\" mat-cell=\"\" class=\"mat-cell cdk-cell cdk-column-responsive mat-column-responsive ng-tns-c105-1 ng-star-inserted\"><div _ngcontent-nup-c105=\"\" class=\"g-flex-column responsive-cell ng-tns-c105-1\"><span _ngcontent-nup-c105=\"\" class=\"g-flex-column column ng-tns-c105-1\"><span _ngcontent-nup-c105=\"\" class=\"label ng-tns-c105-1\">Camera Location:</span><span _ngcontent-nup-c105=\"\" class=\"ng-tns-c105-1\">1 Ave @ 96 St</span></span><mat-divider _ngcontent-nup-c105=\"\" role=\"separator\" class=\"mat-divider ng-tns-c105-1 mat-divider-horizontal\" aria-orientation=\"horizontal\"></mat-divider><span _ngcontent-nup-c105=\"\" class=\"g-flex-column column ng-tns-c105-1\"><span _ngcontent-nup-c105=\"\" class=\"label ng-tns-c105-1\">Borough:</span><span _ngcontent-nup-c105=\"\" class=\"ng-tns-c105-1\">Manhattan</span></span></div></td><td _ngcontent-nup-c105=\"\" role=\"cell\" mat-cell=\"\" class=\"mat-cell cdk-cell cdk-column-favoriteAction mat-column-favoriteAction ng-tns-c105-1 ng-star-inserted\"><button _ngcontent-nup-c105=\"\" mat-icon-button=\"\" color=\"primary\" title=\"Add to Favorite Cameras\" class=\"mat-focus-indicator mat-icon-button mat-button-base mat-primary ng-tns-c105-1 ng-star-inserted\"><span class=\"mat-button-wrapper\"><mat-icon _ngcontent-nup-c105=\"\" role=\"img\" class=\"mat-icon notranslate semi-transparent ng-trigger ng-trigger-iconFadeInOut material-icons mat-ligature-font mat-icon-no-color\" aria-hidden=\"true\" data-mat-icon-type=\"font\">star_border</mat-icon></span><span matripple=\"\" class=\"mat-ripple mat-button-ripple mat-button-ripple-round\"></span><span class=\"mat-button-focus-overlay\"></span></button><!----><!----></td><!----></tr><tr _ngcontent-nup-c105=\"\" role=\"row\" mat-row=\"\" class=\"mat-row cdk-row ng-tns-c105-1 ng-star-inserted\" style=\"\"><td _ngcontent-nup-c105=\"\" role=\"cell\" mat-cell=\"\" class=\"mat-cell cdk-cell cdk-column-select mat-column-select ng-tns-c105-1 ng-star-inserted\"><mat-checkbox _ngcontent-nup-c105=\"\" class=\"mat-checkbox ng-tns-c105-1 mat-accent\" id=\"mat-checkbox-12\"><label class=\"mat-checkbox-layout\" for=\"mat-checkbox-12-input\"><span class=\"mat-checkbox-inner-container mat-checkbox-inner-container-no-side-margin\"><input type=\"checkbox\" class=\"mat-checkbox-input cdk-visually-hidden\" id=\"mat-checkbox-12-input\" tabindex=\"0\" aria-checked=\"false\"><span matripple=\"\" class=\"mat-ripple mat-checkbox-ripple mat-focus-indicator\"><span class=\"mat-ripple-element mat-checkbox-persistent-ripple\"></span></span><span class=\"mat-checkbox-frame\"></span><span class=\"mat-checkbox-background\"><svg version=\"1.1\" focusable=\"false\" viewBox=\"0 0 24 24\" aria-hidden=\"true\" class=\"mat-checkbox-checkmark\"><path fill=\"none\" stroke=\"white\" d=\"M4.1,12.7 9,17.6 20.3,6.3\" class=\"mat-checkbox-checkmark-path\"></path></svg><span class=\"mat-checkbox-mixedmark\"></span></span></span><span class=\"mat-checkbox-label\"><span style=\"display: none;\">&nbsp;</span></span></label></mat-checkbox></td><td _ngcontent-nup-c105=\"\" role=\"cell\" mat-cell=\"\" class=\"mat-cell cdk-cell cdk-column-name mat-column-name ng-tns-c105-1 ng-star-inserted\">1 Ave @ E 14 St</td><td _ngcontent-nup-c105=\"\" role=\"cell\" mat-cell=\"\" class=\"mat-cell cdk-cell cdk-column-area mat-column-area ng-tns-c105-1 ng-star-inserted\">Manhattan</td><td _ngcontent-nup-c105=\"\" role=\"cell\" mat-cell=\"\" class=\"mat-cell cdk-cell cdk-column-responsive mat-column-responsive ng-tns-c105-1 ng-star-inserted\"><div _ngcontent-nup-c105=\"\" class=\"g-flex-column responsive-cell ng-tns-c105-1\"><span _ngcontent-nup-c105=\"\" class=\"g-flex-column column ng-tns-c105-1\"><span _ngcontent-nup-c105=\"\" class=\"label ng-tns-c105-1\">Camera Location:</span><span _ngcontent-nup-c105=\"\" class=\"ng-tns-c105-1\">1 Ave @ E 14 St</span></span><mat-divider _ngcontent-nup-c105=\"\" role=\"separator\" class=\"mat-divider ng-tns-c105-1 mat-divider-horizontal\" aria-orientation=\"horizontal\"></mat-divider><span _ngcontent-nup-c105=\"\" class=\"g-flex-column column ng-tns-c105-1\"><span _ngcontent-nup-c105=\"\" class=\"label ng-tns-c105-1\">Borough:</span><span _ngcontent-nup-c105=\"\" class=\"ng-tns-c105-1\">Manhattan</span></span></div></td><td _ngcontent-nup-c105=\"\" role=\"cell\" mat-cell=\"\" class=\"mat-cell cdk-cell cdk-column-favoriteAction mat-column-favoriteAction ng-tns-c105-1 ng-star-inserted\"><button _ngcontent-nup-c105=\"\" mat-icon-button=\"\" color=\"primary\" title=\"Add to Favorite Cameras\" class=\"mat-focus-indicator mat-icon-button mat-button-base mat-primary ng-tns-c105-1 ng-star-inserted\"><span class=\"mat-button-wrapper\"><mat-icon _ngcontent-nup-c105=\"\" role=\"img\" class=\"mat-icon notranslate semi-transparent ng-trigger ng-trigger-iconFadeInOut material-icons mat-ligature-font mat-icon-no-color\" aria-hidden=\"true\" data-mat-icon-type=\"font\">star_border</mat-icon></span><span matripple=\"\" class=\"mat-ripple mat-button-ripple mat-button-ripple-round\"></span><span class=\"mat-button-focus-overlay\"></span></button><!----><!----></td><!----></tr><tr _ngcontent-nup-c105=\"\" role=\"row\" mat-row=\"\" class=\"mat-row cdk-row ng-tns-c105-1 ng-star-inserted\" style=\"\"><td _ngcontent-nup-c105=\"\" role=\"cell\" mat-cell=\"\" class=\"mat-cell cdk-cell cdk-column-select mat-column-select ng-tns-c105-1 ng-star-inserted\"><mat-checkbox _ngcontent-nup-c105=\"\" class=\"mat-checkbox ng-tns-c105-1 mat-accent\" id=\"mat-checkbox-13\"><label class=\"mat-checkbox-layout\" for=\"mat-checkbox-13-input\"><span class=\"mat-checkbox-inner-container mat-checkbox-inner-container-no-side-margin\"><input type=\"checkbox\" class=\"mat-checkbox-input cdk-visually-hidden\" id=\"mat-checkbox-13-input\" tabindex=\"0\" aria-checked=\"false\"><span matripple=\"\" class=\"mat-ripple mat-checkbox-ripple mat-focus-indicator\"><span class=\"mat-ripple-element mat-checkbox-persistent-ripple\"></span></span><span class=\"mat-checkbox-frame\"></span><span class=\"mat-checkbox-background\"><svg version=\"1.1\" focusable=\"false\" viewBox=\"0 0 24 24\" aria-hidden=\"true\" class=\"mat-checkbox-checkmark\"><path fill=\"none\" stroke=\"white\" d=\"M4.1,12.7 9,17.6 20.3,6.3\" class=\"mat-checkbox-checkmark-path\"></path></svg><span class=\"mat-checkbox-mixedmark\"></span></span></span><span class=\"mat-checkbox-label\"><span style=\"display: none;\">&nbsp;</span></span></label></mat-checkbox></td><td _ngcontent-nup-c105=\"\" role=\"cell\" mat-cell=\"\" class=\"mat-cell cdk-cell cdk-column-name mat-column-name ng-tns-c105-1 ng-star-inserted\">1 Ave @ E. Houston St</td><td _ngcontent-nup-c105=\"\" role=\"cell\" mat-cell=\"\" class=\"mat-cell cdk-cell cdk-column-area mat-column-area ng-tns-c105-1 ng-star-inserted\">Manhattan</td><td _ngcontent-nup-c105=\"\" role=\"cell\" mat-cell=\"\" class=\"mat-cell cdk-cell cdk-column-responsive mat-column-responsive ng-tns-c105-1 ng-star-inserted\"><div _ngcontent-nup-c105=\"\" class=\"g-flex-column responsive-cell ng-tns-c105-1\"><span _ngcontent-nup-c105=\"\" class=\"g-flex-column column ng-tns-c105-1\"><span _ngcontent-nup-c105=\"\" class=\"label ng-tns-c105-1\">Camera Location:</span><span _ngcontent-nup-c105=\"\" class=\"ng-tns-c105-1\">1 Ave @ E. Houston St</span></span><mat-divider _ngcontent-nup-c105=\"\" role=\"separator\" class=\"mat-divider ng-tns-c105-1 mat-divider-horizontal\" aria-orientation=\"horizontal\"></mat-divider><span _ngcontent-nup-c105=\"\" class=\"g-flex-column column ng-tns-c105-1\"><span _ngcontent-nup-c105=\"\" class=\"label ng-tns-c105-1\">Borough:</span><span _ngcontent-nup-c105=\"\" class=\"ng-tns-c105-1\">Manhattan</span></span></div></td><td _ngcontent-nup-c105=\"\" role=\"cell\" mat-cell=\"\" class=\"mat-cell cdk-cell cdk-column-favoriteAction mat-column-favoriteAction ng-tns-c105-1 ng-star-inserted\"><button _ngcontent-nup-c105=\"\" mat-icon-button=\"\" color=\"primary\" title=\"Add to Favorite Cameras\" class=\"mat-focus-indicator mat-icon-button mat-button-base mat-primary ng-tns-c105-1 ng-star-inserted\"><span class=\"mat-button-wrapper\"><mat-icon _ngcontent-nup-c105=\"\" role=\"img\" class=\"mat-icon notranslate semi-transparent ng-trigger ng-trigger-iconFadeInOut material-icons mat-ligature-font mat-icon-no-color\" aria-hidden=\"true\" data-mat-icon-type=\"font\">star_border</mat-icon></span><span matripple=\"\" class=\"mat-ripple mat-button-ripple mat-button-ripple-round\"></span><span class=\"mat-button-focus-overlay\"></span></button><!----><!----></td><!----></tr><tr _ngcontent-nup-c105=\"\" role=\"row\" mat-row=\"\" class=\"mat-row cdk-row ng-tns-c105-1 ng-star-inserted\" style=\"\"><td _ngcontent-nup-c105=\"\" role=\"cell\" mat-cell=\"\" class=\"mat-cell cdk-cell cdk-column-select mat-column-select ng-tns-c105-1 ng-star-inserted\"><mat-checkbox _ngcontent-nup-c105=\"\" class=\"mat-checkbox ng-tns-c105-1 mat-accent\" id=\"mat-checkbox-14\"><label class=\"mat-checkbox-layout\" for=\"mat-checkbox-14-input\"><span class=\"mat-checkbox-inner-container mat-checkbox-inner-container-no-side-margin\"><input type=\"checkbox\" class=\"mat-checkbox-input cdk-visually-hidden\" id=\"mat-checkbox-14-input\" tabindex=\"0\" aria-checked=\"false\"><span matripple=\"\" class=\"mat-ripple mat-checkbox-ripple mat-focus-indicator\"><span class=\"mat-ripple-element mat-checkbox-persistent-ripple\"></span></span><span class=\"mat-checkbox-frame\"></span><span class=\"mat-checkbox-background\"><svg version=\"1.1\" focusable=\"false\" viewBox=\"0 0 24 24\" aria-hidden=\"true\" class=\"mat-checkbox-checkmark\"><path fill=\"none\" stroke=\"white\" d=\"M4.1,12.7 9,17.6 20.3,6.3\" class=\"mat-checkbox-checkmark-path\"></path></svg><span class=\"mat-checkbox-mixedmark\"></span></span></span><span class=\"mat-checkbox-label\"><span style=\"display: none;\">&nbsp;</span></span></label></mat-checkbox></td><td _ngcontent-nup-c105=\"\" role=\"cell\" mat-cell=\"\" class=\"mat-cell cdk-cell cdk-column-name mat-column-name ng-tns-c105-1 ng-star-inserted\">1 Avenue @ East 60 Street</td><td _ngcontent-nup-c105=\"\" role=\"cell\" mat-cell=\"\" class=\"mat-cell cdk-cell cdk-column-area mat-column-area ng-tns-c105-1 ng-star-inserted\">Manhattan</td><td _ngcontent-nup-c105=\"\" role=\"cell\" mat-cell=\"\" class=\"mat-cell cdk-cell cdk-column-responsive mat-column-responsive ng-tns-c105-1 ng-star-inserted\"><div _ngcontent-nup-c105=\"\" class=\"g-flex-column responsive-cell ng-tns-c105-1\"><span _ngcontent-nup-c105=\"\" class=\"g-flex-column column ng-tns-c105-1\"><span _ngcontent-nup-c105=\"\" class=\"label ng-tns-c105-1\">Camera Location:</span><span _ngcontent-nup-c105=\"\" class=\"ng-tns-c105-1\">1 Avenue @ East 60 Street</span></span><mat-divider _ngcontent-nup-c105=\"\" role=\"separator\" class=\"mat-divider ng-tns-c105-1 mat-divider-horizontal\" aria-orientation=\"horizontal\"></mat-divider><span _ngcontent-nup-c105=\"\" class=\"g-flex-column column ng-tns-c105-1\"><span _ngcontent-nup-c105=\"\" class=\"label ng-tns-c105-1\">Borough:</span><span _ngcontent-nup-c105=\"\" class=\"ng-tns-c105-1\">Manhattan</span></span></div></td><td _ngcontent-nup-c105=\"\" role=\"cell\" mat-cell=\"\" class=\"mat-cell cdk-cell cdk-column-favoriteAction mat-column-favoriteAction ng-tns-c105-1 ng-star-inserted\"><button _ngcontent-nup-c105=\"\" mat-icon-button=\"\" color=\"primary\" title=\"Add to Favorite Cameras\" class=\"mat-focus-indicator mat-icon-button mat-button-base mat-primary ng-tns-c105-1 ng-star-inserted\"><span class=\"mat-button-wrapper\"><mat-icon _ngcontent-nup-c105=\"\" role=\"img\" class=\"mat-icon notranslate semi-transparent ng-trigger ng-trigger-iconFadeInOut material-icons mat-ligature-font mat-icon-no-color\" aria-hidden=\"true\" data-mat-icon-type=\"font\">star_border</mat-icon></span><span matripple=\"\" class=\"mat-ripple mat-button-ripple mat-button-ripple-round\"></span><span class=\"mat-button-focus-overlay\"></span></button><!----><!----></td><!----></tr><tr _ngcontent-nup-c105=\"\" role=\"row\" mat-row=\"\" class=\"mat-row cdk-row ng-tns-c105-1 ng-star-inserted\" style=\"\"><td _ngcontent-nup-c105=\"\" role=\"cell\" mat-cell=\"\" class=\"mat-cell cdk-cell cdk-column-select mat-column-select ng-tns-c105-1 ng-star-inserted\"><mat-checkbox _ngcontent-nup-c105=\"\" class=\"mat-checkbox ng-tns-c105-1 mat-accent\" id=\"mat-checkbox-15\"><label class=\"mat-checkbox-layout\" for=\"mat-checkbox-15-input\"><span class=\"mat-checkbox-inner-container mat-checkbox-inner-container-no-side-margin\"><input type=\"checkbox\" class=\"mat-checkbox-input cdk-visually-hidden\" id=\"mat-checkbox-15-input\" tabindex=\"0\" aria-checked=\"false\"><span matripple=\"\" class=\"mat-ripple mat-checkbox-ripple mat-focus-indicator\"><span class=\"mat-ripple-element mat-checkbox-persistent-ripple\"></span></span><span class=\"mat-checkbox-frame\"></span><span class=\"mat-checkbox-background\"><svg version=\"1.1\" focusable=\"false\" viewBox=\"0 0 24 24\" aria-hidden=\"true\" class=\"mat-checkbox-checkmark\"><path fill=\"none\" stroke=\"white\" d=\"M4.1,12.7 9,17.6 20.3,6.3\" class=\"mat-checkbox-checkmark-path\"></path></svg><span class=\"mat-checkbox-mixedmark\"></span></span></span><span class=\"mat-checkbox-label\"><span style=\"display: none;\">&nbsp;</span></span></label></mat-checkbox></td><td _ngcontent-nup-c105=\"\" role=\"cell\" mat-cell=\"\" class=\"mat-cell cdk-cell cdk-column-name mat-column-name ng-tns-c105-1 ng-star-inserted\">1 st Camera South Bound BPU-148.55</td><td _ngcontent-nup-c105=\"\" role=\"cell\" mat-cell=\"\" class=\"mat-cell cdk-cell cdk-column-area mat-column-area ng-tns-c105-1 ng-star-inserted\">Manhattan</td><td _ngcontent-nup-c105=\"\" role=\"cell\" mat-cell=\"\" class=\"mat-cell cdk-cell cdk-column-responsive mat-column-responsive ng-tns-c105-1 ng-star-inserted\"><div _ngcontent-nup-c105=\"\" class=\"g-flex-column responsive-cell ng-tns-c105-1\"><span _ngcontent-nup-c105=\"\" class=\"g-flex-column column ng-tns-c105-1\"><span _ngcontent-nup-c105=\"\" class=\"label ng-tns-c105-1\">Camera Location:</span><span _ngcontent-nup-c105=\"\" class=\"ng-tns-c105-1\">1 st Camera South Bound BPU-148.55</span></span><mat-divider _ngcontent-nup-c105=\"\" role=\"separator\" class=\"mat-divider ng-tns-c105-1 mat-divider-horizontal\" aria-orientation=\"horizontal\"></mat-divider><span _ngcontent-nup-c105=\"\" class=\"g-flex-column column ng-tns-c105-1\"><span _ngcontent-nup-c105=\"\" class=\"label ng-tns-c105-1\">Borough:</span><span _ngcontent-nup-c105=\"\" class=\"ng-tns-c105-1\">Manhattan</span></span></div></td><td _ngcontent-nup-c105=\"\" role=\"cell\" mat-cell=\"\" class=\"mat-cell cdk-cell cdk-column-favoriteAction mat-column-favoriteAction ng-tns-c105-1 ng-star-inserted\"><button _ngcontent-nup-c105=\"\" mat-icon-button=\"\" color=\"primary\" title=\"Add to Favorite Cameras\" class=\"mat-focus-indicator mat-icon-button mat-button-base mat-primary ng-tns-c105-1 ng-star-inserted\"><span class=\"mat-button-wrapper\"><mat-icon _ngcontent-nup-c105=\"\" role=\"img\" class=\"mat-icon notranslate semi-transparent ng-trigger ng-trigger-iconFadeInOut material-icons mat-ligature-font mat-icon-no-color\" aria-hidden=\"true\" data-mat-icon-type=\"font\">star_border</mat-icon></span><span matripple=\"\" class=\"mat-ripple mat-button-ripple mat-button-ripple-round\"></span><span class=\"mat-button-focus-overlay\"></span></button><!----><!----></td><!----></tr><tr _ngcontent-nup-c105=\"\" role=\"row\" mat-row=\"\" class=\"mat-row cdk-row ng-tns-c105-1 ng-star-inserted\" style=\"\"><td _ngcontent-nup-c105=\"\" role=\"cell\" mat-cell=\"\" class=\"mat-cell cdk-cell cdk-column-select mat-column-select ng-tns-c105-1 ng-star-inserted\"><mat-checkbox _ngcontent-nup-c105=\"\" class=\"mat-checkbox ng-tns-c105-1 mat-accent\" id=\"mat-checkbox-16\"><label class=\"mat-checkbox-layout\" for=\"mat-checkbox-16-input\"><span class=\"mat-checkbox-inner-container mat-checkbox-inner-container-no-side-margin\"><input type=\"checkbox\" class=\"mat-checkbox-input cdk-visually-hidden\" id=\"mat-checkbox-16-input\" tabindex=\"0\" aria-checked=\"false\"><span matripple=\"\" class=\"mat-ripple mat-checkbox-ripple mat-focus-indicator\"><span class=\"mat-ripple-element mat-checkbox-persistent-ripple\"></span></span><span class=\"mat-checkbox-frame\"></span><span class=\"mat-checkbox-background\"><svg version=\"1.1\" focusable=\"false\" viewBox=\"0 0 24 24\" aria-hidden=\"true\" class=\"mat-checkbox-checkmark\"><path fill=\"none\" stroke=\"white\" d=\"M4.1,12.7 9,17.6 20.3,6.3\" class=\"mat-checkbox-checkmark-path\"></path></svg><span class=\"mat-checkbox-mixedmark\"></span></span></span><span class=\"mat-checkbox-label\"><span style=\"display: none;\">&nbsp;</span></span></label></mat-checkbox></td><td _ngcontent-nup-c105=\"\" role=\"cell\" mat-cell=\"\" class=\"mat-cell cdk-cell cdk-column-name mat-column-name ng-tns-c105-1 ng-star-inserted\">10 Ave @ 42 St</td><td _ngcontent-nup-c105=\"\" role=\"cell\" mat-cell=\"\" class=\"mat-cell cdk-cell cdk-column-area mat-column-area ng-tns-c105-1 ng-star-inserted\">Manhattan</td><td _ngcontent-nup-c105=\"\" role=\"cell\" mat-cell=\"\" class=\"mat-cell cdk-cell cdk-column-responsive mat-column-responsive ng-tns-c105-1 ng-star-inserted\"><div _ngcontent-nup-c105=\"\" class=\"g-flex-column responsive-cell ng-tns-c105-1\"><span _ngcontent-nup-c105=\"\" class=\"g-flex-column column ng-tns-c105-1\"><span _ngcontent-nup-c105=\"\" class=\"label ng-tns-c105-1\">Camera Location:</span><span _ngcontent-nup-c105=\"\" class=\"ng-tns-c105-1\">10 Ave @ 42 St</span></span><mat-divider _ngcontent-nup-c105=\"\" role=\"separator\" class=\"mat-divider ng-tns-c105-1 mat-divider-horizontal\" aria-orientation=\"horizontal\"></mat-divider><span _ngcontent-nup-c105=\"\" class=\"g-flex-column column ng-tns-c105-1\"><span _ngcontent-nup-c105=\"\" class=\"label ng-tns-c105-1\">Borough:</span><span _ngcontent-nup-c105=\"\" class=\"ng-tns-c105-1\">Manhattan</span></span></div></td><td _ngcontent-nup-c105=\"\" role=\"cell\" mat-cell=\"\" class=\"mat-cell cdk-cell cdk-column-favoriteAction mat-column-favoriteAction ng-tns-c105-1 ng-star-inserted\"><button _ngcontent-nup-c105=\"\" mat-icon-button=\"\" color=\"primary\" title=\"Add to Favorite Cameras\" class=\"mat-focus-indicator mat-icon-button mat-button-base mat-primary ng-tns-c105-1 ng-star-inserted\"><span class=\"mat-button-wrapper\"><mat-icon _ngcontent-nup-c105=\"\" role=\"img\" class=\"mat-icon notranslate semi-transparent ng-trigger ng-trigger-iconFadeInOut material-icons mat-ligature-font mat-icon-no-color\" aria-hidden=\"true\" data-mat-icon-type=\"font\">star_border</mat-icon></span><span matripple=\"\" class=\"mat-ripple mat-button-ripple mat-button-ripple-round\"></span><span class=\"mat-button-focus-overlay\"></span></button><!----><!----></td><!----></tr><tr _ngcontent-nup-c105=\"\" role=\"row\" mat-row=\"\" class=\"mat-row cdk-row ng-tns-c105-1 ng-star-inserted\" style=\"\"><td _ngcontent-nup-c105=\"\" role=\"cell\" mat-cell=\"\" class=\"mat-cell cdk-cell cdk-column-select mat-column-select ng-tns-c105-1 ng-star-inserted\"><mat-checkbox _ngcontent-nup-c105=\"\" class=\"mat-checkbox ng-tns-c105-1 mat-accent\" id=\"mat-checkbox-17\"><label class=\"mat-checkbox-layout\" for=\"mat-checkbox-17-input\"><span class=\"mat-checkbox-inner-container mat-checkbox-inner-container-no-side-margin\"><input type=\"checkbox\" class=\"mat-checkbox-input cdk-visually-hidden\" id=\"mat-checkbox-17-input\" tabindex=\"0\" aria-checked=\"false\"><span matripple=\"\" class=\"mat-ripple mat-checkbox-ripple mat-focus-indicator\"><span class=\"mat-ripple-element mat-checkbox-persistent-ripple\"></span></span><span class=\"mat-checkbox-frame\"></span><span class=\"mat-checkbox-background\"><svg version=\"1.1\" focusable=\"false\" viewBox=\"0 0 24 24\" aria-hidden=\"true\" class=\"mat-checkbox-checkmark\"><path fill=\"none\" stroke=\"white\" d=\"M4.1,12.7 9,17.6 20.3,6.3\" class=\"mat-checkbox-checkmark-path\"></path></svg><span class=\"mat-checkbox-mixedmark\"></span></span></span><span class=\"mat-checkbox-label\"><span style=\"display: none;\">&nbsp;</span></span></label></mat-checkbox></td><td _ngcontent-nup-c105=\"\" role=\"cell\" mat-cell=\"\" class=\"mat-cell cdk-cell cdk-column-name mat-column-name ng-tns-c105-1 ng-star-inserted\">10 Ave @ 57 St</td><td _ngcontent-nup-c105=\"\" role=\"cell\" mat-cell=\"\" class=\"mat-cell cdk-cell cdk-column-area mat-column-area ng-tns-c105-1 ng-star-inserted\">Manhattan</td><td _ngcontent-nup-c105=\"\" role=\"cell\" mat-cell=\"\" class=\"mat-cell cdk-cell cdk-column-responsive mat-column-responsive ng-tns-c105-1 ng-star-inserted\"><div _ngcontent-nup-c105=\"\" class=\"g-flex-column responsive-cell ng-tns-c105-1\"><span _ngcontent-nup-c105=\"\" class=\"g-flex-column column ng-tns-c105-1\"><span _ngcontent-nup-c105=\"\" class=\"label ng-tns-c105-1\">Camera Location:</span><span _ngcontent-nup-c105=\"\" class=\"ng-tns-c105-1\">10 Ave @ 57 St</span></span><mat-divider _ngcontent-nup-c105=\"\" role=\"separator\" class=\"mat-divider ng-tns-c105-1 mat-divider-horizontal\" aria-orientation=\"horizontal\"></mat-divider><span _ngcontent-nup-c105=\"\" class=\"g-flex-column column ng-tns-c105-1\"><span _ngcontent-nup-c105=\"\" class=\"label ng-tns-c105-1\">Borough:</span><span _ngcontent-nup-c105=\"\" class=\"ng-tns-c105-1\">Manhattan</span></span></div></td><td _ngcontent-nup-c105=\"\" role=\"cell\" mat-cell=\"\" class=\"mat-cell cdk-cell cdk-column-favoriteAction mat-column-favoriteAction ng-tns-c105-1 ng-star-inserted\"><button _ngcontent-nup-c105=\"\" mat-icon-button=\"\" color=\"primary\" title=\"Add to Favorite Cameras\" class=\"mat-focus-indicator mat-icon-button mat-button-base mat-primary ng-tns-c105-1 ng-star-inserted\"><span class=\"mat-button-wrapper\"><mat-icon _ngcontent-nup-c105=\"\" role=\"img\" class=\"mat-icon notranslate semi-transparent ng-trigger ng-trigger-iconFadeInOut material-icons mat-ligature-font mat-icon-no-color\" aria-hidden=\"true\" data-mat-icon-type=\"font\">star_border</mat-icon></span><span matripple=\"\" class=\"mat-ripple mat-button-ripple mat-button-ripple-round\"></span><span class=\"mat-button-focus-overlay\"></span></button><!----><!----></td><!----></tr><tr _ngcontent-nup-c105=\"\" role=\"row\" mat-row=\"\" class=\"mat-row cdk-row ng-tns-c105-1 ng-star-inserted\" style=\"\"><td _ngcontent-nup-c105=\"\" role=\"cell\" mat-cell=\"\" class=\"mat-cell cdk-cell cdk-column-select mat-column-select ng-tns-c105-1 ng-star-inserted\"><mat-checkbox _ngcontent-nup-c105=\"\" class=\"mat-checkbox ng-tns-c105-1 mat-accent\" id=\"mat-checkbox-18\"><label class=\"mat-checkbox-layout\" for=\"mat-checkbox-18-input\"><span class=\"mat-checkbox-inner-container mat-checkbox-inner-container-no-side-margin\"><input type=\"checkbox\" class=\"mat-checkbox-input cdk-visually-hidden\" id=\"mat-checkbox-18-input\" tabindex=\"0\" aria-checked=\"false\"><span matripple=\"\" class=\"mat-ripple mat-checkbox-ripple mat-focus-indicator\"><span class=\"mat-ripple-element mat-checkbox-persistent-ripple\"></span></span><span class=\"mat-checkbox-frame\"></span><span class=\"mat-checkbox-background\"><svg version=\"1.1\" focusable=\"false\" viewBox=\"0 0 24 24\" aria-hidden=\"true\" class=\"mat-checkbox-checkmark\"><path fill=\"none\" stroke=\"white\" d=\"M4.1,12.7 9,17.6 20.3,6.3\" class=\"mat-checkbox-checkmark-path\"></path></svg><span class=\"mat-checkbox-mixedmark\"></span></span></span><span class=\"mat-checkbox-label\"><span style=\"display: none;\">&nbsp;</span></span></label></mat-checkbox></td><td _ngcontent-nup-c105=\"\" role=\"cell\" mat-cell=\"\" class=\"mat-cell cdk-cell cdk-column-name mat-column-name ng-tns-c105-1 ng-star-inserted\">11 Ave @ 34 ST</td><td _ngcontent-nup-c105=\"\" role=\"cell\" mat-cell=\"\" class=\"mat-cell cdk-cell cdk-column-area mat-column-area ng-tns-c105-1 ng-star-inserted\">Manhattan</td><td _ngcontent-nup-c105=\"\" role=\"cell\" mat-cell=\"\" class=\"mat-cell cdk-cell cdk-column-responsive mat-column-responsive ng-tns-c105-1 ng-star-inserted\"><div _ngcontent-nup-c105=\"\" class=\"g-flex-column responsive-cell ng-tns-c105-1\"><span _ngcontent-nup-c105=\"\" class=\"g-flex-column column ng-tns-c105-1\"><span _ngcontent-nup-c105=\"\" class=\"label ng-tns-c105-1\">Camera Location:</span><span _ngcontent-nup-c105=\"\" class=\"ng-tns-c105-1\">11 Ave @ 34 ST</span></span><mat-divider _ngcontent-nup-c105=\"\" role=\"separator\" class=\"mat-divider ng-tns-c105-1 mat-divider-horizontal\" aria-orientation=\"horizontal\"></mat-divider><span _ngcontent-nup-c105=\"\" class=\"g-flex-column column ng-tns-c105-1\"><span _ngcontent-nup-c105=\"\" class=\"label ng-tns-c105-1\">Borough:</span><span _ngcontent-nup-c105=\"\" class=\"ng-tns-c105-1\">Manhattan</span></span></div></td><td _ngcontent-nup-c105=\"\" role=\"cell\" mat-cell=\"\" class=\"mat-cell cdk-cell cdk-column-favoriteAction mat-column-favoriteAction ng-tns-c105-1 ng-star-inserted\"><button _ngcontent-nup-c105=\"\" mat-icon-button=\"\" color=\"primary\" title=\"Add to Favorite Cameras\" class=\"mat-focus-indicator mat-icon-button mat-button-base mat-primary ng-tns-c105-1 ng-star-inserted\"><span class=\"mat-button-wrapper\"><mat-icon _ngcontent-nup-c105=\"\" role=\"img\" class=\"mat-icon notranslate semi-transparent ng-trigger ng-trigger-iconFadeInOut material-icons mat-ligature-font mat-icon-no-color\" aria-hidden=\"true\" data-mat-icon-type=\"font\">star_border</mat-icon></span><span matripple=\"\" class=\"mat-ripple mat-button-ripple mat-button-ripple-round\"></span><span class=\"mat-button-focus-overlay\"></span></button><!----><!----></td><!----></tr><tr _ngcontent-nup-c105=\"\" role=\"row\" mat-row=\"\" class=\"mat-row cdk-row ng-tns-c105-1 ng-star-inserted\" style=\"\"><td _ngcontent-nup-c105=\"\" role=\"cell\" mat-cell=\"\" class=\"mat-cell cdk-cell cdk-column-select mat-column-select ng-tns-c105-1 ng-star-inserted\"><mat-checkbox _ngcontent-nup-c105=\"\" class=\"mat-checkbox ng-tns-c105-1 mat-accent\" id=\"mat-checkbox-19\"><label class=\"mat-checkbox-layout\" for=\"mat-checkbox-19-input\"><span class=\"mat-checkbox-inner-container mat-checkbox-inner-container-no-side-margin\"><input type=\"checkbox\" class=\"mat-checkbox-input cdk-visually-hidden\" id=\"mat-checkbox-19-input\" tabindex=\"0\" aria-checked=\"false\"><span matripple=\"\" class=\"mat-ripple mat-checkbox-ripple mat-focus-indicator\"><span class=\"mat-ripple-element mat-checkbox-persistent-ripple\"></span></span><span class=\"mat-checkbox-frame\"></span><span class=\"mat-checkbox-background\"><svg version=\"1.1\" focusable=\"false\" viewBox=\"0 0 24 24\" aria-hidden=\"true\" class=\"mat-checkbox-checkmark\"><path fill=\"none\" stroke=\"white\" d=\"M4.1,12.7 9,17.6 20.3,6.3\" class=\"mat-checkbox-checkmark-path\"></path></svg><span class=\"mat-checkbox-mixedmark\"></span></span></span><span class=\"mat-checkbox-label\"><span style=\"display: none;\">&nbsp;</span></span></label></mat-checkbox></td><td _ngcontent-nup-c105=\"\" role=\"cell\" mat-cell=\"\" class=\"mat-cell cdk-cell cdk-column-name mat-column-name ng-tns-c105-1 ng-star-inserted\">11 Ave @ 42 St</td><td _ngcontent-nup-c105=\"\" role=\"cell\" mat-cell=\"\" class=\"mat-cell cdk-cell cdk-column-area mat-column-area ng-tns-c105-1 ng-star-inserted\">Manhattan</td><td _ngcontent-nup-c105=\"\" role=\"cell\" mat-cell=\"\" class=\"mat-cell cdk-cell cdk-column-responsive mat-column-responsive ng-tns-c105-1 ng-star-inserted\"><div _ngcontent-nup-c105=\"\" class=\"g-flex-column responsive-cell ng-tns-c105-1\"><span _ngcontent-nup-c105=\"\" class=\"g-flex-column column ng-tns-c105-1\"><span _ngcontent-nup-c105=\"\" class=\"label ng-tns-c105-1\">Camera Location:</span><span _ngcontent-nup-c105=\"\" class=\"ng-tns-c105-1\">11 Ave @ 42 St</span></span><mat-divider _ngcontent-nup-c105=\"\" role=\"separator\" class=\"mat-divider ng-tns-c105-1 mat-divider-horizontal\" aria-orientation=\"horizontal\"></mat-divider><span _ngcontent-nup-c105=\"\" class=\"g-flex-column column ng-tns-c105-1\"><span _ngcontent-nup-c105=\"\" class=\"label ng-tns-c105-1\">Borough:</span><span _ngcontent-nup-c105=\"\" class=\"ng-tns-c105-1\">Manhattan</span></span></div></td><td _ngcontent-nup-c105=\"\" role=\"cell\" mat-cell=\"\" class=\"mat-cell cdk-cell cdk-column-favoriteAction mat-column-favoriteAction ng-tns-c105-1 ng-star-inserted\"><button _ngcontent-nup-c105=\"\" mat-icon-button=\"\" color=\"primary\" title=\"Add to Favorite Cameras\" class=\"mat-focus-indicator mat-icon-button mat-button-base mat-primary ng-tns-c105-1 ng-star-inserted\"><span class=\"mat-button-wrapper\"><mat-icon _ngcontent-nup-c105=\"\" role=\"img\" class=\"mat-icon notranslate semi-transparent ng-trigger ng-trigger-iconFadeInOut material-icons mat-ligature-font mat-icon-no-color\" aria-hidden=\"true\" data-mat-icon-type=\"font\">star_border</mat-icon></span><span matripple=\"\" class=\"mat-ripple mat-button-ripple mat-button-ripple-round\"></span><span class=\"mat-button-focus-overlay\"></span></button><!----><!----></td><!----></tr><tr _ngcontent-nup-c105=\"\" role=\"row\" mat-row=\"\" class=\"mat-row cdk-row ng-tns-c105-1 ng-star-inserted\" style=\"\"><td _ngcontent-nup-c105=\"\" role=\"cell\" mat-cell=\"\" class=\"mat-cell cdk-cell cdk-column-select mat-column-select ng-tns-c105-1 ng-star-inserted\"><mat-checkbox _ngcontent-nup-c105=\"\" class=\"mat-checkbox ng-tns-c105-1 mat-accent\" id=\"mat-checkbox-20\"><label class=\"mat-checkbox-layout\" for=\"mat-checkbox-20-input\"><span class=\"mat-checkbox-inner-container mat-checkbox-inner-container-no-side-margin\"><input type=\"checkbox\" class=\"mat-checkbox-input cdk-visually-hidden\" id=\"mat-checkbox-20-input\" tabindex=\"0\" aria-checked=\"false\"><span matripple=\"\" class=\"mat-ripple mat-checkbox-ripple mat-focus-indicator\"><span class=\"mat-ripple-element mat-checkbox-persistent-ripple\"></span></span><span class=\"mat-checkbox-frame\"></span><span class=\"mat-checkbox-background\"><svg version=\"1.1\" focusable=\"false\" viewBox=\"0 0 24 24\" aria-hidden=\"true\" class=\"mat-checkbox-checkmark\"><path fill=\"none\" stroke=\"white\" d=\"M4.1,12.7 9,17.6 20.3,6.3\" class=\"mat-checkbox-checkmark-path\"></path></svg><span class=\"mat-checkbox-mixedmark\"></span></span></span><span class=\"mat-checkbox-label\"><span style=\"display: none;\">&nbsp;</span></span></label></mat-checkbox></td><td _ngcontent-nup-c105=\"\" role=\"cell\" mat-cell=\"\" class=\"mat-cell cdk-cell cdk-column-name mat-column-name ng-tns-c105-1 ng-star-inserted\">11 Ave @ 57 St</td><td _ngcontent-nup-c105=\"\" role=\"cell\" mat-cell=\"\" class=\"mat-cell cdk-cell cdk-column-area mat-column-area ng-tns-c105-1 ng-star-inserted\">Manhattan</td><td _ngcontent-nup-c105=\"\" role=\"cell\" mat-cell=\"\" class=\"mat-cell cdk-cell cdk-column-responsive mat-column-responsive ng-tns-c105-1 ng-star-inserted\"><div _ngcontent-nup-c105=\"\" class=\"g-flex-column responsive-cell ng-tns-c105-1\"><span _ngcontent-nup-c105=\"\" class=\"g-flex-column column ng-tns-c105-1\"><span _ngcontent-nup-c105=\"\" class=\"label ng-tns-c105-1\">Camera Location:</span><span _ngcontent-nup-c105=\"\" class=\"ng-tns-c105-1\">11 Ave @ 57 St</span></span><mat-divider _ngcontent-nup-c105=\"\" role=\"separator\" class=\"mat-divider ng-tns-c105-1 mat-divider-horizontal\" aria-orientation=\"horizontal\"></mat-divider><span _ngcontent-nup-c105=\"\" class=\"g-flex-column column ng-tns-c105-1\"><span _ngcontent-nup-c105=\"\" class=\"label ng-tns-c105-1\">Borough:</span><span _ngcontent-nup-c105=\"\" class=\"ng-tns-c105-1\">Manhattan</span></span></div></td><td _ngcontent-nup-c105=\"\" role=\"cell\" mat-cell=\"\" class=\"mat-cell cdk-cell cdk-column-favoriteAction mat-column-favoriteAction ng-tns-c105-1 ng-star-inserted\"><button _ngcontent-nup-c105=\"\" mat-icon-button=\"\" color=\"primary\" title=\"Add to Favorite Cameras\" class=\"mat-focus-indicator mat-icon-button mat-button-base mat-primary ng-tns-c105-1 ng-star-inserted\"><span class=\"mat-button-wrapper\"><mat-icon _ngcontent-nup-c105=\"\" role=\"img\" class=\"mat-icon notranslate semi-transparent ng-trigger ng-trigger-iconFadeInOut material-icons mat-ligature-font mat-icon-no-color\" aria-hidden=\"true\" data-mat-icon-type=\"font\">star_border</mat-icon></span><span matripple=\"\" class=\"mat-ripple mat-button-ripple mat-button-ripple-round\"></span><span class=\"mat-button-focus-overlay\"></span></button><!----><!----></td><!----></tr><tr _ngcontent-nup-c105=\"\" role=\"row\" mat-row=\"\" class=\"mat-row cdk-row ng-tns-c105-1 ng-star-inserted\" style=\"\"><td _ngcontent-nup-c105=\"\" role=\"cell\" mat-cell=\"\" class=\"mat-cell cdk-cell cdk-column-select mat-column-select ng-tns-c105-1 ng-star-inserted\"><mat-checkbox _ngcontent-nup-c105=\"\" class=\"mat-checkbox ng-tns-c105-1 mat-accent\" id=\"mat-checkbox-21\"><label class=\"mat-checkbox-layout\" for=\"mat-checkbox-21-input\"><span class=\"mat-checkbox-inner-container mat-checkbox-inner-container-no-side-margin\"><input type=\"checkbox\" class=\"mat-checkbox-input cdk-visually-hidden\" id=\"mat-checkbox-21-input\" tabindex=\"0\" aria-checked=\"false\"><span matripple=\"\" class=\"mat-ripple mat-checkbox-ripple mat-focus-indicator\"><span class=\"mat-ripple-element mat-checkbox-persistent-ripple\"></span></span><span class=\"mat-checkbox-frame\"></span><span class=\"mat-checkbox-background\"><svg version=\"1.1\" focusable=\"false\" viewBox=\"0 0 24 24\" aria-hidden=\"true\" class=\"mat-checkbox-checkmark\"><path fill=\"none\" stroke=\"white\" d=\"M4.1,12.7 9,17.6 20.3,6.3\" class=\"mat-checkbox-checkmark-path\"></path></svg><span class=\"mat-checkbox-mixedmark\"></span></span></span><span class=\"mat-checkbox-label\"><span style=\"display: none;\">&nbsp;</span></span></label></mat-checkbox></td><td _ngcontent-nup-c105=\"\" role=\"cell\" mat-cell=\"\" class=\"mat-cell cdk-cell cdk-column-name mat-column-name ng-tns-c105-1 ng-star-inserted\">11 Ave @ W 40 St</td><td _ngcontent-nup-c105=\"\" role=\"cell\" mat-cell=\"\" class=\"mat-cell cdk-cell cdk-column-area mat-column-area ng-tns-c105-1 ng-star-inserted\">Manhattan</td><td _ngcontent-nup-c105=\"\" role=\"cell\" mat-cell=\"\" class=\"mat-cell cdk-cell cdk-column-responsive mat-column-responsive ng-tns-c105-1 ng-star-inserted\"><div _ngcontent-nup-c105=\"\" class=\"g-flex-column responsive-cell ng-tns-c105-1\"><span _ngcontent-nup-c105=\"\" class=\"g-flex-column column ng-tns-c105-1\"><span _ngcontent-nup-c105=\"\" class=\"label ng-tns-c105-1\">Camera Location:</span><span _ngcontent-nup-c105=\"\" class=\"ng-tns-c105-1\">11 Ave @ W 40 St</span></span><mat-divider _ngcontent-nup-c105=\"\" role=\"separator\" class=\"mat-divider ng-tns-c105-1 mat-divider-horizontal\" aria-orientation=\"horizontal\"></mat-divider><span _ngcontent-nup-c105=\"\" class=\"g-flex-column column ng-tns-c105-1\"><span _ngcontent-nup-c105=\"\" class=\"label ng-tns-c105-1\">Borough:</span><span _ngcontent-nup-c105=\"\" class=\"ng-tns-c105-1\">Manhattan</span></span></div></td><td _ngcontent-nup-c105=\"\" role=\"cell\" mat-cell=\"\" class=\"mat-cell cdk-cell cdk-column-favoriteAction mat-column-favoriteAction ng-tns-c105-1 ng-star-inserted\"><button _ngcontent-nup-c105=\"\" mat-icon-button=\"\" color=\"primary\" title=\"Add to Favorite Cameras\" class=\"mat-focus-indicator mat-icon-button mat-button-base mat-primary ng-tns-c105-1 ng-star-inserted\"><span class=\"mat-button-wrapper\"><mat-icon _ngcontent-nup-c105=\"\" role=\"img\" class=\"mat-icon notranslate semi-transparent ng-trigger ng-trigger-iconFadeInOut material-icons mat-ligature-font mat-icon-no-color\" aria-hidden=\"true\" data-mat-icon-type=\"font\">star_border</mat-icon></span><span matripple=\"\" class=\"mat-ripple mat-button-ripple mat-button-ripple-round\"></span><span class=\"mat-button-focus-overlay\"></span></button><!----><!----></td><!----></tr><tr _ngcontent-nup-c105=\"\" role=\"row\" mat-row=\"\" class=\"mat-row cdk-row ng-tns-c105-1 ng-star-inserted\" style=\"\"><td _ngcontent-nup-c105=\"\" role=\"cell\" mat-cell=\"\" class=\"mat-cell cdk-cell cdk-column-select mat-column-select ng-tns-c105-1 ng-star-inserted\"><mat-checkbox _ngcontent-nup-c105=\"\" class=\"mat-checkbox ng-tns-c105-1 mat-accent\" id=\"mat-checkbox-22\"><label class=\"mat-checkbox-layout\" for=\"mat-checkbox-22-input\"><span class=\"mat-checkbox-inner-container mat-checkbox-inner-container-no-side-margin\"><input type=\"checkbox\" class=\"mat-checkbox-input cdk-visually-hidden\" id=\"mat-checkbox-22-input\" tabindex=\"0\" aria-checked=\"false\"><span matripple=\"\" class=\"mat-ripple mat-checkbox-ripple mat-focus-indicator\"><span class=\"mat-ripple-element mat-checkbox-persistent-ripple\"></span></span><span class=\"mat-checkbox-frame\"></span><span class=\"mat-checkbox-background\"><svg version=\"1.1\" focusable=\"false\" viewBox=\"0 0 24 24\" aria-hidden=\"true\" class=\"mat-checkbox-checkmark\"><path fill=\"none\" stroke=\"white\" d=\"M4.1,12.7 9,17.6 20.3,6.3\" class=\"mat-checkbox-checkmark-path\"></path></svg><span class=\"mat-checkbox-mixedmark\"></span></span></span><span class=\"mat-checkbox-label\"><span style=\"display: none;\">&nbsp;</span></span></label></mat-checkbox></td><td _ngcontent-nup-c105=\"\" role=\"cell\" mat-cell=\"\" class=\"mat-cell cdk-cell cdk-column-name mat-column-name ng-tns-c105-1 ng-star-inserted\">11 Ave/Rt 9A @ 14 St</td><td _ngcontent-nup-c105=\"\" role=\"cell\" mat-cell=\"\" class=\"mat-cell cdk-cell cdk-column-area mat-column-area ng-tns-c105-1 ng-star-inserted\">Manhattan</td><td _ngcontent-nup-c105=\"\" role=\"cell\" mat-cell=\"\" class=\"mat-cell cdk-cell cdk-column-responsive mat-column-responsive ng-tns-c105-1 ng-star-inserted\"><div _ngcontent-nup-c105=\"\" class=\"g-flex-column responsive-cell ng-tns-c105-1\"><span _ngcontent-nup-c105=\"\" class=\"g-flex-column column ng-tns-c105-1\"><span _ngcontent-nup-c105=\"\" class=\"label ng-tns-c105-1\">Camera Location:</span><span _ngcontent-nup-c105=\"\" class=\"ng-tns-c105-1\">11 Ave/Rt 9A @ 14 St</span></span><mat-divider _ngcontent-nup-c105=\"\" role=\"separator\" class=\"mat-divider ng-tns-c105-1 mat-divider-horizontal\" aria-orientation=\"horizontal\"></mat-divider><span _ngcontent-nup-c105=\"\" class=\"g-flex-column column ng-tns-c105-1\"><span _ngcontent-nup-c105=\"\" class=\"label ng-tns-c105-1\">Borough:</span><span _ngcontent-nup-c105=\"\" class=\"ng-tns-c105-1\">Manhattan</span></span></div></td><td _ngcontent-nup-c105=\"\" role=\"cell\" mat-cell=\"\" class=\"mat-cell cdk-cell cdk-column-favoriteAction mat-column-favoriteAction ng-tns-c105-1 ng-star-inserted\"><button _ngcontent-nup-c105=\"\" mat-icon-button=\"\" color=\"primary\" title=\"Add to Favorite Cameras\" class=\"mat-focus-indicator mat-icon-button mat-button-base mat-primary ng-tns-c105-1 ng-star-inserted\"><span class=\"mat-button-wrapper\"><mat-icon _ngcontent-nup-c105=\"\" role=\"img\" class=\"mat-icon notranslate semi-transparent ng-trigger ng-trigger-iconFadeInOut material-icons mat-ligature-font mat-icon-no-color\" aria-hidden=\"true\" data-mat-icon-type=\"font\">star_border</mat-icon></span><span matripple=\"\" class=\"mat-ripple mat-button-ripple mat-button-ripple-round\"></span><span class=\"mat-button-focus-overlay\"></span></button><!----><!----></td><!----></tr><tr _ngcontent-nup-c105=\"\" role=\"row\" mat-row=\"\" class=\"mat-row cdk-row ng-tns-c105-1 ng-star-inserted\" style=\"\"><td _ngcontent-nup-c105=\"\" role=\"cell\" mat-cell=\"\" class=\"mat-cell cdk-cell cdk-column-select mat-column-select ng-tns-c105-1 ng-star-inserted\"><mat-checkbox _ngcontent-nup-c105=\"\" class=\"mat-checkbox ng-tns-c105-1 mat-accent\" id=\"mat-checkbox-23\"><label class=\"mat-checkbox-layout\" for=\"mat-checkbox-23-input\"><span class=\"mat-checkbox-inner-container mat-checkbox-inner-container-no-side-margin\"><input type=\"checkbox\" class=\"mat-checkbox-input cdk-visually-hidden\" id=\"mat-checkbox-23-input\" tabindex=\"0\" aria-checked=\"false\"><span matripple=\"\" class=\"mat-ripple mat-checkbox-ripple mat-focus-indicator\"><span class=\"mat-ripple-element mat-checkbox-persistent-ripple\"></span></span><span class=\"mat-checkbox-frame\"></span><span class=\"mat-checkbox-background\"><svg version=\"1.1\" focusable=\"false\" viewBox=\"0 0 24 24\" aria-hidden=\"true\" class=\"mat-checkbox-checkmark\"><path fill=\"none\" stroke=\"white\" d=\"M4.1,12.7 9,17.6 20.3,6.3\" class=\"mat-checkbox-checkmark-path\"></path></svg><span class=\"mat-checkbox-mixedmark\"></span></span></span><span class=\"mat-checkbox-label\"><span style=\"display: none;\">&nbsp;</span></span></label></mat-checkbox></td><td _ngcontent-nup-c105=\"\" role=\"cell\" mat-cell=\"\" class=\"mat-cell cdk-cell cdk-column-name mat-column-name ng-tns-c105-1 ng-star-inserted\">12 Ave @ 22 St</td><td _ngcontent-nup-c105=\"\" role=\"cell\" mat-cell=\"\" class=\"mat-cell cdk-cell cdk-column-area mat-column-area ng-tns-c105-1 ng-star-inserted\">Manhattan</td><td _ngcontent-nup-c105=\"\" role=\"cell\" mat-cell=\"\" class=\"mat-cell cdk-cell cdk-column-responsive mat-column-responsive ng-tns-c105-1 ng-star-inserted\"><div _ngcontent-nup-c105=\"\" class=\"g-flex-column responsive-cell ng-tns-c105-1\"><span _ngcontent-nup-c105=\"\" class=\"g-flex-column column ng-tns-c105-1\"><span _ngcontent-nup-c105=\"\" class=\"label ng-tns-c105-1\">Camera Location:</span><span _ngcontent-nup-c105=\"\" class=\"ng-tns-c105-1\">12 Ave @ 22 St</span></span><mat-divider _ngcontent-nup-c105=\"\" role=\"separator\" class=\"mat-divider ng-tns-c105-1 mat-divider-horizontal\" aria-orientation=\"horizontal\"></mat-divider><span _ngcontent-nup-c105=\"\" class=\"g-flex-column column ng-tns-c105-1\"><span _ngcontent-nup-c105=\"\" class=\"label ng-tns-c105-1\">Borough:</span><span _ngcontent-nup-c105=\"\" class=\"ng-tns-c105-1\">Manhattan</span></span></div></td><td _ngcontent-nup-c105=\"\" role=\"cell\" mat-cell=\"\" class=\"mat-cell cdk-cell cdk-column-favoriteAction mat-column-favoriteAction ng-tns-c105-1 ng-star-inserted\"><button _ngcontent-nup-c105=\"\" mat-icon-button=\"\" color=\"primary\" title=\"Add to Favorite Cameras\" class=\"mat-focus-indicator mat-icon-button mat-button-base mat-primary ng-tns-c105-1 ng-star-inserted\"><span class=\"mat-button-wrapper\"><mat-icon _ngcontent-nup-c105=\"\" role=\"img\" class=\"mat-icon notranslate semi-transparent ng-trigger ng-trigger-iconFadeInOut material-icons mat-ligature-font mat-icon-no-color\" aria-hidden=\"true\" data-mat-icon-type=\"font\">star_border</mat-icon></span><span matripple=\"\" class=\"mat-ripple mat-button-ripple mat-button-ripple-round\"></span><span class=\"mat-button-focus-overlay\"></span></button><!----><!----></td><!----></tr><tr _ngcontent-nup-c105=\"\" role=\"row\" mat-row=\"\" class=\"mat-row cdk-row ng-tns-c105-1 ng-star-inserted\" style=\"\"><td _ngcontent-nup-c105=\"\" role=\"cell\" mat-cell=\"\" class=\"mat-cell cdk-cell cdk-column-select mat-column-select ng-tns-c105-1 ng-star-inserted\"><mat-checkbox _ngcontent-nup-c105=\"\" class=\"mat-checkbox ng-tns-c105-1 mat-accent\" id=\"mat-checkbox-24\"><label class=\"mat-checkbox-layout\" for=\"mat-checkbox-24-input\"><span class=\"mat-checkbox-inner-container mat-checkbox-inner-container-no-side-margin\"><input type=\"checkbox\" class=\"mat-checkbox-input cdk-visually-hidden\" id=\"mat-checkbox-24-input\" tabindex=\"0\" aria-checked=\"false\"><span matripple=\"\" class=\"mat-ripple mat-checkbox-ripple mat-focus-indicator\"><span class=\"mat-ripple-element mat-checkbox-persistent-ripple\"></span></span><span class=\"mat-checkbox-frame\"></span><span class=\"mat-checkbox-background\"><svg version=\"1.1\" focusable=\"false\" viewBox=\"0 0 24 24\" aria-hidden=\"true\" class=\"mat-checkbox-checkmark\"><path fill=\"none\" stroke=\"white\" d=\"M4.1,12.7 9,17.6 20.3,6.3\" class=\"mat-checkbox-checkmark-path\"></path></svg><span class=\"mat-checkbox-mixedmark\"></span></span></span><span class=\"mat-checkbox-label\"><span style=\"display: none;\">&nbsp;</span></span></label></mat-checkbox></td><td _ngcontent-nup-c105=\"\" role=\"cell\" mat-cell=\"\" class=\"mat-cell cdk-cell cdk-column-name mat-column-name ng-tns-c105-1 ng-star-inserted\">12 Ave @ 34 St</td><td _ngcontent-nup-c105=\"\" role=\"cell\" mat-cell=\"\" class=\"mat-cell cdk-cell cdk-column-area mat-column-area ng-tns-c105-1 ng-star-inserted\">Manhattan</td><td _ngcontent-nup-c105=\"\" role=\"cell\" mat-cell=\"\" class=\"mat-cell cdk-cell cdk-column-responsive mat-column-responsive ng-tns-c105-1 ng-star-inserted\"><div _ngcontent-nup-c105=\"\" class=\"g-flex-column responsive-cell ng-tns-c105-1\"><span _ngcontent-nup-c105=\"\" class=\"g-flex-column column ng-tns-c105-1\"><span _ngcontent-nup-c105=\"\" class=\"label ng-tns-c105-1\">Camera Location:</span><span _ngcontent-nup-c105=\"\" class=\"ng-tns-c105-1\">12 Ave @ 34 St</span></span><mat-divider _ngcontent-nup-c105=\"\" role=\"separator\" class=\"mat-divider ng-tns-c105-1 mat-divider-horizontal\" aria-orientation=\"horizontal\"></mat-divider><span _ngcontent-nup-c105=\"\" class=\"g-flex-column column ng-tns-c105-1\"><span _ngcontent-nup-c105=\"\" class=\"label ng-tns-c105-1\">Borough:</span><span _ngcontent-nup-c105=\"\" class=\"ng-tns-c105-1\">Manhattan</span></span></div></td><td _ngcontent-nup-c105=\"\" role=\"cell\" mat-cell=\"\" class=\"mat-cell cdk-cell cdk-column-favoriteAction mat-column-favoriteAction ng-tns-c105-1 ng-star-inserted\"><button _ngcontent-nup-c105=\"\" mat-icon-button=\"\" color=\"primary\" title=\"Add to Favorite Cameras\" class=\"mat-focus-indicator mat-icon-button mat-button-base mat-primary ng-tns-c105-1 ng-star-inserted\"><span class=\"mat-button-wrapper\"><mat-icon _ngcontent-nup-c105=\"\" role=\"img\" class=\"mat-icon notranslate semi-transparent ng-trigger ng-trigger-iconFadeInOut material-icons mat-ligature-font mat-icon-no-color\" aria-hidden=\"true\" data-mat-icon-type=\"font\">star_border</mat-icon></span><span matripple=\"\" class=\"mat-ripple mat-button-ripple mat-button-ripple-round\"></span><span class=\"mat-button-focus-overlay\"></span></button><!----><!----></td><!----></tr><tr _ngcontent-nup-c105=\"\" role=\"row\" mat-row=\"\" class=\"mat-row cdk-row ng-tns-c105-1 ng-star-inserted\" style=\"\"><td _ngcontent-nup-c105=\"\" role=\"cell\" mat-cell=\"\" class=\"mat-cell cdk-cell cdk-column-select mat-column-select ng-tns-c105-1 ng-star-inserted\"><mat-checkbox _ngcontent-nup-c105=\"\" class=\"mat-checkbox ng-tns-c105-1 mat-accent\" id=\"mat-checkbox-25\"><label class=\"mat-checkbox-layout\" for=\"mat-checkbox-25-input\"><span class=\"mat-checkbox-inner-container mat-checkbox-inner-container-no-side-margin\"><input type=\"checkbox\" class=\"mat-checkbox-input cdk-visually-hidden\" id=\"mat-checkbox-25-input\" tabindex=\"0\" aria-checked=\"false\"><span matripple=\"\" class=\"mat-ripple mat-checkbox-ripple mat-focus-indicator\"><span class=\"mat-ripple-element mat-checkbox-persistent-ripple\"></span></span><span class=\"mat-checkbox-frame\"></span><span class=\"mat-checkbox-background\"><svg version=\"1.1\" focusable=\"false\" viewBox=\"0 0 24 24\" aria-hidden=\"true\" class=\"mat-checkbox-checkmark\"><path fill=\"none\" stroke=\"white\" d=\"M4.1,12.7 9,17.6 20.3,6.3\" class=\"mat-checkbox-checkmark-path\"></path></svg><span class=\"mat-checkbox-mixedmark\"></span></span></span><span class=\"mat-checkbox-label\"><span style=\"display: none;\">&nbsp;</span></span></label></mat-checkbox></td><td _ngcontent-nup-c105=\"\" role=\"cell\" mat-cell=\"\" class=\"mat-cell cdk-cell cdk-column-name mat-column-name ng-tns-c105-1 ng-star-inserted\">12 Ave @ 42 St</td><td _ngcontent-nup-c105=\"\" role=\"cell\" mat-cell=\"\" class=\"mat-cell cdk-cell cdk-column-area mat-column-area ng-tns-c105-1 ng-star-inserted\">Manhattan</td><td _ngcontent-nup-c105=\"\" role=\"cell\" mat-cell=\"\" class=\"mat-cell cdk-cell cdk-column-responsive mat-column-responsive ng-tns-c105-1 ng-star-inserted\"><div _ngcontent-nup-c105=\"\" class=\"g-flex-column responsive-cell ng-tns-c105-1\"><span _ngcontent-nup-c105=\"\" class=\"g-flex-column column ng-tns-c105-1\"><span _ngcontent-nup-c105=\"\" class=\"label ng-tns-c105-1\">Camera Location:</span><span _ngcontent-nup-c105=\"\" class=\"ng-tns-c105-1\">12 Ave @ 42 St</span></span><mat-divider _ngcontent-nup-c105=\"\" role=\"separator\" class=\"mat-divider ng-tns-c105-1 mat-divider-horizontal\" aria-orientation=\"horizontal\"></mat-divider><span _ngcontent-nup-c105=\"\" class=\"g-flex-column column ng-tns-c105-1\"><span _ngcontent-nup-c105=\"\" class=\"label ng-tns-c105-1\">Borough:</span><span _ngcontent-nup-c105=\"\" class=\"ng-tns-c105-1\">Manhattan</span></span></div></td><td _ngcontent-nup-c105=\"\" role=\"cell\" mat-cell=\"\" class=\"mat-cell cdk-cell cdk-column-favoriteAction mat-column-favoriteAction ng-tns-c105-1 ng-star-inserted\"><button _ngcontent-nup-c105=\"\" mat-icon-button=\"\" color=\"primary\" title=\"Add to Favorite Cameras\" class=\"mat-focus-indicator mat-icon-button mat-button-base mat-primary ng-tns-c105-1 ng-star-inserted\"><span class=\"mat-button-wrapper\"><mat-icon _ngcontent-nup-c105=\"\" role=\"img\" class=\"mat-icon notranslate semi-transparent ng-trigger ng-trigger-iconFadeInOut material-icons mat-ligature-font mat-icon-no-color\" aria-hidden=\"true\" data-mat-icon-type=\"font\">star_border</mat-icon></span><span matripple=\"\" class=\"mat-ripple mat-button-ripple mat-button-ripple-round\"></span><span class=\"mat-button-focus-overlay\"></span></button><!----><!----></td><!----></tr><!----><!----></tbody><tfoot role=\"rowgroup\" class=\"mat-table-sticky\" style=\"display: none; bottom: 0px; z-index: 10;\"><!----></tfoot></table></div><mat-paginator _ngcontent-nup-c105=\"\" role=\"group\" sticky=\"\" showfirstlastbuttons=\"\" class=\"mat-paginator ng-tns-c105-1\"><div class=\"mat-paginator-outer-container\"><div class=\"mat-paginator-container\"><div class=\"mat-paginator-page-size ng-star-inserted\" style=\"\"><div class=\"mat-paginator-page-size-label\"> Items per page: </div><mat-form-field class=\"mat-form-field mat-paginator-page-size-select ng-tns-c18-5 mat-primary mat-form-field-type-mat-select mat-form-field-appearance-legacy mat-form-field-can-float mat-form-field-hide-placeholder ng-star-inserted mat-form-field-should-float\"><div class=\"mat-form-field-wrapper ng-tns-c18-5\"><div class=\"mat-form-field-flex ng-tns-c18-5\"><!----><!----><div class=\"mat-form-field-infix ng-tns-c18-5\"><mat-select role=\"combobox\" aria-autocomplete=\"none\" aria-haspopup=\"true\" class=\"mat-select ng-tns-c61-6 ng-tns-c18-5 ng-star-inserted\" id=\"mat-select-0\" tabindex=\"0\" aria-expanded=\"false\" aria-label=\"Items per page:\" aria-required=\"false\" aria-disabled=\"false\" aria-invalid=\"false\"><div cdk-overlay-origin=\"\" class=\"mat-select-trigger ng-tns-c61-6\"><div class=\"mat-select-value ng-tns-c61-6\" id=\"mat-select-value-1\"><!----><span class=\"mat-select-value-text ng-tns-c61-6 ng-star-inserted\" style=\"\"><span class=\"mat-select-min-line ng-tns-c61-6 ng-star-inserted\">25</span><!----><!----></span><!----></div><div class=\"mat-select-arrow-wrapper ng-tns-c61-6\"><div class=\"mat-select-arrow ng-tns-c61-6\"></div></div></div><!----></mat-select><span class=\"mat-form-field-label-wrapper ng-tns-c18-5\"><!----></span></div><!----></div><div class=\"mat-form-field-underline ng-tns-c18-5 ng-star-inserted\"><span class=\"mat-form-field-ripple ng-tns-c18-5\"></span></div><!----><div class=\"mat-form-field-subscript-wrapper ng-tns-c18-5\"><!----><div class=\"mat-form-field-hint-wrapper ng-tns-c18-5 ng-trigger ng-trigger-transitionMessages ng-star-inserted\" style=\"opacity: 1; transform: translateY(0%);\"><!----><div class=\"mat-form-field-hint-spacer ng-tns-c18-5\"></div></div><!----></div></div></mat-form-field><!----><!----></div><!----><div class=\"mat-paginator-range-actions\"><div class=\"mat-paginator-range-label\"> 1 – 25 of 887 </div><button mat-icon-button=\"\" type=\"button\" class=\"mat-focus-indicator mat-tooltip-trigger mat-paginator-navigation-first mat-icon-button mat-button-base mat-button-disabled ng-star-inserted\" aria-label=\"First page\" disabled=\"true\" style=\"\"><span class=\"mat-button-wrapper\"><svg viewBox=\"0 0 24 24\" focusable=\"false\" class=\"mat-paginator-icon\"><path d=\"M18.41 16.59L13.82 12l4.59-4.59L17 6l-6 6 6 6zM6 6h2v12H6z\"></path></svg></span><span matripple=\"\" class=\"mat-ripple mat-button-ripple mat-button-ripple-round\"></span><span class=\"mat-button-focus-overlay\"></span></button><!----><!----><button mat-icon-button=\"\" type=\"button\" class=\"mat-focus-indicator mat-tooltip-trigger mat-paginator-navigation-previous mat-icon-button mat-button-base mat-button-disabled\" aria-label=\"Previous page\" disabled=\"true\"><span class=\"mat-button-wrapper\"><svg viewBox=\"0 0 24 24\" focusable=\"false\" class=\"mat-paginator-icon\"><path d=\"M15.41 7.41L14 6l-6 6 6 6 1.41-1.41L10.83 12z\"></path></svg></span><span matripple=\"\" class=\"mat-ripple mat-button-ripple mat-button-ripple-round\"></span><span class=\"mat-button-focus-overlay\"></span></button><!----><button mat-icon-button=\"\" type=\"button\" class=\"mat-focus-indicator mat-tooltip-trigger mat-paginator-navigation-next mat-icon-button mat-button-base\" aria-label=\"Next page\"><span class=\"mat-button-wrapper\"><svg viewBox=\"0 0 24 24\" focusable=\"false\" class=\"mat-paginator-icon\"><path d=\"M10 6L8.59 7.41 13.17 12l-4.58 4.59L10 18l6-6z\"></path></svg></span><span matripple=\"\" class=\"mat-ripple mat-button-ripple mat-button-ripple-round\"></span><span class=\"mat-button-focus-overlay\"></span></button><!----><button mat-icon-button=\"\" type=\"button\" class=\"mat-focus-indicator mat-tooltip-trigger mat-paginator-navigation-last mat-icon-button mat-button-base ng-star-inserted\" aria-label=\"Last page\" style=\"\"><span class=\"mat-button-wrapper\"><svg viewBox=\"0 0 24 24\" focusable=\"false\" class=\"mat-paginator-icon\"><path d=\"M5.59 7.41L10.18 12l-4.59 4.59L7 18l6-6-6-6zM16 6h2v12h-2z\"></path></svg></span><span matripple=\"\" class=\"mat-ripple mat-button-ripple mat-button-ripple-round\"></span><span class=\"mat-button-focus-overlay\"></span></button><!----><!----></div></div></div></mat-paginator></div><!----></div></app-cameras-list><!----></div>"
   ]
  },
  {
   "cell_type": "code",
   "execution_count": 12,
   "metadata": {},
   "outputs": [],
   "source": [
    "def find_element(containing_el, search_term, attribute):\n",
    "    n_el = 0\n",
    "    needle = None\n",
    "    for el in containing_el.find_elements(By.XPATH, \".//*\"):\n",
    "        n_el += 1\n",
    "        att_value = el.get_attribute(attribute)\n",
    "        if att_value:\n",
    "            if search_term in att_value:\n",
    "                needle = el\n",
    "                return needle"
   ]
  },
  {
   "cell_type": "code",
   "execution_count": 16,
   "metadata": {},
   "outputs": [],
   "source": [
    "body = driver.find_element(By.TAG_NAME, 'body')\n",
    "body = body.find_element(By.TAG_NAME, 'body')\n",
    "main_div = body.find_element(By.TAG_NAME, 'div')\n",
    "\n",
    "app_nav = main_div.find_element(By.TAG_NAME, 'app-navigation')\n",
    "\n",
    "cam_list_pc = find_element(main_div, \"g-view-wrapper g-flex ng-tns-c\", \"class\")"
   ]
  },
  {
   "cell_type": "code",
   "execution_count": 17,
   "metadata": {},
   "outputs": [
    {
     "data": {
      "text/plain": [
       "selenium.webdriver.remote.webelement.WebElement"
      ]
     },
     "execution_count": 17,
     "metadata": {},
     "output_type": "execute_result"
    }
   ],
   "source": [
    "type(cam_list_pc)"
   ]
  },
  {
   "cell_type": "code",
   "execution_count": 19,
   "metadata": {},
   "outputs": [],
   "source": [
    "def get_address_borough(trow):\n",
    "    cb_cell, a_cell, b_cell =  trow.find_elements(By.TAG_NAME, 'td')[:3]\n",
    "    return (cb_cell, a_cell.text, b_cell.text)"
   ]
  },
  {
   "cell_type": "code",
   "execution_count": 21,
   "metadata": {},
   "outputs": [],
   "source": [
    "import pandas as pd"
   ]
  },
  {
   "cell_type": "code",
   "execution_count": 22,
   "metadata": {},
   "outputs": [],
   "source": [
    "# app_cam_list = div2.find_element(By.TAG_NAME, 'app-camera-list')\n",
    "cam_list_pc.get_attribute('class') #g-view-wrapper g-flex ng-tns-c113-0\n",
    "cam_list = cam_list_pc.find_element(By.TAG_NAME, 'app-cameras-list')\n",
    "tbody = cam_list.find_element(By.TAG_NAME, 'tbody')\n",
    "trows = tbody.find_elements(By.TAG_NAME, 'tr')\n",
    "\n",
    "table_addresses = []\n",
    "for trow in trows:\n",
    "    cb_cell , a , b = get_address_borough(trow)\n",
    "    table_addresses.append((a,b))\n",
    "#Format as DataFrame (like excel spreadsheet)\n",
    "df = pd.DataFrame(table_addresses)\n",
    "df.columns = ['Address','Borough']"
   ]
  },
  {
   "cell_type": "code",
   "execution_count": 23,
   "metadata": {},
   "outputs": [
    {
     "data": {
      "text/html": [
       "<div>\n",
       "<style scoped>\n",
       "    .dataframe tbody tr th:only-of-type {\n",
       "        vertical-align: middle;\n",
       "    }\n",
       "\n",
       "    .dataframe tbody tr th {\n",
       "        vertical-align: top;\n",
       "    }\n",
       "\n",
       "    .dataframe thead th {\n",
       "        text-align: right;\n",
       "    }\n",
       "</style>\n",
       "<table border=\"1\" class=\"dataframe\">\n",
       "  <thead>\n",
       "    <tr style=\"text-align: right;\">\n",
       "      <th></th>\n",
       "      <th>Address</th>\n",
       "      <th>Borough</th>\n",
       "    </tr>\n",
       "  </thead>\n",
       "  <tbody>\n",
       "    <tr>\n",
       "      <th>0</th>\n",
       "      <td>1 Ave @ 110 St</td>\n",
       "      <td>Manhattan</td>\n",
       "    </tr>\n",
       "    <tr>\n",
       "      <th>1</th>\n",
       "      <td>1 Ave @ 124 St</td>\n",
       "      <td>Manhattan</td>\n",
       "    </tr>\n",
       "    <tr>\n",
       "      <th>2</th>\n",
       "      <td>1 Ave @ 14 St</td>\n",
       "      <td>Manhattan</td>\n",
       "    </tr>\n",
       "    <tr>\n",
       "      <th>3</th>\n",
       "      <td>1 Ave @ 23 St</td>\n",
       "      <td>Manhattan</td>\n",
       "    </tr>\n",
       "    <tr>\n",
       "      <th>4</th>\n",
       "      <td>1 ave @ 40 st</td>\n",
       "      <td>Manhattan</td>\n",
       "    </tr>\n",
       "    <tr>\n",
       "      <th>5</th>\n",
       "      <td>1 Ave @ 42 St</td>\n",
       "      <td>Manhattan</td>\n",
       "    </tr>\n",
       "    <tr>\n",
       "      <th>6</th>\n",
       "      <td>1 Ave @ 57 st</td>\n",
       "      <td>Manhattan</td>\n",
       "    </tr>\n",
       "    <tr>\n",
       "      <th>7</th>\n",
       "      <td>1 Ave @ 59 St</td>\n",
       "      <td>Manhattan</td>\n",
       "    </tr>\n",
       "    <tr>\n",
       "      <th>8</th>\n",
       "      <td>1 Ave @ 62 St</td>\n",
       "      <td>Manhattan</td>\n",
       "    </tr>\n",
       "    <tr>\n",
       "      <th>9</th>\n",
       "      <td>1 Ave @ 86 St</td>\n",
       "      <td>Manhattan</td>\n",
       "    </tr>\n",
       "    <tr>\n",
       "      <th>10</th>\n",
       "      <td>1 Ave @ 96 St</td>\n",
       "      <td>Manhattan</td>\n",
       "    </tr>\n",
       "    <tr>\n",
       "      <th>11</th>\n",
       "      <td>1 Ave @ E 14 St</td>\n",
       "      <td>Manhattan</td>\n",
       "    </tr>\n",
       "    <tr>\n",
       "      <th>12</th>\n",
       "      <td>1 Ave @ E. Houston St</td>\n",
       "      <td>Manhattan</td>\n",
       "    </tr>\n",
       "    <tr>\n",
       "      <th>13</th>\n",
       "      <td>1 Avenue @ East 60 Street</td>\n",
       "      <td>Manhattan</td>\n",
       "    </tr>\n",
       "    <tr>\n",
       "      <th>14</th>\n",
       "      <td>1 st Camera South Bound BPU-148.55</td>\n",
       "      <td>Manhattan</td>\n",
       "    </tr>\n",
       "    <tr>\n",
       "      <th>15</th>\n",
       "      <td>10 Ave @ 42 St</td>\n",
       "      <td>Manhattan</td>\n",
       "    </tr>\n",
       "    <tr>\n",
       "      <th>16</th>\n",
       "      <td>10 Ave @ 57 St</td>\n",
       "      <td>Manhattan</td>\n",
       "    </tr>\n",
       "    <tr>\n",
       "      <th>17</th>\n",
       "      <td>11 Ave @ 34 ST</td>\n",
       "      <td>Manhattan</td>\n",
       "    </tr>\n",
       "    <tr>\n",
       "      <th>18</th>\n",
       "      <td>11 Ave @ 42 St</td>\n",
       "      <td>Manhattan</td>\n",
       "    </tr>\n",
       "    <tr>\n",
       "      <th>19</th>\n",
       "      <td>11 Ave @ 57 St</td>\n",
       "      <td>Manhattan</td>\n",
       "    </tr>\n",
       "    <tr>\n",
       "      <th>20</th>\n",
       "      <td>11 Ave @ W 40 St</td>\n",
       "      <td>Manhattan</td>\n",
       "    </tr>\n",
       "    <tr>\n",
       "      <th>21</th>\n",
       "      <td>11 Ave/Rt 9A @ 14 St</td>\n",
       "      <td>Manhattan</td>\n",
       "    </tr>\n",
       "    <tr>\n",
       "      <th>22</th>\n",
       "      <td>12 Ave @ 22 St</td>\n",
       "      <td>Manhattan</td>\n",
       "    </tr>\n",
       "    <tr>\n",
       "      <th>23</th>\n",
       "      <td>12 Ave @ 34 St</td>\n",
       "      <td>Manhattan</td>\n",
       "    </tr>\n",
       "    <tr>\n",
       "      <th>24</th>\n",
       "      <td>12 Ave @ 42 St</td>\n",
       "      <td>Manhattan</td>\n",
       "    </tr>\n",
       "  </tbody>\n",
       "</table>\n",
       "</div>"
      ],
      "text/plain": [
       "                               Address    Borough\n",
       "0                       1 Ave @ 110 St  Manhattan\n",
       "1                       1 Ave @ 124 St  Manhattan\n",
       "2                        1 Ave @ 14 St  Manhattan\n",
       "3                        1 Ave @ 23 St  Manhattan\n",
       "4                        1 ave @ 40 st  Manhattan\n",
       "5                        1 Ave @ 42 St  Manhattan\n",
       "6                        1 Ave @ 57 st  Manhattan\n",
       "7                        1 Ave @ 59 St  Manhattan\n",
       "8                        1 Ave @ 62 St  Manhattan\n",
       "9                        1 Ave @ 86 St  Manhattan\n",
       "10                       1 Ave @ 96 St  Manhattan\n",
       "11                     1 Ave @ E 14 St  Manhattan\n",
       "12               1 Ave @ E. Houston St  Manhattan\n",
       "13           1 Avenue @ East 60 Street  Manhattan\n",
       "14  1 st Camera South Bound BPU-148.55  Manhattan\n",
       "15                      10 Ave @ 42 St  Manhattan\n",
       "16                      10 Ave @ 57 St  Manhattan\n",
       "17                      11 Ave @ 34 ST  Manhattan\n",
       "18                      11 Ave @ 42 St  Manhattan\n",
       "19                      11 Ave @ 57 St  Manhattan\n",
       "20                    11 Ave @ W 40 St  Manhattan\n",
       "21                11 Ave/Rt 9A @ 14 St  Manhattan\n",
       "22                      12 Ave @ 22 St  Manhattan\n",
       "23                      12 Ave @ 34 St  Manhattan\n",
       "24                      12 Ave @ 42 St  Manhattan"
      ]
     },
     "execution_count": 23,
     "metadata": {},
     "output_type": "execute_result"
    }
   ],
   "source": [
    "df"
   ]
  },
  {
   "cell_type": "code",
   "execution_count": 27,
   "metadata": {},
   "outputs": [],
   "source": [
    "import time"
   ]
  },
  {
   "cell_type": "code",
   "execution_count": 28,
   "metadata": {},
   "outputs": [],
   "source": [
    "start = scraper.last_row_scraped % int(scraper.results_pp)\n",
    "# if self.debug:\n",
    "#     padding = \" \"*20\n",
    "#     sys.stdout.write(\"\\rStart: {} Total rows: {}{}\".format(start, len(trows),padding))\n",
    "n_to_check = 9\n",
    "#Update Below to a simple list slice.\n",
    "for i, trow in enumerate(trows):\n",
    "    cb_cell , a , b = get_address_borough(trow)\n",
    "    if i in range(start, start+n_to_check):\n",
    "        checkbox = cb_cell.find_element(By.TAG_NAME, 'mat-checkbox')\n",
    "        checkbox.click()\n",
    "        scraper.last_row_scraped += 1\n",
    "time.sleep(1.5)"
   ]
  },
  {
   "cell_type": "code",
   "execution_count": 29,
   "metadata": {},
   "outputs": [],
   "source": [
    "button = cam_list.find_element(By.TAG_NAME, 'button')\n",
    "button.click()"
   ]
  },
  {
   "cell_type": "code",
   "execution_count": 30,
   "metadata": {},
   "outputs": [
    {
     "name": "stdout",
     "output_type": "stream",
     "text": [
      "1 Ave @ 110 St\n",
      "1 Ave @ 124 St\n",
      "1 Ave @ 14 St\n",
      "1 Ave @ 23 St\n",
      "1 ave @ 40 st\n",
      "1 Ave @ 42 St\n",
      "1 Ave @ 57 st\n",
      "1 Ave @ 59 St\n",
      "1 Ave @ 62 St\n",
      "1 Ave @ 110 St\n",
      "1 Ave @ 124 St\n",
      "1 Ave @ 14 St\n",
      "1 Ave @ 23 St\n",
      "1 ave @ 40 st\n",
      "1 Ave @ 42 St\n",
      "1 Ave @ 57 st\n",
      "1 Ave @ 59 St\n",
      "1 Ave @ 62 St\n",
      "1 Ave @ 110 St\n",
      "1 Ave @ 124 St\n",
      "1 Ave @ 14 St\n",
      "1 Ave @ 23 St\n",
      "1 ave @ 40 st\n",
      "1 Ave @ 42 St\n",
      "1 Ave @ 57 st\n",
      "1 Ave @ 59 St\n",
      "1 Ave @ 62 St\n",
      "1 Ave @ 110 St\n",
      "1 Ave @ 124 St\n",
      "1 Ave @ 14 St\n",
      "1 Ave @ 23 St\n",
      "1 ave @ 40 st\n",
      "1 Ave @ 42 St\n",
      "1 Ave @ 57 st\n",
      "1 Ave @ 59 St\n",
      "1 Ave @ 62 St\n",
      "1 Ave @ 110 St\n",
      "1 Ave @ 124 St\n",
      "1 Ave @ 14 St\n",
      "1 Ave @ 23 St\n",
      "1 ave @ 40 st\n",
      "1 Ave @ 42 St\n",
      "1 Ave @ 57 st\n",
      "1 Ave @ 59 St\n",
      "1 Ave @ 62 St\n"
     ]
    },
    {
     "ename": "AttributeError",
     "evalue": "'camScraper' object has no attribute 'tot_cams'",
     "output_type": "error",
     "traceback": [
      "\u001b[0;31m---------------------------------------------------------------------------\u001b[0m",
      "\u001b[0;31mAttributeError\u001b[0m                            Traceback (most recent call last)",
      "Cell \u001b[0;32mIn[30], line 7\u001b[0m\n\u001b[1;32m      5\u001b[0m     time\u001b[38;5;241m.\u001b[39msleep(scraper\u001b[38;5;241m.\u001b[39mseconds_between_snapshots)\n\u001b[1;32m      6\u001b[0m \u001b[38;5;66;03m#Once all cameras scraped, repeat!\u001b[39;00m\n\u001b[0;32m----> 7\u001b[0m \u001b[38;5;28;01mif\u001b[39;00m scraper\u001b[38;5;241m.\u001b[39mlast_row_scraped \u001b[38;5;241m>\u001b[39m\u001b[38;5;241m=\u001b[39m \u001b[43mscraper\u001b[49m\u001b[38;5;241;43m.\u001b[39;49m\u001b[43mtot_cams\u001b[49m:\n\u001b[1;32m      8\u001b[0m     scraper\u001b[38;5;241m.\u001b[39mlast_row_scraped \u001b[38;5;241m=\u001b[39m \u001b[38;5;241m0\u001b[39m\n\u001b[1;32m      9\u001b[0m     \u001b[38;5;28mprint\u001b[39m(\u001b[38;5;124m\"\u001b[39m\u001b[38;5;124mCompleted Scraping all Cameras!!\u001b[39m\u001b[38;5;124m\"\u001b[39m)\n",
      "\u001b[0;31mAttributeError\u001b[0m: 'camScraper' object has no attribute 'tot_cams'"
     ]
    }
   ],
   "source": [
    "time.sleep(3.5)\n",
    "#Get 10 images, one every 2 seconds.\n",
    "for i in range(scraper.snapshots_per_camera):\n",
    "    scraper.scrape_images()\n",
    "    time.sleep(scraper.seconds_between_snapshots)\n",
    "#Once all cameras scraped, repeat!\n",
    "if scraper.last_row_scraped >= scraper.tot_cams:\n",
    "    scraper.last_row_scraped = 0\n",
    "    print(\"Completed Scraping all Cameras!!\")\n",
    "    scraper.cycles_completed += 1\n",
    "if scraper.cycles_completed >= scraper.cycle_termination_number:\n",
    "    print(\"Scraping completed. Exiting.\")\n",
    "    return None"
   ]
  },
  {
   "cell_type": "code",
   "execution_count": 31,
   "metadata": {},
   "outputs": [
    {
     "data": {
      "text/plain": [
       "'g-view-wrapper g-flex ng-tns-c115-0'"
      ]
     },
     "execution_count": 31,
     "metadata": {},
     "output_type": "execute_result"
    }
   ],
   "source": [
    "cam_list_pc.get_attribute('class')"
   ]
  },
  {
   "cell_type": "markdown",
   "metadata": {},
   "source": [
    "## File Checking"
   ]
  },
  {
   "cell_type": "code",
   "execution_count": 70,
   "metadata": {},
   "outputs": [
    {
     "name": "stdout",
     "output_type": "stream",
     "text": [
      "/home/matt/Documents/Projects/NYC511_CameraScrape\n"
     ]
    }
   ],
   "source": [
    "cd .."
   ]
  },
  {
   "cell_type": "code",
   "execution_count": 71,
   "metadata": {},
   "outputs": [
    {
     "data": {
      "text/plain": [
       "'/home/matt/Documents/Projects/NYC511_CameraScrape'"
      ]
     },
     "execution_count": 71,
     "metadata": {},
     "output_type": "execute_result"
    }
   ],
   "source": [
    "pwd"
   ]
  },
  {
   "cell_type": "code",
   "execution_count": 72,
   "metadata": {},
   "outputs": [],
   "source": [
    "import os.path, time\n",
    "import glob"
   ]
  },
  {
   "cell_type": "code",
   "execution_count": 73,
   "metadata": {},
   "outputs": [
    {
     "name": "stdout",
     "output_type": "stream",
     "text": [
      "665 ['images/Jackson_Ave_at_Thomson_Ave', 'images/Br_Br-20_S_Rdwy_FDR_Dr', 'images/C3-MLK-02-NB_at_Forest_Ave-Ex11'] ['images/FDR_Dr_at_10_St', 'images/BQE_E_B_at_Pearl_St', 'images/FDR_Dr_at_23_St']\n"
     ]
    }
   ],
   "source": [
    "camera_folders = [folder for folder in glob.glob(\"images/*\") if os.path.isdir(folder)]\n",
    "print(len(camera_folders), camera_folders[:3], camera_folders[-3:])"
   ]
  },
  {
   "cell_type": "code",
   "execution_count": 74,
   "metadata": {},
   "outputs": [
    {
     "name": "stdout",
     "output_type": "stream",
     "text": [
      "7940\n"
     ]
    }
   ],
   "source": [
    "files = []\n",
    "for folder in camera_folders:\n",
    "    subfiles = glob.glob(\"{}/*\".format(folder))\n",
    "    files+=subfiles\n",
    "print(len(files))"
   ]
  },
  {
   "cell_type": "code",
   "execution_count": 75,
   "metadata": {},
   "outputs": [
    {
     "name": "stdout",
     "output_type": "stream",
     "text": [
      "First File:images/images/geckodriver.log last modified: Fri Jul 14 20:01:34 2023\n",
      "\n",
      "Second File:images/1_Ave_at_110_St/1_Ave_at_110_St_07-14-2023_2015_55.png last modified: Fri Jul 14 20:15:55 2023\n",
      "\n",
      "Last File:images/1st_camera_North_Bound_BPU_-14851/1st_camera_North_Bound_BPU_-14851_11-04-2023_1519_13.png last modified: Sat Nov  4 15:19:13 2023\n"
     ]
    }
   ],
   "source": [
    "# file = files[0]\n",
    "files = sorted(files, key=lambda x: os.path.getmtime(x))\n",
    "first_file = files[0]\n",
    "second_file = files[1]\n",
    "last_file = files[-1]\n",
    "\n",
    "print(\"First File:{} last modified: {}\\n\".format(first_file , time.ctime(os.path.getmtime(first_file))))\n",
    "print(\"Second File:{} last modified: {}\\n\".format(second_file , time.ctime(os.path.getmtime(second_file))))\n",
    "print(\"Last File:{} last modified: {}\".format(last_file , time.ctime(os.path.getmtime(last_file))))"
   ]
  },
  {
   "cell_type": "code",
   "execution_count": 85,
   "metadata": {},
   "outputs": [
    {
     "data": {
      "text/plain": [
       "'Sat Nov  4 15:17:45 2023'"
      ]
     },
     "execution_count": 85,
     "metadata": {},
     "output_type": "execute_result"
    }
   ],
   "source": [
    "ex_file = \"images/1_ave_at_40_st/1_ave_at_40_st_11-04-2023_1517_44.png\"\n",
    "time.ctime(os.path.getmtime(ex_file))"
   ]
  },
  {
   "cell_type": "code",
   "execution_count": 88,
   "metadata": {},
   "outputs": [],
   "source": [
    "folder = \"images/1_ave_at_40_st/\""
   ]
  },
  {
   "cell_type": "code",
   "execution_count": 90,
   "metadata": {},
   "outputs": [
    {
     "data": {
      "text/plain": [
       "['images/1_ave_at_40_st/1_ave_at_40_st_07-14-2023_2019_44.png',\n",
       " 'images/1_ave_at_40_st/1_ave_at_40_st_11-04-2023_1445_30.png',\n",
       " 'images/1_ave_at_40_st/1_ave_at_40_st_09-07-2023_2113_01.png',\n",
       " 'images/1_ave_at_40_st/1_ave_at_40_st_09-05-2023_2323_42.png',\n",
       " 'images/1_ave_at_40_st/1_ave_at_40_st_07-14-2023_2020_04.png',\n",
       " 'images/1_ave_at_40_st/1_ave_at_40_st_07-14-2023_2019_56.png',\n",
       " 'images/1_ave_at_40_st/1_ave_at_40_st_09-07-2023_2113_06.png',\n",
       " 'images/1_ave_at_40_st/1_ave_at_40_st_09-10-2023_1259_29.png',\n",
       " 'images/1_ave_at_40_st/1_ave_at_40_st_09-05-2023_2323_56.png',\n",
       " 'images/1_ave_at_40_st/1_ave_at_40_st_09-10-2023_1259_25.png',\n",
       " 'images/1_ave_at_40_st/1_ave_at_40_st_11-04-2023_1448_47.png',\n",
       " 'images/1_ave_at_40_st/1_ave_at_40_st_09-07-2023_2113_14.png',\n",
       " 'images/1_ave_at_40_st/1_ave_at_40_st_07-14-2023_2020_00.png',\n",
       " 'images/1_ave_at_40_st/1_ave_at_40_st_09-10-2023_1259_21.png',\n",
       " 'images/1_ave_at_40_st/1_ave_at_40_st_09-05-2023_2310_03.png',\n",
       " 'images/1_ave_at_40_st/1_ave_at_40_st_07-14-2023_2019_32.png',\n",
       " 'images/1_ave_at_40_st/1_ave_at_40_st_11-04-2023_1445_35.png',\n",
       " 'images/1_ave_at_40_st/1_ave_at_40_st_09-05-2023_2310_34.png',\n",
       " 'images/1_ave_at_40_st/1_ave_at_40_st_07-14-2023_2019_36.png',\n",
       " 'images/1_ave_at_40_st/1_ave_at_40_st_11-04-2023_1445_22.png',\n",
       " 'images/1_ave_at_40_st/1_ave_at_40_st_09-10-2023_1259_16.png',\n",
       " 'images/1_ave_at_40_st/1_ave_at_40_st_09-07-2023_2113_10.png',\n",
       " 'images/1_ave_at_40_st/1_ave_at_40_st_09-05-2023_2310_27.png',\n",
       " 'images/1_ave_at_40_st/1_ave_at_40_st_07-14-2023_2019_52.png',\n",
       " 'images/1_ave_at_40_st/1_ave_at_40_st_11-04-2023_1517_36.png',\n",
       " 'images/1_ave_at_40_st/1_ave_at_40_st_09-05-2023_2323_52.png',\n",
       " 'images/1_ave_at_40_st/1_ave_at_40_st_09-05-2023_2310_13.png',\n",
       " 'images/1_ave_at_40_st/1_ave_at_40_st_09-05-2023_2324_00.png',\n",
       " 'images/1_ave_at_40_st/1_ave_at_40_st_09-05-2023_2310_17.png',\n",
       " 'images/1_ave_at_40_st/1_ave_at_40_st_09-05-2023_2310_24.png',\n",
       " 'images/1_ave_at_40_st/1_ave_at_40_st_09-05-2023_2310_10.png',\n",
       " 'images/1_ave_at_40_st/1_ave_at_40_st_09-05-2023_2310_07.png',\n",
       " 'images/1_ave_at_40_st/1_ave_at_40_st_11-04-2023_1445_17.png',\n",
       " 'images/1_ave_at_40_st/1_ave_at_40_st_07-14-2023_2019_29.png',\n",
       " 'images/1_ave_at_40_st/1_ave_at_40_st_11-04-2023_1448_42.png',\n",
       " 'images/1_ave_at_40_st/1_ave_at_40_st_09-05-2023_2310_20.png',\n",
       " 'images/1_ave_at_40_st/1_ave_at_40_st_09-05-2023_2324_05.png',\n",
       " 'images/1_ave_at_40_st/1_ave_at_40_st_11-04-2023_1448_55.png',\n",
       " 'images/1_ave_at_40_st/1_ave_at_40_st_11-04-2023_1517_32.png',\n",
       " 'images/1_ave_at_40_st/1_ave_at_40_st_09-10-2023_1259_33.png',\n",
       " 'images/1_ave_at_40_st/1_ave_at_40_st_11-04-2023_1517_27.png',\n",
       " 'images/1_ave_at_40_st/1_ave_at_40_st_11-04-2023_1445_26.png',\n",
       " 'images/1_ave_at_40_st/1_ave_at_40_st_11-04-2023_1448_38.png',\n",
       " 'images/1_ave_at_40_st/1_ave_at_40_st_11-04-2023_1517_40.png',\n",
       " 'images/1_ave_at_40_st/1_ave_at_40_st_07-14-2023_2019_40.png',\n",
       " 'images/1_ave_at_40_st/1_ave_at_40_st_07-14-2023_2019_48.png',\n",
       " 'images/1_ave_at_40_st/1_ave_at_40_st_11-04-2023_1448_51.png',\n",
       " 'images/1_ave_at_40_st/1_ave_at_40_st_11-04-2023_1517_44.png',\n",
       " 'images/1_ave_at_40_st/1_ave_at_40_st_09-05-2023_2310_30.png',\n",
       " 'images/1_ave_at_40_st/1_ave_at_40_st_09-07-2023_2113_18.png']"
      ]
     },
     "execution_count": 90,
     "metadata": {},
     "output_type": "execute_result"
    }
   ],
   "source": [
    "subfiles = glob.glob(\"{}/*\".format(folder))\n",
    "subfiles"
   ]
  },
  {
   "cell_type": "code",
   "execution_count": 92,
   "metadata": {},
   "outputs": [
    {
     "data": {
      "text/plain": [
       "{'min': Timestamp('2023-07-14 20:19:29'),\n",
       " 'max': Timestamp('2023-11-04 15:17:45'),\n",
       " 'count': 50}"
      ]
     },
     "execution_count": 92,
     "metadata": {},
     "output_type": "execute_result"
    }
   ],
   "source": [
    "subfile_timestamps = [pd.to_datetime(time.ctime(os.path.getmtime(subfile))) for subfile in subfiles]\n",
    "summary = {'min': min(subfile_timestamps),\n",
    "                   'max': max(subfile_timestamps),\n",
    "                   'count' : len(subfile_timestamps)\n",
    "                  }\n",
    "summary"
   ]
  },
  {
   "cell_type": "code",
   "execution_count": 104,
   "metadata": {},
   "outputs": [],
   "source": [
    "%load_ext autoreload\n",
    "%autoreload 1"
   ]
  },
  {
   "cell_type": "code",
   "execution_count": 107,
   "metadata": {},
   "outputs": [],
   "source": [
    "%aimport tt"
   ]
  },
  {
   "cell_type": "code",
   "execution_count": 134,
   "metadata": {},
   "outputs": [
    {
     "name": "stdout",
     "output_type": "stream",
     "text": [
      "906 ['images/Jackson_Ave_at_Thomson_Ave', 'images/Br_Br-20_S_Rdwy_FDR_Dr', 'images/C3-MLK-02-NB_at_Forest_Ave-Ex11'] ['images/BQE_E_B_at_Pearl_St', 'images/FDR_Dr_at_23_St', 'images/Park_Ave_at_96_St']\n",
      "Total Files: 20561\n",
      "Images scraped today: 12936\n",
      "Images scraped in the last week: 12936\n",
      "File: NYC_511_ImageScrape_File_Summary_as_of_11-04-2023.csv already exists. Do you wish to overwrite? (Y/N)Y\n",
      "Overwriting file. Saving to: NYC_511_ImageScrape_File_Summary_as_of_11-04-2023.csv\n"
     ]
    },
    {
     "data": {
      "text/html": [
       "<div>\n",
       "<style scoped>\n",
       "    .dataframe tbody tr th:only-of-type {\n",
       "        vertical-align: middle;\n",
       "    }\n",
       "\n",
       "    .dataframe tbody tr th {\n",
       "        vertical-align: top;\n",
       "    }\n",
       "\n",
       "    .dataframe thead th {\n",
       "        text-align: right;\n",
       "    }\n",
       "</style>\n",
       "<table border=\"1\" class=\"dataframe\">\n",
       "  <thead>\n",
       "    <tr style=\"text-align: right;\">\n",
       "      <th></th>\n",
       "      <th>min</th>\n",
       "      <th>max</th>\n",
       "      <th>count</th>\n",
       "      <th>nimages_today</th>\n",
       "      <th>nimages_last_week</th>\n",
       "      <th>September 2023</th>\n",
       "      <th>November 2023</th>\n",
       "      <th>July 2023</th>\n",
       "    </tr>\n",
       "  </thead>\n",
       "  <tbody>\n",
       "    <tr>\n",
       "      <th>West_Shore_Expy_at_Arden_Av</th>\n",
       "      <td>2023-11-04 17:10:02</td>\n",
       "      <td>2023-11-04 20:39:56</td>\n",
       "      <td>15</td>\n",
       "      <td>15</td>\n",
       "      <td>15</td>\n",
       "      <td>NaN</td>\n",
       "      <td>15</td>\n",
       "      <td>NaN</td>\n",
       "    </tr>\n",
       "    <tr>\n",
       "      <th>West_Houston_at_Varick_St</th>\n",
       "      <td>2023-11-04 17:10:02</td>\n",
       "      <td>2023-11-04 20:39:56</td>\n",
       "      <td>15</td>\n",
       "      <td>15</td>\n",
       "      <td>15</td>\n",
       "      <td>NaN</td>\n",
       "      <td>15</td>\n",
       "      <td>NaN</td>\n",
       "    </tr>\n",
       "    <tr>\n",
       "      <th>West_Shore_Expy_at_Bloomingdale_Rd</th>\n",
       "      <td>2023-11-04 17:10:02</td>\n",
       "      <td>2023-11-04 20:39:56</td>\n",
       "      <td>15</td>\n",
       "      <td>15</td>\n",
       "      <td>15</td>\n",
       "      <td>NaN</td>\n",
       "      <td>15</td>\n",
       "      <td>NaN</td>\n",
       "    </tr>\n",
       "    <tr>\n",
       "      <th>WBB-8_NIR_Bklyn_Anch_Kent_Av</th>\n",
       "      <td>2023-11-04 17:10:02</td>\n",
       "      <td>2023-11-04 20:39:55</td>\n",
       "      <td>15</td>\n",
       "      <td>15</td>\n",
       "      <td>15</td>\n",
       "      <td>NaN</td>\n",
       "      <td>15</td>\n",
       "      <td>NaN</td>\n",
       "    </tr>\n",
       "    <tr>\n",
       "      <th>West_Houston_at_Hudson_St</th>\n",
       "      <td>2023-11-04 17:10:02</td>\n",
       "      <td>2023-11-04 20:39:55</td>\n",
       "      <td>15</td>\n",
       "      <td>15</td>\n",
       "      <td>15</td>\n",
       "      <td>NaN</td>\n",
       "      <td>15</td>\n",
       "      <td>NaN</td>\n",
       "    </tr>\n",
       "  </tbody>\n",
       "</table>\n",
       "</div>"
      ],
      "text/plain": [
       "                                                   min                 max  \\\n",
       "West_Shore_Expy_at_Arden_Av        2023-11-04 17:10:02 2023-11-04 20:39:56   \n",
       "West_Houston_at_Varick_St          2023-11-04 17:10:02 2023-11-04 20:39:56   \n",
       "West_Shore_Expy_at_Bloomingdale_Rd 2023-11-04 17:10:02 2023-11-04 20:39:56   \n",
       "WBB-8_NIR_Bklyn_Anch_Kent_Av       2023-11-04 17:10:02 2023-11-04 20:39:55   \n",
       "West_Houston_at_Hudson_St          2023-11-04 17:10:02 2023-11-04 20:39:55   \n",
       "\n",
       "                                   count nimages_today nimages_last_week  \\\n",
       "West_Shore_Expy_at_Arden_Av           15            15                15   \n",
       "West_Houston_at_Varick_St             15            15                15   \n",
       "West_Shore_Expy_at_Bloomingdale_Rd    15            15                15   \n",
       "WBB-8_NIR_Bklyn_Anch_Kent_Av          15            15                15   \n",
       "West_Houston_at_Hudson_St             15            15                15   \n",
       "\n",
       "                                   September 2023 November 2023 July 2023  \n",
       "West_Shore_Expy_at_Arden_Av                   NaN            15       NaN  \n",
       "West_Houston_at_Varick_St                     NaN            15       NaN  \n",
       "West_Shore_Expy_at_Bloomingdale_Rd            NaN            15       NaN  \n",
       "WBB-8_NIR_Bklyn_Anch_Kent_Av                  NaN            15       NaN  \n",
       "West_Houston_at_Hudson_St                     NaN            15       NaN  "
      ]
     },
     "execution_count": 134,
     "metadata": {},
     "output_type": "execute_result"
    }
   ],
   "source": [
    "df = tt.image_scrape_summary()\n",
    "df.head()"
   ]
  },
  {
   "cell_type": "code",
   "execution_count": 115,
   "metadata": {},
   "outputs": [],
   "source": [
    "now = datetime.datetime.now()"
   ]
  },
  {
   "cell_type": "code",
   "execution_count": 129,
   "metadata": {},
   "outputs": [
    {
     "name": "stdout",
     "output_type": "stream",
     "text": [
      "Today: 2023-11-04 00:00:00\n",
      "Yesterday: 2023-11-03 00:00:00\n"
     ]
    }
   ],
   "source": [
    "today = pd.to_datetime((now).strftime(\"%Y-%m-%d\"))\n",
    "yesterday = today - pd.Timedelta(days=1)\n",
    "last_week = today - pd.Timedelta(days=7)\n",
    "print(\"Today: {}\".format(today))\n",
    "print(\"Yesterday: {}\".format(yesterday))"
   ]
  },
  {
   "cell_type": "code",
   "execution_count": 131,
   "metadata": {},
   "outputs": [
    {
     "name": "stdout",
     "output_type": "stream",
     "text": [
      "Images scraped today: 5\n",
      "Images scraped in the last week: 5\n"
     ]
    }
   ],
   "source": [
    "nimages_today = len([x for x in subfile_timestamps if x>today])\n",
    "nimages_last_week = len([x for x in subfile_timestamps if x>last_week])\n",
    "print(\"Images scraped today: {}\".format(nimages_today))\n",
    "print(\"Images scraped in the last week: {}\".format(nimages_last_week))"
   ]
  },
  {
   "cell_type": "code",
   "execution_count": 124,
   "metadata": {},
   "outputs": [
    {
     "data": {
      "text/plain": [
       "{'September 2023': 5, 'November 2023': 5}"
      ]
     },
     "execution_count": 124,
     "metadata": {},
     "output_type": "execute_result"
    }
   ],
   "source": [
    "dict(Counter([x.strftime(\"%B %Y\") for x in subfile_timestamps]))"
   ]
  },
  {
   "cell_type": "code",
   "execution_count": 100,
   "metadata": {},
   "outputs": [
    {
     "data": {
      "text/html": [
       "<div>\n",
       "<style scoped>\n",
       "    .dataframe tbody tr th:only-of-type {\n",
       "        vertical-align: middle;\n",
       "    }\n",
       "\n",
       "    .dataframe tbody tr th {\n",
       "        vertical-align: top;\n",
       "    }\n",
       "\n",
       "    .dataframe thead th {\n",
       "        text-align: right;\n",
       "    }\n",
       "</style>\n",
       "<table border=\"1\" class=\"dataframe\">\n",
       "  <thead>\n",
       "    <tr style=\"text-align: right;\">\n",
       "      <th></th>\n",
       "      <th>min</th>\n",
       "      <th>max</th>\n",
       "      <th>count</th>\n",
       "    </tr>\n",
       "  </thead>\n",
       "  <tbody>\n",
       "    <tr>\n",
       "      <th>Delancy_St_at_Essex_St</th>\n",
       "      <td>2023-09-12 17:29:51</td>\n",
       "      <td>2023-11-04 18:00:26</td>\n",
       "      <td>15</td>\n",
       "    </tr>\n",
       "    <tr>\n",
       "      <th>Delancey_St_at_Bowery_St</th>\n",
       "      <td>2023-09-12 17:28:57</td>\n",
       "      <td>2023-11-04 18:00:26</td>\n",
       "      <td>15</td>\n",
       "    </tr>\n",
       "    <tr>\n",
       "      <th>Drumgoogle_Rd_E_at_Jefferson_Blvd</th>\n",
       "      <td>2023-09-12 17:29:51</td>\n",
       "      <td>2023-11-04 18:00:26</td>\n",
       "      <td>15</td>\n",
       "    </tr>\n",
       "    <tr>\n",
       "      <th>Crotona_Pkwy_at_Cross_Bronx_Expwy</th>\n",
       "      <td>2023-09-12 17:28:57</td>\n",
       "      <td>2023-11-04 18:00:26</td>\n",
       "      <td>15</td>\n",
       "    </tr>\n",
       "    <tr>\n",
       "      <th>Cross_Island_Pkwy_at_Throgsneck</th>\n",
       "      <td>2023-09-12 17:28:57</td>\n",
       "      <td>2023-11-04 18:00:25</td>\n",
       "      <td>15</td>\n",
       "    </tr>\n",
       "    <tr>\n",
       "      <th>Cross_Island_Pkwy_at_West_Alley_Rd</th>\n",
       "      <td>2023-09-12 17:28:57</td>\n",
       "      <td>2023-11-04 18:00:25</td>\n",
       "      <td>15</td>\n",
       "    </tr>\n",
       "    <tr>\n",
       "      <th>Cross_Island_Pkwy_at_Union_Tpk</th>\n",
       "      <td>2023-09-12 17:28:57</td>\n",
       "      <td>2023-11-04 18:00:25</td>\n",
       "      <td>15</td>\n",
       "    </tr>\n",
       "    <tr>\n",
       "      <th>Cross_Island_Pkwy_at_Clearview_Expy</th>\n",
       "      <td>2023-09-12 17:28:56</td>\n",
       "      <td>2023-11-04 18:00:25</td>\n",
       "      <td>15</td>\n",
       "    </tr>\n",
       "    <tr>\n",
       "      <th>Cross_Island_Pkwy_at_Braddock_Ave_</th>\n",
       "      <td>2023-09-12 17:28:56</td>\n",
       "      <td>2023-11-04 18:00:25</td>\n",
       "      <td>15</td>\n",
       "    </tr>\n",
       "    <tr>\n",
       "      <th>Cross_Island_Pkwy_at_113_Av</th>\n",
       "      <td>2023-09-12 17:28:56</td>\n",
       "      <td>2023-11-04 17:59:29</td>\n",
       "      <td>15</td>\n",
       "    </tr>\n",
       "  </tbody>\n",
       "</table>\n",
       "</div>"
      ],
      "text/plain": [
       "                                                    min                 max  \\\n",
       "Delancy_St_at_Essex_St              2023-09-12 17:29:51 2023-11-04 18:00:26   \n",
       "Delancey_St_at_Bowery_St            2023-09-12 17:28:57 2023-11-04 18:00:26   \n",
       "Drumgoogle_Rd_E_at_Jefferson_Blvd   2023-09-12 17:29:51 2023-11-04 18:00:26   \n",
       "Crotona_Pkwy_at_Cross_Bronx_Expwy   2023-09-12 17:28:57 2023-11-04 18:00:26   \n",
       "Cross_Island_Pkwy_at_Throgsneck     2023-09-12 17:28:57 2023-11-04 18:00:25   \n",
       "Cross_Island_Pkwy_at_West_Alley_Rd  2023-09-12 17:28:57 2023-11-04 18:00:25   \n",
       "Cross_Island_Pkwy_at_Union_Tpk      2023-09-12 17:28:57 2023-11-04 18:00:25   \n",
       "Cross_Island_Pkwy_at_Clearview_Expy 2023-09-12 17:28:56 2023-11-04 18:00:25   \n",
       "Cross_Island_Pkwy_at_Braddock_Ave_  2023-09-12 17:28:56 2023-11-04 18:00:25   \n",
       "Cross_Island_Pkwy_at_113_Av         2023-09-12 17:28:56 2023-11-04 17:59:29   \n",
       "\n",
       "                                    count  \n",
       "Delancy_St_at_Essex_St                 15  \n",
       "Delancey_St_at_Bowery_St               15  \n",
       "Drumgoogle_Rd_E_at_Jefferson_Blvd      15  \n",
       "Crotona_Pkwy_at_Cross_Bronx_Expwy      15  \n",
       "Cross_Island_Pkwy_at_Throgsneck        15  \n",
       "Cross_Island_Pkwy_at_West_Alley_Rd     15  \n",
       "Cross_Island_Pkwy_at_Union_Tpk         15  \n",
       "Cross_Island_Pkwy_at_Clearview_Expy    15  \n",
       "Cross_Island_Pkwy_at_Braddock_Ave_     15  \n",
       "Cross_Island_Pkwy_at_113_Av            15  "
      ]
     },
     "execution_count": 100,
     "metadata": {},
     "output_type": "execute_result"
    }
   ],
   "source": [
    "folder_summaries = {}\n",
    "\n",
    "for folder in camera_folders:\n",
    "    subfiles = glob.glob(\"{}/*\".format(folder))\n",
    "    if len(subfiles) > 0:\n",
    "        subfile_timestamps = [pd.to_datetime(time.ctime(os.path.getmtime(subfile))) for subfile in subfiles]\n",
    "        #print(list(zip(subfiles, subfile_timestamps)))\n",
    "        summary = {'min': min(subfile_timestamps),\n",
    "                   'max': max(subfile_timestamps),\n",
    "                   'count' : len(subfile_timestamps)\n",
    "                  }\n",
    "    else:\n",
    "        summary = {'min':None,'max':None, 'count':0}\n",
    "    folder_summaries[folder.strip('images/')] = summary\n",
    "df = pd.DataFrame.from_dict(folder_summaries).transpose()\n",
    "df = df.sort_values(by='max', ascending=False)\n",
    "df.head(10)"
   ]
  },
  {
   "cell_type": "code",
   "execution_count": 101,
   "metadata": {},
   "outputs": [
    {
     "data": {
      "text/html": [
       "<div>\n",
       "<style scoped>\n",
       "    .dataframe tbody tr th:only-of-type {\n",
       "        vertical-align: middle;\n",
       "    }\n",
       "\n",
       "    .dataframe tbody tr th {\n",
       "        vertical-align: top;\n",
       "    }\n",
       "\n",
       "    .dataframe thead th {\n",
       "        text-align: right;\n",
       "    }\n",
       "</style>\n",
       "<table border=\"1\" class=\"dataframe\">\n",
       "  <thead>\n",
       "    <tr style=\"text-align: right;\">\n",
       "      <th></th>\n",
       "      <th>min</th>\n",
       "      <th>max</th>\n",
       "      <th>count</th>\n",
       "    </tr>\n",
       "  </thead>\n",
       "  <tbody>\n",
       "    <tr>\n",
       "      <th>BB-22_BQE_at_Old_Fulton_St</th>\n",
       "      <td>2023-07-14 20:36:14</td>\n",
       "      <td>2023-09-10 13:13:48</td>\n",
       "      <td>25</td>\n",
       "    </tr>\n",
       "    <tr>\n",
       "      <th>5_Ave_at_47_St</th>\n",
       "      <td>2023-07-14 20:26:30</td>\n",
       "      <td>2023-09-10 13:04:56</td>\n",
       "      <td>25</td>\n",
       "    </tr>\n",
       "    <tr>\n",
       "      <th>5_Ave_at_23_St</th>\n",
       "      <td>2023-07-14 20:26:29</td>\n",
       "      <td>2023-09-10 13:04:56</td>\n",
       "      <td>25</td>\n",
       "    </tr>\n",
       "    <tr>\n",
       "      <th></th>\n",
       "      <td>2023-07-14 20:01:34</td>\n",
       "      <td>2023-09-09 09:14:39</td>\n",
       "      <td>120</td>\n",
       "    </tr>\n",
       "    <tr>\n",
       "      <th>AVE_C_at_18_St</th>\n",
       "      <td>2023-07-14 20:35:14</td>\n",
       "      <td>2023-07-14 20:35:49</td>\n",
       "      <td>10</td>\n",
       "    </tr>\n",
       "  </tbody>\n",
       "</table>\n",
       "</div>"
      ],
      "text/plain": [
       "                                           min                 max count\n",
       "BB-22_BQE_at_Old_Fulton_St 2023-07-14 20:36:14 2023-09-10 13:13:48    25\n",
       "5_Ave_at_47_St             2023-07-14 20:26:30 2023-09-10 13:04:56    25\n",
       "5_Ave_at_23_St             2023-07-14 20:26:29 2023-09-10 13:04:56    25\n",
       "                           2023-07-14 20:01:34 2023-09-09 09:14:39   120\n",
       "AVE_C_at_18_St             2023-07-14 20:35:14 2023-07-14 20:35:49    10"
      ]
     },
     "execution_count": 101,
     "metadata": {},
     "output_type": "execute_result"
    }
   ],
   "source": [
    "df.tail()"
   ]
  },
  {
   "cell_type": "code",
   "execution_count": 103,
   "metadata": {},
   "outputs": [
    {
     "data": {
      "text/plain": [
       "<Axes: >"
      ]
     },
     "execution_count": 103,
     "metadata": {},
     "output_type": "execute_result"
    },
    {
     "data": {
      "image/png": "[encoded data removed]",
      "text/plain": [
       "<Figure size 640x480 with 1 Axes>"
      ]
     },
     "metadata": {},
     "output_type": "display_data"
    }
   ],
   "source": [
    "df['count'].hist()"
   ]
  },
  {
   "cell_type": "code",
   "execution_count": 39,
   "metadata": {},
   "outputs": [
    {
     "data": {
      "text/plain": [
       "[]"
      ]
     },
     "execution_count": 39,
     "metadata": {},
     "output_type": "execute_result"
    }
   ],
   "source": [
    "subfiles"
   ]
  },
  {
   "cell_type": "code",
   "execution_count": null,
   "metadata": {},
   "outputs": [],
   "source": [
    "# scraper.driver.close() #Close the Driver if there was a crash\n",
    "scraper.last_row_scraped #Check last row scraped on a crash (above will run infinitely)"
   ]
  },
  {
   "cell_type": "code",
   "execution_count": null,
   "metadata": {},
   "outputs": [],
   "source": [
    "scraper.iterations"
   ]
  },
  {
   "cell_type": "markdown",
   "metadata": {},
   "source": [
    "## Test Saving An Image"
   ]
  },
  {
   "cell_type": "code",
   "execution_count": null,
   "metadata": {},
   "outputs": [],
   "source": [
    "import urllib"
   ]
  },
  {
   "cell_type": "code",
   "execution_count": null,
   "metadata": {},
   "outputs": [],
   "source": [
    "img_url = \"https://webcams.nyctmc.org/api/cameras/eafc65f5-6ff9-4203-905f-3995b9fbc9eb/image?t=1693970292722\"\n",
    "img_filename = \"sample_camera_output_urllib.jpg\"\n",
    "urllib.request.urlretrieve(img_url, img_filename)"
   ]
  },
  {
   "cell_type": "code",
   "execution_count": null,
   "metadata": {},
   "outputs": [],
   "source": [
    "pwd"
   ]
  },
  {
   "cell_type": "markdown",
   "metadata": {},
   "source": [
    "## Previewing Images"
   ]
  },
  {
   "cell_type": "code",
   "execution_count": null,
   "metadata": {},
   "outputs": [],
   "source": [
    "from PIL import Image, ImageDraw\n",
    "from matplotlib.pyplot import imshow, imread\n",
    "import glob"
   ]
  },
  {
   "cell_type": "code",
   "execution_count": null,
   "metadata": {},
   "outputs": [],
   "source": [
    "files = glob.glob(\"images/**/*.png\")\n",
    "print(len(files))\n",
    "files[:10]"
   ]
  },
  {
   "cell_type": "code",
   "execution_count": null,
   "metadata": {},
   "outputs": [],
   "source": [
    "imgs = []\n",
    "for f in files[:10]:\n",
    "    img = Image.open(f)#imread(f) #imread will read in as NumPy array instead...\n",
    "    imgs.append(img)\n",
    "print(len(imgs))\n",
    "imshow(imgs[0])"
   ]
  },
  {
   "cell_type": "code",
   "execution_count": null,
   "metadata": {},
   "outputs": [],
   "source": []
  }
 ],
 "metadata": {
  "kernelspec": {
   "display_name": "Python [conda env:robots]",
   "language": "python",
   "name": "conda-env-robots-py"
  },
  "language_info": {
   "codemirror_mode": {
    "name": "ipython",
    "version": 3
   },
   "file_extension": ".py",
   "mimetype": "text/x-python",
   "name": "python",
   "nbconvert_exporter": "python",
   "pygments_lexer": "ipython3",
   "version": "3.9.17"
  }
 },
 "nbformat": 4,
 "nbformat_minor": 2
}
